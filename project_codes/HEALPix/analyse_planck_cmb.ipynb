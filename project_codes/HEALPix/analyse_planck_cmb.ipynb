{
 "cells": [
  {
   "cell_type": "markdown",
   "metadata": {},
   "source": [
    "# Analysing the Cosmic Microwave Background (CMB) data of the Planck space observatory\n",
    "\n",
    "The main goal for the mission of the Planck space observatory was to gather data of the CMB radiation more detailed than ever before. During the timeframe of the mission, several data dumps were released to the scientfic public. All of them can be still currently reached freely by anyone from the IRSA project's [data dump](https://irsa.ipac.caltech.edu/data/Planck/). In this directory we can find the data from all 3 data releases in [2013](https://irsa.ipac.caltech.edu/data/Planck/release_1/), [2016](https://irsa.ipac.caltech.edu/data/Planck/release_2/) and [2020](https://irsa.ipac.caltech.edu/data/Planck/release_3/).\n",
    "\n",
    "During the analytic section of this project I worked with the data available here. Under the `/release_*/all_sky_map/` pages we can find several different iteration and filterings of the CMB data, grouped by time, frequency ranges of instruments, filtering types, producing pipelines, etc. There are also intensivity and polarization maps attached to each entry in each categories, alongside numerous other type of datasets."
   ]
  },
  {
   "cell_type": "code",
   "execution_count": null,
   "metadata": {},
   "outputs": [],
   "source": [
    "import os\n",
    "import numpy as np\n",
    "import healpy as hp\n",
    "from pathlib import Path\n",
    "import astropy.io.fits as fits\n",
    "\n",
    "import seaborn as sns\n",
    "import matplotlib as mpl\n",
    "import matplotlib.cm as cm\n",
    "import matplotlib.pyplot as plt\n",
    "from matplotlib.colors import ListedColormap\n",
    "from mpl_toolkits.axes_grid1 import make_axes_locatable"
   ]
  },
  {
   "cell_type": "code",
   "execution_count": null,
   "metadata": {},
   "outputs": [],
   "source": [
    "import reconcmb"
   ]
  },
  {
   "cell_type": "code",
   "execution_count": null,
   "metadata": {},
   "outputs": [],
   "source": [
    "# Inuput and output folders\n",
    "data = '../data/'\n",
    "out = '../out/'"
   ]
  },
  {
   "cell_type": "markdown",
   "metadata": {},
   "source": [
    "### Just some matplotlib and seaborn parameter tuning"
   ]
  },
  {
   "cell_type": "code",
   "execution_count": null,
   "metadata": {},
   "outputs": [],
   "source": [
    "custom_settings = {\n",
    "    'figure.facecolor': '#ffffff',\n",
    "    'axes.facecolor': '#ffffff',\n",
    "    'axes.edgecolor': '0.3',\n",
    "    'axes.linewidth' : '0.5',\n",
    "    'axes.grid': False,\n",
    "    'grid.color': '0.7',\n",
    "    'grid.linestyle': ':',\n",
    "    'grid.alpha': 0.6,\n",
    "    'xtick.bottom': True,\n",
    "    'xtick.top': True,\n",
    "    'ytick.left': True,\n",
    "    'ytick.right': True,\n",
    "}\n",
    "for t in ['xtick', 'ytick']:\n",
    "    custom_settings[f'{t}.direction'] = 'in'\n",
    "    custom_settings[f'{t}.color'] = '0.3'\n",
    "    for m in ['major', 'minor']:\n",
    "        custom_settings[f'{t}.{m}.width'] = 0.5\n",
    "        custom_settings[f'{t}.{m}.size'] = 6 if m == 'major' else 3\n",
    "sns.set_theme(palette=sns.color_palette('deep', as_cmap=False),\n",
    "              rc=custom_settings)\n"
   ]
  },
  {
   "cell_type": "markdown",
   "metadata": {},
   "source": [
    "## 1. Load and visualize a Planck map from a `.fits` dump\n",
    "\n",
    "The most important file is the latest release of the pure CMB map from one of the procession pipelines. I've used data of the *Commander* pipeline, where the corresponding file can be downloaded from [here](https://irsa.ipac.caltech.edu/data/Planck/release_3/all-sky-maps/maps/component-maps/cmb/COM_CMB_IQU-commander_2048_R3.00_full.fits) in a `HEALPix FITS` format. This file consist of 8 fields, where the `I_STOKES_INP` one contains the final Planck CMB temperature fluctuation map."
   ]
  },
  {
   "cell_type": "code",
   "execution_count": null,
   "metadata": {},
   "outputs": [],
   "source": [
    "os.listdir(data)"
   ]
  },
  {
   "cell_type": "code",
   "execution_count": null,
   "metadata": {},
   "outputs": [],
   "source": [
    "file = os.path.join(data, 'COM_CMB_IQU-commander_2048_R3.00_full.fits')\n",
    "# Currently throws two warnings, but it's completely normal behavior\n",
    "#   - Warning to explicitly specify dtype in the future (here it is specified, but still throws warning)\n",
    "#   - Warning for missing INDXSCHM keyword in the fits header (that's the inherent problem of the dataset,\n",
    "#     deal with it)\n",
    "#\n",
    "# FIELD=5 is the INP Intensity map, which is the fully processed CMB temp. anisotropy map\n",
    "hpx, hpx_muK, header = reconcmb.load_HPX(file, field=5)\n",
    "# Calculate the N_SIDE, HEALPix parameter\n",
    "N_SIDE = int(np.sqrt(hpx.shape[0] / 12))"
   ]
  },
  {
   "cell_type": "code",
   "execution_count": null,
   "metadata": {},
   "outputs": [],
   "source": [
    "hpx.shape"
   ]
  },
  {
   "cell_type": "code",
   "execution_count": null,
   "metadata": {},
   "outputs": [],
   "source": [
    "type(header)"
   ]
  },
  {
   "cell_type": "code",
   "execution_count": null,
   "metadata": {},
   "outputs": [],
   "source": [
    "header;"
   ]
  },
  {
   "cell_type": "code",
   "execution_count": null,
   "metadata": {},
   "outputs": [],
   "source": [
    "hpx_proj = reconcmb.get_projection(hpx_muK, proj='orth', N_SIDE=N_SIDE)"
   ]
  },
  {
   "cell_type": "code",
   "execution_count": null,
   "metadata": {},
   "outputs": [],
   "source": [
    "reconcmb.plot_cmb(proj=hpx_proj, cmap=None, c_min=-200, c_max=200,\n",
    "                  cbar=True, save=True, save_filename='cmb-map-planck-2018.pdf')"
   ]
  },
  {
   "cell_type": "markdown",
   "metadata": {},
   "source": [
    "## 2. Calculate power spectrum with `anafast`\n",
    "\n",
    "The `anafast` estimator is built in Fortran90, which was included in the HEALPix library too."
   ]
  },
  {
   "cell_type": "code",
   "execution_count": null,
   "metadata": {},
   "outputs": [],
   "source": [
    "lmax = 2500\n",
    "ell, Cl, Dl, alm = reconcmb.cmb_spectrum(hpx_muK, lmax=lmax, alm=True)"
   ]
  },
  {
   "cell_type": "code",
   "execution_count": null,
   "metadata": {},
   "outputs": [],
   "source": [
    "# Read in the input CMB spectra\n",
    "inp_spec = np.genfromtxt(os.path.join('../data', 'CAMB_real_scalCls.dat'))\n",
    "DlTT = inp_spec[:, 1][:lmax-1]"
   ]
  },
  {
   "cell_type": "code",
   "execution_count": null,
   "metadata": {},
   "outputs": [],
   "source": [
    "reconcmb.plot_spectrum(ell, Dl, DlTT,\n",
    "                       save=False, save_filename='cmb_angular_spectrum_planck_2018')"
   ]
  },
  {
   "cell_type": "code",
   "execution_count": null,
   "metadata": {},
   "outputs": [],
   "source": []
  }
 ],
 "metadata": {
  "kernelspec": {
   "display_name": "astro",
   "language": "python",
   "name": "python3"
  },
  "language_info": {
   "codemirror_mode": {
    "name": "ipython",
    "version": 3
   },
   "file_extension": ".py",
   "mimetype": "text/x-python",
   "name": "python",
   "nbconvert_exporter": "python",
   "pygments_lexer": "ipython3",
   "version": "3.12.8"
  }
 },
 "nbformat": 4,
 "nbformat_minor": 4
}
