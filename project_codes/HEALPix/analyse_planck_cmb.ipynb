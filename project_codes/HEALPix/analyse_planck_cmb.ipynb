{
 "cells": [
  {
   "cell_type": "markdown",
   "metadata": {},
   "source": [
    "# Analysing the Cosmic Microwave Background (CMB) data of the Planck space observatory\n",
    "\n",
    "The main goal for the mission of the Planck space observatory was to gather data of the CMB radiation more detailed than ever before. During the timeframe of the mission, several data dumps were released to the scientfic public. All of them can be still currently reached freely by anyone from the IRSA project's [data dump](https://irsa.ipac.caltech.edu/data/Planck/). In this directory we can find the data from all 3 data releases in [2013](https://irsa.ipac.caltech.edu/data/Planck/release_1/), [2016](https://irsa.ipac.caltech.edu/data/Planck/release_2/) and [2020](https://irsa.ipac.caltech.edu/data/Planck/release_3/).\n",
    "\n",
    "During the analytic section of this project I worked with the data available here. Under the `/release_*/all_sky_map/` pages we can find several different iteration and filterings of the CMB data, grouped by time, frequency ranges of instruments, filtering types, producing pipelines, etc. There are also intensivity and polarization maps attached to each entry in each categories, alongside numerous other type of datasets."
   ]
  },
  {
   "cell_type": "code",
   "execution_count": null,
   "metadata": {},
   "outputs": [],
   "source": [
    "import os\n",
    "import sys\n",
    "import numpy as np\n",
    "import healpy as hp\n",
    "from functools import partial\n",
    "import astropy.io.fits as fits\n",
    "\n",
    "import seaborn as sns\n",
    "import matplotlib as mpl\n",
    "import matplotlib.cm as cm\n",
    "import matplotlib.mlab as mlab\n",
    "import matplotlib.pyplot as plt\n",
    "from matplotlib.colors import ListedColormap\n",
    "from mpl_toolkits.axes_grid1 import make_axes_locatable"
   ]
  },
  {
   "cell_type": "code",
   "execution_count": null,
   "metadata": {},
   "outputs": [],
   "source": [
    "import reconcmb"
   ]
  },
  {
   "cell_type": "code",
   "execution_count": null,
   "metadata": {},
   "outputs": [],
   "source": [
    "data = '../data/'\n",
    "out = '../output/'"
   ]
  },
  {
   "cell_type": "markdown",
   "metadata": {},
   "source": [
    "### Just some matplotlib and seaborn parameter tuning"
   ]
  },
  {
   "cell_type": "code",
   "execution_count": null,
   "metadata": {},
   "outputs": [],
   "source": [
    "# Set axtick dimensions\n",
    "major_size = 6\n",
    "major_width = 1.2\n",
    "minor_size = 3\n",
    "minor_width = 1\n",
    "mpl.rcParams['xtick.major.size'] = major_size\n",
    "mpl.rcParams['xtick.major.width'] = major_width\n",
    "mpl.rcParams['xtick.minor.size'] = minor_size\n",
    "mpl.rcParams['xtick.minor.width'] = minor_width\n",
    "mpl.rcParams['ytick.major.size'] = major_size\n",
    "mpl.rcParams['ytick.major.width'] = major_width\n",
    "mpl.rcParams['ytick.minor.size'] = minor_size\n",
    "mpl.rcParams['ytick.minor.width'] = minor_width\n",
    "\n",
    "mpl.rcParams.update({'figure.autolayout': False})\n",
    "\n",
    "# Seaborn style settings\n",
    "sns.set_style({'axes.axisbelow': True,\n",
    "               'axes.edgecolor': '.8',\n",
    "               'axes.facecolor': 'white',\n",
    "               'axes.grid': True,\n",
    "               'axes.labelcolor': '.15',\n",
    "               'axes.spines.bottom': True,\n",
    "               'axes.spines.left': True,\n",
    "               'axes.spines.right': True,\n",
    "               'axes.spines.top': True,\n",
    "               'figure.facecolor': 'white',\n",
    "               'font.family': ['sans-serif'],\n",
    "               'font.sans-serif': ['Arial',\n",
    "                'DejaVu Sans',\n",
    "                'Liberation Sans',\n",
    "                'Bitstream Vera Sans',\n",
    "                'sans-serif'],\n",
    "               'grid.color': '.8',\n",
    "               'grid.linestyle': '--',\n",
    "               'image.cmap': 'rocket',\n",
    "               'lines.solid_capstyle': 'round',\n",
    "               'patch.edgecolor': 'w',\n",
    "               'patch.force_edgecolor': True,\n",
    "               'text.color': '.15',\n",
    "               'xtick.bottom': True,\n",
    "               'xtick.color': '.15',\n",
    "               'xtick.direction': 'in',\n",
    "               'xtick.top': True,\n",
    "               'ytick.color': '.15',\n",
    "               'ytick.direction': 'in',\n",
    "               'ytick.left': True,\n",
    "               'ytick.right': True})\n",
    "\n",
    "# Colorpalettes, colormaps, etc.\n",
    "sns.set_palette(palette='rocket')"
   ]
  },
  {
   "cell_type": "markdown",
   "metadata": {},
   "source": [
    "## 1. Load and visualize a Planck map from a `.fits` dump\n",
    "\n",
    "The most important file is the latest release of the pure CMB map from one of the procession pipelines. I've used data of the *Commander* pipeline, where the corresponding file can be downloaded from [here](https://irsa.ipac.caltech.edu/data/Planck/release_3/all-sky-maps/maps/component-maps/cmb/COM_CMB_IQU-commander_2048_R3.00_full.fits) in a `HEALPix FITS` format. This file consist of 8 fields, where the `I_STOKES_INP` one contains the final Planck CMB temperature fluctuation map."
   ]
  },
  {
   "cell_type": "code",
   "execution_count": null,
   "metadata": {},
   "outputs": [],
   "source": [
    "os.listdir(data)"
   ]
  },
  {
   "cell_type": "code",
   "execution_count": null,
   "metadata": {},
   "outputs": [],
   "source": [
    "file = data + 'COM_CMB_IQU-commander_2048_R3.00_full.fits'\n",
    "# Currently throws two warnings, but it's completely normal behavior\n",
    "#   - Warning to explicitly specify dtype in the future (here it is specified, but still throws warning)\n",
    "#   - Warning for missing INDXSCHM keyword in the fits header (that's the inherent problem of the dataset,\n",
    "#     deal with it)\n",
    "#\n",
    "# FIELD=5 is the INP Intensity map, which is the fully processed CMB temp. anisotropy map\n",
    "hpx, hpx_muK, header = reconcmb.load_HPX(file, field=5)\n",
    "# Calculate the N_SIDE, HEALPix parameter\n",
    "N_SIDE = int(np.sqrt(hpx.shape[0] / 12))"
   ]
  },
  {
   "cell_type": "code",
   "execution_count": null,
   "metadata": {},
   "outputs": [],
   "source": [
    "hpx.shape"
   ]
  },
  {
   "cell_type": "code",
   "execution_count": null,
   "metadata": {},
   "outputs": [],
   "source": [
    "type(header)"
   ]
  },
  {
   "cell_type": "code",
   "execution_count": null,
   "metadata": {},
   "outputs": [],
   "source": [
    "header;"
   ]
  },
  {
   "cell_type": "code",
   "execution_count": null,
   "metadata": {},
   "outputs": [],
   "source": [
    "hpx_proj = reconcmb.get_projection(hpx_muK, proj='moll', N_SIDE=N_SIDE)"
   ]
  },
  {
   "cell_type": "code",
   "execution_count": null,
   "metadata": {},
   "outputs": [],
   "source": [
    "reconcmb.plot_cmb(proj=hpx_proj, cmap=None, c_min=-300, c_max=300,\n",
    "                  save=False, save_filename='cmb_map_planck_2018')"
   ]
  },
  {
   "cell_type": "markdown",
   "metadata": {},
   "source": [
    "## 2. Calculate power spectrum with `anafast`\n",
    "\n",
    "The `anafast` estimator is built in Fortran90, which was included in the HEALPix library too."
   ]
  },
  {
   "cell_type": "code",
   "execution_count": null,
   "metadata": {},
   "outputs": [],
   "source": [
    "lmax = 2500\n",
    "ell, Cl, Dl, alm = reconcmb.cmb_spectrum(hpx_muK, lmax=lmax, alm=True)"
   ]
  },
  {
   "cell_type": "code",
   "execution_count": null,
   "metadata": {},
   "outputs": [],
   "source": [
    "# Read in the input CMB spectra\n",
    "inp_spec = np.genfromtxt(data + 'CAMB_real_scalCls.dat')\n",
    "DlTT = inp_spec[:,1][:lmax-1]"
   ]
  },
  {
   "cell_type": "code",
   "execution_count": null,
   "metadata": {},
   "outputs": [],
   "source": [
    "reconcmb.plot_spectrum(ell, Dl, DlTT,\n",
    "                       save=False, save_filename='cmb_angular_spectrum_planck_2018')"
   ]
  },
  {
   "cell_type": "code",
   "execution_count": null,
   "metadata": {},
   "outputs": [],
   "source": []
  }
 ],
 "metadata": {
  "kernelspec": {
   "display_name": "Python 3 (ipykernel)",
   "language": "python",
   "name": "python3"
  },
  "language_info": {
   "codemirror_mode": {
    "name": "ipython",
    "version": 3
   },
   "file_extension": ".py",
   "mimetype": "text/x-python",
   "name": "python",
   "nbconvert_exporter": "python",
   "pygments_lexer": "ipython3",
   "version": "3.9.10"
  }
 },
 "nbformat": 4,
 "nbformat_minor": 4
}
