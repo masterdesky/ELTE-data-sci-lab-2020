{
 "cells": [
  {
   "cell_type": "markdown",
   "metadata": {},
   "source": [
    "# Generating Cosmic Microwave Background (CMB) temperature anisotropy maps from arbitrary angular power spectrum"
   ]
  },
  {
   "cell_type": "code",
   "execution_count": null,
   "metadata": {},
   "outputs": [],
   "source": [
    "import os\n",
    "import sys\n",
    "import numpy as np\n",
    "import healpy as hp\n",
    "\n",
    "import matplotlib as mpl\n",
    "import matplotlib.cm as cm\n",
    "import matplotlib.pyplot as plt\n",
    "from mpl_toolkits.axes_grid1 import make_axes_locatable"
   ]
  },
  {
   "cell_type": "code",
   "execution_count": null,
   "metadata": {},
   "outputs": [],
   "source": [
    "import gencmb\n",
    "import reconcmb"
   ]
  },
  {
   "cell_type": "code",
   "execution_count": null,
   "metadata": {},
   "outputs": [],
   "source": [
    "# Inuput and output folders\n",
    "data = '../data/'\n",
    "out = '../out/'"
   ]
  },
  {
   "cell_type": "code",
   "execution_count": null,
   "metadata": {},
   "outputs": [],
   "source": [
    "# Set axtick dimensions\n",
    "major_size = 5\n",
    "minor_size = 3\n",
    "major_width = minor_width = 1\n",
    "for tick in ['xtick', 'ytick']:\n",
    "    mpl.rcParams[f'{tick}.major.size'] = major_size\n",
    "    mpl.rcParams[f'{tick}.major.width'] = major_width\n",
    "    mpl.rcParams[f'{tick}.minor.size'] = minor_size\n",
    "    mpl.rcParams[f'{tick}.minor.width'] = minor_width\n",
    "mpl.rcParams['text.usetex'] = True"
   ]
  },
  {
   "cell_type": "markdown",
   "metadata": {},
   "source": [
    "## Calculate CAMB spectrum"
   ]
  },
  {
   "cell_type": "code",
   "execution_count": null,
   "metadata": {},
   "outputs": [],
   "source": [
    "import camb\n",
    "from camb import model, initialpower"
   ]
  },
  {
   "cell_type": "code",
   "execution_count": null,
   "metadata": {},
   "outputs": [],
   "source": [
    "# Set up a new set of parameters for CAMB\n",
    "pars = camb.CAMBparams()"
   ]
  },
  {
   "cell_type": "code",
   "execution_count": null,
   "metadata": {},
   "outputs": [],
   "source": [
    "# Use Planck2018 TT,TE,EE+lowE+lensing\n",
    "pars.set_cosmology(H0=67.36, ombh2=0.02237, omch2=0.1200, mnu=0.06, omk=0, tau=0.0544)\n",
    "pars.InitPower.set_params(As=2e-9, ns=0.9649, r=0)\n",
    "pars.set_for_lmax(2500, lens_potential_accuracy=0);"
   ]
  },
  {
   "cell_type": "code",
   "execution_count": null,
   "metadata": {},
   "outputs": [],
   "source": [
    "%%time\n",
    "results = camb.get_results(pars)"
   ]
  },
  {
   "cell_type": "code",
   "execution_count": null,
   "metadata": {},
   "outputs": [],
   "source": [
    "%%time\n",
    "powers = results.get_cmb_power_spectra(pars, CMB_unit='muK')"
   ]
  },
  {
   "cell_type": "code",
   "execution_count": null,
   "metadata": {},
   "outputs": [],
   "source": [
    "DlTT = powers['total'][2:-50][:, 0]\n",
    "ell = np.arange(2, DlTT.shape[0]+2)\n",
    "ClTT = DlTT * 2*np.pi / (ell * (ell + 1))"
   ]
  },
  {
   "cell_type": "markdown",
   "metadata": {},
   "source": [
    "## ... or load input angular power spectrum"
   ]
  },
  {
   "cell_type": "code",
   "execution_count": null,
   "metadata": {},
   "outputs": [],
   "source": [
    "#ell, ClTT, DlTT = gencmb.load_spectrum(fname='../data/CAMB_real_scalCls.dat', lmax=2500)"
   ]
  },
  {
   "cell_type": "markdown",
   "metadata": {},
   "source": [
    "## Set parameters for SYNFAST"
   ]
  },
  {
   "cell_type": "code",
   "execution_count": null,
   "metadata": {},
   "outputs": [],
   "source": [
    "# Set FWHM and sigma coefficients to match with Planck's\n",
    "# instruemntal parameters. Since all frequency range have different\n",
    "# FWHM and sigma values, I only gave here an approximate average for them.\n",
    "#\n",
    "# This info can be found here:\n",
    "# - https://wiki.cosmos.esa.int/planck-legacy-archive/index.php/Beams_LFI\n",
    "# - https://wiki.cosmos.esa.int/planckpla/index.php/Effective_Beams\n",
    "fwhm_arcmin = 3\n",
    "fwhm = np.deg2rad(fwhm_arcmin / 60)\n",
    "\n",
    "sigma_arcmin = 0.50\n",
    "sigma = np.deg2rad(sigma_arcmin / 60)"
   ]
  },
  {
   "cell_type": "markdown",
   "metadata": {},
   "source": [
    "### Generate a random HEALPix dataset using SYNFAST"
   ]
  },
  {
   "cell_type": "code",
   "execution_count": null,
   "metadata": {},
   "outputs": [],
   "source": [
    "maps = gencmb.gen_maps(ClTT, N_SIDE=2048, lmax=None, pol=False, pixwin=False, fwhm=fwhm, sigma=sigma)"
   ]
  },
  {
   "cell_type": "markdown",
   "metadata": {},
   "source": [
    "### Map HEALPix dataset to a geographical projection and visualize it"
   ]
  },
  {
   "cell_type": "code",
   "execution_count": null,
   "metadata": {},
   "outputs": [],
   "source": [
    "hpx_proj = reconcmb.get_projection(maps, proj='moll', N_SIDE=2048)"
   ]
  },
  {
   "cell_type": "code",
   "execution_count": null,
   "metadata": {},
   "outputs": [],
   "source": [
    "reconcmb.plot_cmb(proj=hpx_proj, cmap=None, c_min=-300, c_max=300,\n",
    "                  save=True, save_filename='CMB_HEALPix_sim_5.png')"
   ]
  },
  {
   "cell_type": "markdown",
   "metadata": {},
   "source": [
    "### Reconstruct angular power spectrum from generated dataset"
   ]
  },
  {
   "cell_type": "code",
   "execution_count": null,
   "metadata": {},
   "outputs": [],
   "source": [
    "ell, Cl, Dl = reconcmb.cmb_spectrum(maps, lmax=2500, alm=False)"
   ]
  },
  {
   "cell_type": "code",
   "execution_count": null,
   "metadata": {},
   "outputs": [],
   "source": [
    "reconcmb.plot_spectrum(ell, Dl, DlTT,\n",
    "                       save=False, save_filename='default_name_spectrum')"
   ]
  }
 ],
 "metadata": {
  "kernelspec": {
   "display_name": "Python 3 (ipykernel)",
   "language": "python",
   "name": "python3"
  },
  "language_info": {
   "codemirror_mode": {
    "name": "ipython",
    "version": 3
   },
   "file_extension": ".py",
   "mimetype": "text/x-python",
   "name": "python",
   "nbconvert_exporter": "python",
   "pygments_lexer": "ipython3",
   "version": "3.10.12"
  }
 },
 "nbformat": 4,
 "nbformat_minor": 4
}
