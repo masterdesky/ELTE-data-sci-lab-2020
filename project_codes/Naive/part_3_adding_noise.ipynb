{
 "cells": [
  {
   "cell_type": "markdown",
   "metadata": {},
   "source": [
    "# 3. Instrument Beam, Instrument Noise, and Filtering\n",
    "### Original from Jeff McMahon and Renée Hložek "
   ]
  },
  {
   "cell_type": "markdown",
   "metadata": {},
   "source": [
    "We will now add noise and filter the map - so that we have a map with all astrophysical and instrumental effects."
   ]
  },
  {
   "cell_type": "code",
   "execution_count": null,
   "metadata": {},
   "outputs": [],
   "source": [
    "import os\n",
    "import sys\n",
    "import numpy as np\n",
    "\n",
    "import matplotlib as mpl\n",
    "import matplotlib.cm as cm\n",
    "import matplotlib.mlab as mlab\n",
    "import matplotlib.pyplot as plt\n",
    "from matplotlib.colors import LogNorm\n",
    "from mpl_toolkits.axes_grid1 import make_axes_locatable"
   ]
  },
  {
   "cell_type": "code",
   "execution_count": null,
   "metadata": {},
   "outputs": [],
   "source": [
    "from constants import *\n",
    "from cmb_modules import *"
   ]
  },
  {
   "cell_type": "code",
   "execution_count": null,
   "metadata": {},
   "outputs": [],
   "source": [
    "data = '../data/'\n",
    "out = '../out/'"
   ]
  },
  {
   "cell_type": "markdown",
   "metadata": {},
   "source": [
    "### Just some matplotlib and seaborn parameter tuning"
   ]
  },
  {
   "cell_type": "code",
   "execution_count": null,
   "metadata": {},
   "outputs": [],
   "source": [
    "# Set axtick dimensions\n",
    "major_size = 5\n",
    "minor_size = 3\n",
    "major_width = minor_width = 1\n",
    "for tick in ['xtick', 'ytick']:\n",
    "    mpl.rcParams[f'{tick}.major.size'] = major_size\n",
    "    mpl.rcParams[f'{tick}.major.width'] = major_width\n",
    "    mpl.rcParams[f'{tick}.minor.size'] = minor_size\n",
    "    mpl.rcParams[f'{tick}.minor.width'] = minor_width\n",
    "mpl.rcParams['text.usetex'] = True"
   ]
  },
  {
   "cell_type": "markdown",
   "metadata": {},
   "source": [
    "## Section 3.1: Recalculating the results from the previous stages"
   ]
  },
  {
   "cell_type": "code",
   "execution_count": null,
   "metadata": {},
   "outputs": [],
   "source": [
    "## Create a pure CMB map\n",
    "# Read in the input CMB spectra\n",
    "data = np.genfromtxt(data + 'CAMB_real_scalCls.dat',)\n",
    "ell = data[:,0]\n",
    "DlTT = data[:,1]\n",
    "ell_err = data[:,2]\n",
    "DlTT_err = data[:,3]\n",
    "\n",
    "ell2d, ClTT2d, FT_2d, CMB_I = make_CMB_I_map(ell, DlTT, N_x=N_x, N_y=N_y,\n",
    "                                             X_width=X_width, Y_width=Y_width, pix_size=pix_size,\n",
    "                                             random_seed=42)\n",
    "\n",
    "# Make a point source map by generating Poisson distributed background and\n",
    "# adding the exponentially distributed sources over that\n",
    "PSmap_p = poisson_source_component(N_x, N_y, pix_size, number_of_sources, amplitude_of_sources)\n",
    "PSmap_e = exponential_source_component(N_x, N_y, pix_size, number_of_sources_EX, amplitude_of_sources_EX)\n",
    "PSmap = PSmap_p + PSmap_e\n",
    "\n",
    "# Make an SZ map\n",
    "SZmap, SZcat, beta = SZ_source_component(N_x, N_y,\n",
    "                                         X_width, Y_width, pix_size,\n",
    "                                         number_of_SZ_clusters, mean_amplitude_of_SZ_clusters, SZ_beta, SZ_theta_core)\n",
    "\n",
    "# Add them all together to get the sky map at a single freuqency\n",
    "total_map = CMB_I + PSmap + SZmap"
   ]
  },
  {
   "cell_type": "code",
   "execution_count": null,
   "metadata": {},
   "outputs": [],
   "source": [
    "plot_CMB_map(total_map, X_width, Y_width, c_min=c_min, c_max=c_max,\n",
    "             save=False, save_filename='CMB_sim_with_foreground.png',\n",
    "             no_axis=False, no_grid=True, no_title=False,\n",
    "             no_cbar=False)"
   ]
  },
  {
   "cell_type": "markdown",
   "metadata": {},
   "source": [
    "## Section 3.2: Sky Map Convolved with a Beam\n",
    "\n",
    "Telescopes suffer from diffraction which leads to finite resolution effects.  To account for this we generate a Gaussian beam pattern and convolve the map with it."
   ]
  },
  {
   "cell_type": "code",
   "execution_count": null,
   "metadata": {},
   "outputs": [],
   "source": [
    "# FWHM\n",
    "beam_size_fwhp = 1.25\n",
    "# Convolve the signal part of the map\n",
    "CMB_I_convolved = convolve_map_with_gaussian_beam(total_map,\n",
    "                                                  N_x, N_y,\n",
    "                                                  beam_size_fwhp=beam_size_fwhp)"
   ]
  },
  {
   "cell_type": "code",
   "execution_count": null,
   "metadata": {},
   "outputs": [],
   "source": [
    "plot_CMB_map(CMB_I_convolved, X_width, Y_width, c_min=c_min, c_max=c_max,\n",
    "             save=False,\n",
    "             no_axis=False, no_grid=True, no_title=False,\n",
    "             no_cbar=False)"
   ]
  },
  {
   "cell_type": "markdown",
   "metadata": {},
   "source": [
    "This plot shows the simulated map that includes the CMB, point source, and SZ signals and is convolved with an instrumental beam.  The agreement with the real sky maps is now reasonable, but does not yet include instrumental noise."
   ]
  },
  {
   "cell_type": "markdown",
   "metadata": {},
   "source": [
    "<font color='red'>ORIGINAL NOTES: </font> There are three typical beam sizes for CMB experiments: 1) large anguar scale B-mode observatories which have ~30 arcminute beams; 2) medium scale observatorires such as the Planck satellite that has a ~3 arcminute beam, and 3) high resolution observatories such as ACT and SPT that have ~1 arcminute beams."
   ]
  },
  {
   "cell_type": "markdown",
   "metadata": {},
   "source": [
    "### Compare different beam FWHM values"
   ]
  },
  {
   "cell_type": "markdown",
   "metadata": {},
   "source": [
    "#### FWHM = 20 arcmin"
   ]
  },
  {
   "cell_type": "code",
   "execution_count": null,
   "metadata": {},
   "outputs": [],
   "source": [
    "# FWHM\n",
    "beam_size_fwhp = 20\n",
    "# Convolve the signal part of the map\n",
    "CMB_I_convolved = convolve_map_with_gaussian_beam(total_map,\n",
    "                                                  N_x, N_y,\n",
    "                                                  beam_size_fwhp=beam_size_fwhp)"
   ]
  },
  {
   "cell_type": "code",
   "execution_count": null,
   "metadata": {},
   "outputs": [],
   "source": [
    "plot_CMB_map(CMB_I_convolved, X_width, Y_width, c_min=c_min, c_max=c_max,\n",
    "             save=True, save_filename='CMB_sim_fwhm_{0}.png'.format(beam_size_fwhp.strip('.')),\n",
    "             no_axis=False, no_grid=True, no_title=False,\n",
    "             no_cbar=False)"
   ]
  },
  {
   "cell_type": "markdown",
   "metadata": {},
   "source": [
    "#### FWHM = 3 arcmin"
   ]
  },
  {
   "cell_type": "code",
   "execution_count": null,
   "metadata": {},
   "outputs": [],
   "source": [
    "# FWHM\n",
    "beam_size_fwhp = 3\n",
    "# Convolve the signal part of the map\n",
    "CMB_I_convolved = convolve_map_with_gaussian_beam(total_map,\n",
    "                                                  N_x, N_y,\n",
    "                                                  beam_size_fwhp=beam_size_fwhp)"
   ]
  },
  {
   "cell_type": "code",
   "execution_count": null,
   "metadata": {},
   "outputs": [],
   "source": [
    "plot_CMB_map(CMB_I_convolved, X_width, Y_width, c_min=c_min, c_max=c_max,\n",
    "             save=True, save_filename='CMB_sim_fwhm_{0}.png'.format(beam_size_fwhp.strip('.')),\n",
    "             no_axis=False, no_grid=True, no_title=False,\n",
    "             no_cbar=False)"
   ]
  },
  {
   "cell_type": "markdown",
   "metadata": {},
   "source": [
    "#### FWHM = 0.5 arcmin"
   ]
  },
  {
   "cell_type": "code",
   "execution_count": null,
   "metadata": {},
   "outputs": [],
   "source": [
    "# FWHM\n",
    "beam_size_fwhp = 0.5\n",
    "# Convolve the signal part of the map\n",
    "CMB_I_convolved = convolve_map_with_gaussian_beam(total_map,\n",
    "                                                  N_x, N_y,\n",
    "                                                  beam_size_fwhp=beam_size_fwhp)"
   ]
  },
  {
   "cell_type": "code",
   "execution_count": null,
   "metadata": {},
   "outputs": [],
   "source": [
    "plot_CMB_map(CMB_I_convolved, X_width, Y_width, c_min=c_min, c_max=c_max,\n",
    "             save=True, save_filename='CMB_sim_fwhm_{0}.png'.format(beam_size_fwhp.strip('.')),\n",
    "             no_axis=False, no_grid=True, no_title=False,\n",
    "             no_cbar=False)"
   ]
  },
  {
   "cell_type": "markdown",
   "metadata": {},
   "source": [
    "## Section 3.3: Noise Map\n",
    "\n",
    "Ground based CMB instruments suffer from several types of noise.  This includes: (1) White noise drawn from a gaussian distribution; (2) atmospheric noise which grows larger on large angular scales, this can be understood in terms of Kolmogorov turbulence; and (3) $1/f$ noise in the detectors.  Both atmospheric and detector $1/f$ manifest as correlated noise in maps space.  However, like the CMB these noise components are very nearly uncorrelated in Fourier space.  We will build these noise terms in Fourier space and display them in map space. \n",
    "\n",
    "We choose a white noise level of 10 $\\mu$K-arcmin to approximate the current deep maps coming from ACTPol and SPTPol.  The $1/f$ noise is similar to what would be seen in an experiment at the south pole.  When turned on, this noise leads to the effect of \"striping\" in the maps.  We default to turning this component off since if it is included we would need to filter the maps before estimating the power spectrum.  (This is easy, but is not yet implemented).  The atmospheric noise (Kolmogorov turbulence) has a 2D spectrum similar to CMB leading to similar patterns in the maps."
   ]
  },
  {
   "cell_type": "code",
   "execution_count": null,
   "metadata": {},
   "outputs": [],
   "source": [
    "white_noise_level = 10         # White noise [micro K/arcmin]\n",
    "atmospheric_noise_level = 0.1  # Multiply by zero to turn this off\n",
    "one_over_f_noise_level = 0.2   # Multiply by zero to turn this off"
   ]
  },
  {
   "cell_type": "code",
   "execution_count": null,
   "metadata": {},
   "outputs": [],
   "source": [
    "nrows = 1\n",
    "ncols = 3\n",
    "fig, axes = plt.subplots(nrows, ncols, figsize=(ncols*9, nrows*9),\n",
    "                         facecolor='black', subplot_kw={'facecolor' : 'black'})\n",
    "fig.subplots_adjust(wspace=0.35)\n",
    "\n",
    "noises = [\n",
    "    gen_white_noise(N_x, N_y, pix_size, white_noise_level),       # White noise\n",
    "    gen_atmospheric_noise(N_x, N_y, X_width, Y_width, pix_size,\n",
    "                          atmospheric_noise_level),               # Atmoshperic noise\n",
    "    gen_one_over_f_noise(N_x, N_y,\n",
    "                         pix_size, one_over_f_noise_level)        # 1/f noise\n",
    "]\n",
    "noises_titles = [\n",
    "    'White noise map',\n",
    "    'Atmoshperic noise map',\n",
    "    '1/f noise map along X direction',\n",
    "]\n",
    "\n",
    "for i in range(ncols):\n",
    "    ax = axes[i]\n",
    "    im = ax.imshow(np.real(noises[i]), vmin=-100, vmax=100,\n",
    "                   cmap='Greys_r')\n",
    "    im.set_extent([-X_width/2,X_width/2, -Y_width/2,Y_width/2])\n",
    "    \n",
    "    ax.set_title(noises_titles[i],\n",
    "                 color='white', fontsize=axistitlesize, fontweight='bold', pad=10)\n",
    "    ax.set_xlabel('Angle $[^\\circ]$', color='white', fontsize=axislabelsize, fontweight='bold')\n",
    "    ax.set_ylabel('Angle $[^\\circ]$', color='white', fontsize=axislabelsize, fontweight='bold')\n",
    "    ax.tick_params(axis='both', which='major', colors='white', labelsize=axisticksize, labelrotation=42, pad=10)\n",
    "\n",
    "    # Create an axis on the right side of `axes`. The width of `cax` will be 2%\n",
    "    # of `axes` and the padding between `cax` and axes will be fixed at 0.1 inch\n",
    "    divider = make_axes_locatable(ax)\n",
    "    cax = divider.append_axes('right', size='2%', pad=0.1)\n",
    "    cbar = plt.colorbar(mappable=im, cax=cax)#, shrink=0.735, pad=0.02)\n",
    "    cbar.ax.tick_params(labelsize=axiscbarfontsize-3, colors='white')\n",
    "    cbar.set_label('Temperature [$\\mu$K]', color='white',\n",
    "                   fontsize=axiscbarfontsize, rotation=90, labelpad=5)\n",
    "\n",
    "if not os.path.exists(out):\n",
    "    os.makedirs(out)\n",
    "plt.savefig(out + 'CMB_sim_noise_compare.png',\n",
    "            format='png', dpi=200,\n",
    "            facecolor='black', edgecolor='black',\n",
    "            bbox_inches='tight')\n",
    "    \n",
    "plt.show()"
   ]
  },
  {
   "cell_type": "code",
   "execution_count": null,
   "metadata": {},
   "outputs": [],
   "source": [
    "## make an instrument noise map\n",
    "noise = make_noise_map(N_x, N_y,\n",
    "                       X_width, Y_width, pix_size,\n",
    "                       white_noise_level,\n",
    "                       atmospheric_noise_level, one_over_f_noise_level)"
   ]
  },
  {
   "cell_type": "code",
   "execution_count": null,
   "metadata": {},
   "outputs": [],
   "source": [
    "plot_CMB_map(noise, X_width, Y_width, c_min=c_min/4, c_max=c_max/4,\n",
    "             cmap = 'Greys_r',\n",
    "             save=True, save_filename='CMB_sim_noise_full.png',\n",
    "             no_axis=False, no_grid=True, no_title=False,\n",
    "             no_cbar=False)"
   ]
  },
  {
   "cell_type": "markdown",
   "metadata": {},
   "source": [
    "This plot shows a realization of instrumental + atmospheric noise.  The atmospheric noise looks similar to the CMB since it has a similar 2d spectrum.  "
   ]
  },
  {
   "cell_type": "markdown",
   "metadata": {},
   "source": [
    "## Section 3.4: Complete Simulated CMB Map\n",
    "\n",
    "We complete our simulated CMB map by adding the simulated sky map convolved with the beam to our simulated noise map.   "
   ]
  },
  {
   "cell_type": "code",
   "execution_count": null,
   "metadata": {},
   "outputs": [],
   "source": [
    "# Add noise to the signal\n",
    "total_map_plus_noise = CMB_I_convolved + noise"
   ]
  },
  {
   "cell_type": "code",
   "execution_count": null,
   "metadata": {},
   "outputs": [],
   "source": [
    "plot_CMB_map(total_map_plus_noise, X_width, Y_width, c_min=c_min, c_max=c_max,\n",
    "             save=True, save_filename='CMB_sim_final.png',\n",
    "             no_axis=False, no_grid=True, no_title=False,\n",
    "             no_cbar=False)"
   ]
  },
  {
   "cell_type": "markdown",
   "metadata": {},
   "source": [
    "This plot shows a complete simulated CMB map including the key astrophysical and instrumental effects."
   ]
  }
 ],
 "metadata": {
  "kernelspec": {
   "display_name": "Python 3 (ipykernel)",
   "language": "python",
   "name": "python3"
  },
  "language_info": {
   "codemirror_mode": {
    "name": "ipython",
    "version": 3
   },
   "file_extension": ".py",
   "mimetype": "text/x-python",
   "name": "python",
   "nbconvert_exporter": "python",
   "pygments_lexer": "ipython3",
   "version": "3.10.12"
  }
 },
 "nbformat": 4,
 "nbformat_minor": 4
}
