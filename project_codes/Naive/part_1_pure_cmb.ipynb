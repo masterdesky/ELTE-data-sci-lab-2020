{
 "cells": [
  {
   "cell_type": "markdown",
   "metadata": {},
   "source": [
    "# 1. Techniques for the generation of Cosmic Microwave Background maps\n",
    "\n",
    "### Introduction from Jeff McMahon and Renée Hložek for the TMCL - CMB school 2019\n",
    "\n",
    "<i><font color='red'>NOTE</font>: I've changed some redundant information in all texts throughout the notebooks, but left relevant informations unchanged.</i>\n",
    "\n",
    "The Cosmic Microwave Background (CMB) is the oldest observable light in the universe. As such it carries a wealth of cosmological information including: (1) signals from the early universe (primary anisotropy), and (2) distortions imprinted as this light propagates through the universe and encounters collapsed structures (secondary anisotropy). Measurements of these signals give us important measurements and constraints on inflationary parameters, dark energy, dark matter, the sum of the neutrino masses, and many astrophysical processes. The development of CMB instruments and analysis techniques is rapidly evolving.\n",
    "\n",
    "This notebook provides an introduction to analysis techniques for CMB maps as they pertain to high resolution CMB instruments such as the Atacama Cosmology Telescope (ACT) and the South Pole Telescope (SPT). These state of the art instruments have thousands of detectors (pixels) deployed on 6 and 10 meter telescopes which produce arc minute resolution beams at 150 GHz. These telescopes observe by scanning across the sky. The data from each detector are read out at high speed (typically > 50 Hz) to produce 'detector time streams' which are recored along with pointing information and other ancillary data. Sophisticated codes are used to convert these time streams into maps of the CMB sky. These maps can have correlated noise that must be accounted for in data analysis. The mapmaking algorithms are not described here but represent a very interesting big data challenge as they require cleaning time streams by filtering, identifying transient events, and ultimately compressing ~Tb of data down to maps that are typically 100 Mb or less.  \n",
    "\n",
    "Here are example maps from SPT (top, taken from a phys.org article from April 2, 2012 titled \"South Pole Telescope hones in on dark energy, neutrinos\") and ACTPol (bottom, taken from the Naess et al. 2014 CMB polarization paper). Many features are obvious in these maps including: (1) the primary CMB visible as waves in the intensity, (2) active galactic nuclei and other bright astrophysical point sources which manifest as bright dots, (3) clusters of galaxies which show up as darkened point sources, and (4) horizontal stripes (in the SPT map) that are the result of the noise and map filtering. The ACTPol figure shows multiple maps; the T is temperature, Q and U are polarization, and E and B are also polarization but decomposed into a basis such that the E is the amplitude of the curl-free component, and B is the amplitude of the divergence free component of the polarization vector field.\n",
    "\n",
    "![cosmo_img](./img/newcosmology.jpg \"Cosmology\")\n",
    "\n",
    "![cmb_maps](./img/maps_b.png \"CMB\")\n",
    "\n",
    "While the current instruments (ACTPol and SPTPol) have multiple frequencies and polarization sensitivity, for simplicity we consider only a single frequency (150 GHz) and only temperature. Adding extra frequency channels or polarization add the cost of slightly more work and would make this presentation more confusing. Therefore we leave these complications for a future treatment and focus on temperature alone. *[This allows us to show the basics of Monte-Carlo analysis of both the angular power spectrum and matched filter techniques for studying Sunyaev-Zeldovich (SZ) effect (<font color='red'>NOTE</font>: This latter part isn't included in my project.)]*\n",
    "\n",
    "The short course is organized as follows. We beginning by building simulation of the CMB sky including the primary CMB, point sources (AGN and dusty galaxies), the SZ effect, and (if time) CMB lensing. To these maps, we fold in instrumental effects including the beam, instrument and atmospheric noise. *[We then present several analysis techniques including Monte-Carlo estimation of power spectra and matched filter techniques for extraction of sources. An example of a stacking analysis is presented as an example of a cross-correlation with external data sets. Cross-correlation is a very active field of research (<font color='red'>NOTE</font>: This latter part isn't included in my project.)]*\n",
    "\n",
    "In the interest of simplicity we use approximate distributions for source and SZ counts with combinations of exponential and poisson distributions.   We note explicitly where we make these approximations."
   ]
  },
  {
   "cell_type": "markdown",
   "metadata": {},
   "source": [
    "## Code preliminaries"
   ]
  },
  {
   "cell_type": "code",
   "execution_count": null,
   "metadata": {},
   "outputs": [],
   "source": [
    "import os\n",
    "import sys\n",
    "import numpy as np\n",
    "\n",
    "import seaborn as sns\n",
    "import matplotlib as mpl\n",
    "import matplotlib.cm as cm\n",
    "import matplotlib.mlab as mlab\n",
    "import matplotlib.pyplot as plt\n",
    "from matplotlib.colors import LogNorm\n",
    "from matplotlib.colors import ListedColormap\n",
    "from mpl_toolkits.axes_grid1 import make_axes_locatable"
   ]
  },
  {
   "cell_type": "code",
   "execution_count": null,
   "metadata": {},
   "outputs": [],
   "source": [
    "from constants import *\n",
    "from cmb_modules import *"
   ]
  },
  {
   "cell_type": "code",
   "execution_count": null,
   "metadata": {},
   "outputs": [],
   "source": [
    "data = '../data/'\n",
    "out = '../output/'"
   ]
  },
  {
   "cell_type": "markdown",
   "metadata": {},
   "source": [
    "### Just some matplotlib and seaborn parameter tuning"
   ]
  },
  {
   "cell_type": "code",
   "execution_count": null,
   "metadata": {},
   "outputs": [],
   "source": [
    "axistitlesize = 20\n",
    "axisticksize = 17\n",
    "axislabelsize = 26\n",
    "axislegendsize = 23\n",
    "axistextsize = 20\n",
    "axiscbarfontsize = 15\n",
    "\n",
    "# Set axtick dimensions\n",
    "major_size = 6\n",
    "major_width = 1.2\n",
    "minor_size = 3\n",
    "minor_width = 1\n",
    "mpl.rcParams['xtick.major.size'] = major_size\n",
    "mpl.rcParams['xtick.major.width'] = major_width\n",
    "mpl.rcParams['xtick.minor.size'] = minor_size\n",
    "mpl.rcParams['xtick.minor.width'] = minor_width\n",
    "mpl.rcParams['ytick.major.size'] = major_size\n",
    "mpl.rcParams['ytick.major.width'] = major_width\n",
    "mpl.rcParams['ytick.minor.size'] = minor_size\n",
    "mpl.rcParams['ytick.minor.width'] = minor_width\n",
    "\n",
    "mpl.rcParams.update({'figure.autolayout': False})\n",
    "\n",
    "# Seaborn style settings\n",
    "sns.set_style({'axes.axisbelow': True,\n",
    "               'axes.edgecolor': '.8',\n",
    "               'axes.facecolor': 'white',\n",
    "               'axes.grid': True,\n",
    "               'axes.labelcolor': '.15',\n",
    "               'axes.spines.bottom': True,\n",
    "               'axes.spines.left': True,\n",
    "               'axes.spines.right': True,\n",
    "               'axes.spines.top': True,\n",
    "               'figure.facecolor': 'white',\n",
    "               'font.family': ['sans-serif'],\n",
    "               'font.sans-serif': ['Arial',\n",
    "                'DejaVu Sans',\n",
    "                'Liberation Sans',\n",
    "                'Bitstream Vera Sans',\n",
    "                'sans-serif'],\n",
    "               'grid.color': '.8',\n",
    "               'grid.linestyle': '--',\n",
    "               'image.cmap': 'rocket',\n",
    "               'lines.solid_capstyle': 'round',\n",
    "               'patch.edgecolor': 'w',\n",
    "               'patch.force_edgecolor': True,\n",
    "               'text.color': '.15',\n",
    "               'xtick.bottom': True,\n",
    "               'xtick.color': '.15',\n",
    "               'xtick.direction': 'in',\n",
    "               'xtick.top': True,\n",
    "               'ytick.color': '.15',\n",
    "               'ytick.direction': 'in',\n",
    "               'ytick.left': True,\n",
    "               'ytick.right': True})\n",
    "\n",
    "# Colorpalettes, colormaps, etc.\n",
    "sns.set_palette(palette='rocket')"
   ]
  },
  {
   "cell_type": "markdown",
   "metadata": {},
   "source": [
    "## Section 1.1: Angular Power Spectrum\n",
    "The majority of the information content of the CMB is contained in its angular power spectrum.   This spectrum is the amplitude squared of the magnitude of the temperature fluctuations as a function of $\\ell$.  Here $\\ell$ is the variable you have seen before with the spherical harmonics (e.g., $Y_{\\ell m}$).  $\\ell = 0$ corresponds to a constant temperature across the sky, $\\ell = 200$ corresponds approximately to scales of $1^\\circ$.  For a given set of input cosmological parameters these spectra can be computed with codes including CMBFAST or the more modern equivalent CAMB.  The spectrum used below was computed with CAMB web interface on NASA's LAMBDA interface.\n",
    "\n",
    "http://lambda.gsfc.nasa.gov/toolbox/tb_camb_form.cfm\n",
    "\n",
    "It is fun to play with parameters and see how the spectrum changes. \n",
    "\n",
    "The relative locations and amplitudes of the peaks carry a great deal of information.  The location of the first peak at $\\ell \\sim 200$ provided the first definitive measurement that our universe is flat.  The shape of the spectrum constraints a wide variety of cosmological parameters including dark energy and dark matter.  The fall off at high ell (e.g. $\\ell \\gtrsim 1000$ is called the damping tail and it provides constrains on the spectral index from inflation.  A wealth of cosmological parameters are constrained by measurements of this spectrum.  \n",
    "\n",
    "At this point the temperature spectrum is well measured and the open frontiers are polarization and secondary anisotropies that are not included in this spectrum.   We will now build simulated skies including the CMB anisotropy and secondary anisotropies.  After that we will show how to estimate the power spectrum from map data using monte carlo techniques.   This monty carlo approach can be used for interpretation of polarization data and for the interpretation of cross-correlations between CMB and other survey data.\n",
    "\n",
    "Here is how to read in an plot the CMB temperature spectrum from a CAMB simulation."
   ]
  },
  {
   "cell_type": "code",
   "execution_count": null,
   "metadata": {},
   "outputs": [],
   "source": [
    "# Read in the input CMB spectra\n",
    "d = np.genfromtxt(data + 'CAMB_real_scalCls.dat')\n",
    "ell = d[:,0]\n",
    "DlTT = d[:,1]\n",
    "ell_err = d[:,2]\n",
    "DlTT_err = d[:,3]"
   ]
  },
  {
   "cell_type": "code",
   "execution_count": null,
   "metadata": {},
   "outputs": [],
   "source": [
    "fig, axes = plt.subplots(figsize=(15, 9),\n",
    "                         facecolor='black', subplot_kw={'facecolor' : 'black'})\n",
    "cut = 2500\n",
    "axes.plot(ell[:cut], DlTT[:cut],\n",
    "          color=cm.magma(0.93), lw=3)\n",
    "\n",
    "axes.set_xlabel('$\\ell$', fontsize=axislabelsize, fontweight='bold', color='white')\n",
    "axes.set_ylabel('$D_{\\ell}$ [$\\,\\mu$K$^2\\,$]', fontsize=axislabelsize, fontweight='bold', color='white')\n",
    "axes.tick_params(axis='both', which='major', labelsize=axisticksize, colors='white')\n",
    "\n",
    "fig.suptitle('Fig. 1. $D_{\\ell}$ spectra of CMB',\n",
    "             color='white', fontsize=axistitlesize, y=0.04)\n",
    "\n",
    "plt.savefig(out + 'cmb_angular_spectrum.png',\n",
    "            format='png', dpi=200,\n",
    "            facecolor='black', edgecolor='black',\n",
    "            bbox_inches='tight')\n",
    "\n",
    "plt.show()"
   ]
  },
  {
   "cell_type": "markdown",
   "metadata": {},
   "source": [
    "This plot is the angular power spectrum of the CMB temperature anisotropies. It is traditional to plot $D_\\ell$ which give the variance on varius angular scales. This is related to the angular power spectrum $C_\\ell$ by\n",
    "\n",
    "$$\n",
    "D_\\ell = \\frac {\\ell (\\ell+1)} {2 \\pi} C_\\ell.\n",
    "$$\n",
    "\n",
    "The correct thing to use for creating CMB maps is $C_\\ell$, but $D_\\ell$ is what you are used to seeing plotted."
   ]
  },
  {
   "cell_type": "markdown",
   "metadata": {},
   "source": [
    "Interesting <font color='red'>EXCERCISE</font> from the original CMB school notebooks: Go to the NASA LAMBDA CAMB web interface and generate a power spectrum for a for a model universe with a strange component of your choosing (e.g., with spatial curvature, no dark energy, some other bizare component). Make a plot comparing this power spectrum to the vanilla spectrum above."
   ]
  },
  {
   "cell_type": "code",
   "execution_count": null,
   "metadata": {},
   "outputs": [],
   "source": [
    "# Read in the input CMB spectra\n",
    "d = np.genfromtxt(data + 'CAMB_strange_scalCls.dat')\n",
    "ell_strange = d[:,0]\n",
    "DlTT_strange = d[:,1]"
   ]
  },
  {
   "cell_type": "code",
   "execution_count": null,
   "metadata": {},
   "outputs": [],
   "source": [
    "fig, axes = plt.subplots(figsize=(15, 9),\n",
    "                         facecolor='black', subplot_kw={'facecolor' : 'black'})\n",
    "cut = 2500\n",
    "axes.plot(ell[:cut], DlTT[:cut], label='True cosmology',\n",
    "          color=cm.magma(0.93), lw=3, ls='--')\n",
    "axes.plot(ell_strange[:cut], DlTT_strange[:cut], label='Artificial cosmology',\n",
    "          color=cm.magma(0.75), lw=3)\n",
    "\n",
    "axes.set_xlabel('$\\ell$', fontsize=axislabelsize, fontweight='bold', color='white')\n",
    "axes.set_ylabel('$D_{\\ell}$ [$\\,\\mu$K$^2\\,$]', fontsize=axislabelsize, fontweight='bold', color='white')\n",
    "axes.tick_params(axis='both', which='major', labelsize=axisticksize, colors='white')\n",
    "\n",
    "axes.legend(loc='upper right', fontsize=axislegendsize)\n",
    "\n",
    "fig.suptitle('Fig. 2. $D_{\\ell}$ spectra of CMB with $\\\\Omega_{\\\\nu} = 0.1$ compared to the CMB\\n' +\n",
    "             'spectrum generated using true cosmological parameters.',\n",
    "             color='white', fontsize=axistitlesize, y=0.04)\n",
    "\n",
    "plt.savefig(out + 'cmb_angular_spectrum.png',\n",
    "            format='png', dpi=200,\n",
    "            facecolor='black', edgecolor='black',\n",
    "            bbox_inches='tight')\n",
    "\n",
    "plt.show()"
   ]
  },
  {
   "cell_type": "markdown",
   "metadata": {},
   "source": [
    "## Section 1.2: Temperature Anisotropy Map\n",
    "In this step we generate a simulated map of the CMB sky with the spectrum we read in above.  Since the power spectrum is a function of $\\ell$ we need to do much of the work in harmonic space.  If we were generating a map on the full sky we would need to work with spherical harmonics.  Here we consider a small patch of sky ($\\sim 10^\\circ \\times 10^\\circ$) were we cam is the 'flat-sky' approximation and replace $\\ell$ with $k = \\sqrt{k_{x}^{2} + k_{y}^{2}}$.  There is a linear dependance between these variables defined by $\\ell = k \\cdot 2 \\pi$.\n",
    "\n",
    "In the flat sky approximation we generate a CMB map by:\n",
    "    \n",
    "    (1) generating a 2D power spectrum by revolving the above spectrum (properly normalized) about the axis in polar coordinates,\n",
    "    (2) generating a Gaussian random map with unit variance as our 'random realisation',\n",
    "    (3) multiplying that maps from 1 and 2, and\n",
    "    (4) Fourier transforming this to get a real space map.\n",
    "\n",
    "We provide a function to do this and a function to plot this (and other maps) with a uniform color scale."
   ]
  },
  {
   "cell_type": "code",
   "execution_count": null,
   "metadata": {},
   "outputs": [],
   "source": [
    "ell2d, ClTT2d, FT_2d, CMB_I = make_CMB_I_map(ell, DlTT, N_x=N_x, N_y=N_y,\n",
    "                                             X_width=X_width, Y_width=Y_width, pix_size=pix_size,\n",
    "                                             random_seed=69)"
   ]
  },
  {
   "cell_type": "code",
   "execution_count": null,
   "metadata": {},
   "outputs": [],
   "source": [
    "plot_CMB_map(CMB_I, X_width, Y_width, c_min=c_min, c_max=c_max,\n",
    "             save=True, save_filename='CMB_sim_pure_true.png',\n",
    "             no_axis=False, no_grid=True, no_title=False,\n",
    "             no_cbar=False)"
   ]
  },
  {
   "cell_type": "markdown",
   "metadata": {},
   "source": [
    "This contour plot shows simulated CMB map we just generated.  If you generate it multiple times you will find that you get different patterns, however you will see that the typical size of the brightest and darkest spots will stay around $1^\\circ$, corresponding to the peak of the angular power spectrum.  All simulated sky maps are displayed with the same color scale to permit visual comparison."
   ]
  },
  {
   "cell_type": "code",
   "execution_count": null,
   "metadata": {},
   "outputs": [],
   "source": [
    "# Create the the 2D CMB simulated map in Fourier space, note the x and y axis labels need to be fixed\n",
    "CMB_2D = np.real(np.conj(FT_2d) * FT_2d * ell2d * (ell2d + 1) / (2 * np.pi))"
   ]
  },
  {
   "cell_type": "code",
   "execution_count": null,
   "metadata": {},
   "outputs": [],
   "source": [
    "plot_steps_2D_ps(ClTT2d,\n",
    "                 X_width, Y_width,\n",
    "                 no_axis=False, no_grid=True)"
   ]
  },
  {
   "cell_type": "code",
   "execution_count": null,
   "metadata": {},
   "outputs": [],
   "source": [
    "plot_steps_2D_gauss(ell2d, FT_2d, CMB_2D,\n",
    "                    X_width, Y_width,\n",
    "                    no_axis=False, no_grid=True)"
   ]
  },
  {
   "cell_type": "markdown",
   "metadata": {},
   "source": [
    "## Section 1.3: Strange and interesting CMB maps\n",
    "\n",
    "Visualizing the generated strange cosmology or cutting the power spectrum at a given multipole results interesting CMB maps. Explore some of them here."
   ]
  },
  {
   "cell_type": "markdown",
   "metadata": {},
   "source": [
    "### Cut spectrum below $\\ell < 1000$"
   ]
  },
  {
   "cell_type": "code",
   "execution_count": null,
   "metadata": {},
   "outputs": [],
   "source": [
    "DlTT_cb = DlTT.copy()\n",
    "DlTT_cb[ell < 1000] = 0\n",
    "ell2d, ClTT2d, FT_2d, CMB_I = make_CMB_I_map(ell, DlTT_cb, N_x=N_x, N_y=N_y,\n",
    "                                             X_width=X_width, Y_width=Y_width, pix_size=pix_size)"
   ]
  },
  {
   "cell_type": "code",
   "execution_count": null,
   "metadata": {},
   "outputs": [],
   "source": [
    "plot_CMB_map(CMB_I, X_width, Y_width, c_min=-60, c_max=60,\n",
    "             save=False,\n",
    "             no_axis=False, no_grid=True, no_title=False,\n",
    "             no_cbar=False)"
   ]
  },
  {
   "cell_type": "code",
   "execution_count": null,
   "metadata": {},
   "outputs": [],
   "source": [
    "# Create the the 2D CMB simulated map in Fourier space, note the x and y axis labels need to be fixed\n",
    "CMB_2D = np.real(np.conj(FT_2d) * FT_2d*ell2d * (ell2d+1) / (2*np.pi))"
   ]
  },
  {
   "cell_type": "code",
   "execution_count": null,
   "metadata": {},
   "outputs": [],
   "source": [
    "plot_steps_2D_ps(ClTT2d,\n",
    "                 X_width, Y_width,\n",
    "                 no_axis=False, no_grid=True)"
   ]
  },
  {
   "cell_type": "code",
   "execution_count": null,
   "metadata": {},
   "outputs": [],
   "source": [
    "plot_steps_2D_gauss(ell2d, FT_2d, CMB_2D,\n",
    "                    X_width, Y_width,\n",
    "                    no_axis=False, no_grid=True)"
   ]
  },
  {
   "cell_type": "markdown",
   "metadata": {},
   "source": [
    "### Cut spectrum above $\\ell > 1000$"
   ]
  },
  {
   "cell_type": "code",
   "execution_count": null,
   "metadata": {},
   "outputs": [],
   "source": [
    "DlTT_ca = DlTT.copy()\n",
    "DlTT_ca[ell > 1000] = 0\n",
    "ell2d, ClTT2d, FT_2d, CMB_I = make_CMB_I_map(ell, DlTT_ca, N_x=N_x, N_y=N_y,\n",
    "                                             X_width=X_width, Y_width=Y_width, pix_size=pix_size)"
   ]
  },
  {
   "cell_type": "code",
   "execution_count": null,
   "metadata": {},
   "outputs": [],
   "source": [
    "plot_CMB_map(CMB_I, X_width, Y_width, c_min=c_min, c_max=c_max,\n",
    "             save=False,\n",
    "             no_axis=False, no_grid=True, no_title=False,\n",
    "             no_cbar=False)"
   ]
  },
  {
   "cell_type": "code",
   "execution_count": null,
   "metadata": {},
   "outputs": [],
   "source": [
    "# Create the the 2D CMB simulated map in Fourier space, note the x and y axis labels need to be fixed\n",
    "CMB_2D = np.real(np.conj(FT_2d) * FT_2d*ell2d * (ell2d+1) / (2*np.pi))"
   ]
  },
  {
   "cell_type": "code",
   "execution_count": null,
   "metadata": {},
   "outputs": [],
   "source": [
    "plot_steps_2D_ps(ClTT2d,\n",
    "                 X_width, Y_width,\n",
    "                 no_axis=False, no_grid=True)"
   ]
  },
  {
   "cell_type": "code",
   "execution_count": null,
   "metadata": {},
   "outputs": [],
   "source": [
    "plot_steps_2D_gauss(ell2d, FT_2d, CMB_2D,\n",
    "                    X_width, Y_width,\n",
    "                    no_axis=False, no_grid=True)"
   ]
  },
  {
   "cell_type": "markdown",
   "metadata": {},
   "source": [
    "### Strange cosmology\n",
    "\n",
    "Saving both map generated using the true and this strange cosmology and comparing them is interesting I think."
   ]
  },
  {
   "cell_type": "code",
   "execution_count": null,
   "metadata": {},
   "outputs": [],
   "source": [
    "ell2d, ClTT2d, FT_2d, CMB_I = make_CMB_I_map(ell_strange, DlTT_strange, N_x=N_x, N_y=N_y,\n",
    "                                             X_width=X_width, Y_width=Y_width, pix_size=pix_size,\n",
    "                                             random_seed=42)"
   ]
  },
  {
   "cell_type": "code",
   "execution_count": null,
   "metadata": {},
   "outputs": [],
   "source": [
    "plot_CMB_map(CMB_I, X_width, Y_width, c_min=c_min, c_max=c_max,\n",
    "             save=False, save_filename='CMB_sim_pure_strange.png',\n",
    "             no_axis=False, no_grid=True, no_title=False,\n",
    "             no_cbar=False)"
   ]
  },
  {
   "cell_type": "code",
   "execution_count": null,
   "metadata": {},
   "outputs": [],
   "source": [
    "# Create the the 2D CMB simulated map in Fourier space, note the x and y axis labels need to be fixed\n",
    "CMB_2D = np.real(np.conj(FT_2d) * FT_2d*ell2d * (ell2d+1) / (2*np.pi))"
   ]
  },
  {
   "cell_type": "code",
   "execution_count": null,
   "metadata": {},
   "outputs": [],
   "source": [
    "plot_steps_2D_ps(ClTT2d,\n",
    "                 X_width, Y_width,\n",
    "                 no_axis=False, no_grid=True)"
   ]
  },
  {
   "cell_type": "code",
   "execution_count": null,
   "metadata": {},
   "outputs": [],
   "source": [
    "plot_steps_2D_gauss(ell2d, FT_2d, CMB_2D,\n",
    "                    X_width, Y_width,\n",
    "                    no_axis=False, no_grid=True)"
   ]
  },
  {
   "cell_type": "code",
   "execution_count": null,
   "metadata": {},
   "outputs": [],
   "source": []
  }
 ],
 "metadata": {
  "anaconda-cloud": {},
  "kernelspec": {
   "display_name": "Python 3 (ipykernel)",
   "language": "python",
   "name": "python3"
  },
  "language_info": {
   "codemirror_mode": {
    "name": "ipython",
    "version": 3
   },
   "file_extension": ".py",
   "mimetype": "text/x-python",
   "name": "python",
   "nbconvert_exporter": "python",
   "pygments_lexer": "ipython3",
   "version": "3.9.10"
  }
 },
 "nbformat": 4,
 "nbformat_minor": 4
}
