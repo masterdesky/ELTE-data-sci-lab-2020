{
 "cells": [
  {
   "cell_type": "markdown",
   "metadata": {},
   "source": [
    "# Navigable network\n",
    " In this project I will try to reproduce the research about finding a route or path between twitter users, useing decentralized algorithm."
   ]
  },
  {
   "cell_type": "code",
   "execution_count": 4,
   "metadata": {},
   "outputs": [],
   "source": [
    "import pandas as pd\n",
    "import numpy as np\n",
    "import matplotlib.pyplot as plt\n",
    "import networkx as nx\n",
    "import collections as col\n",
    "\n",
    "import powerlaw as pw # pip intall powerlaw \n",
    "\n",
    "import random \n",
    "import seaborn as sn\n",
    "\n",
    "import scipy\n",
    "import math\n",
    "\n",
    "# import dask.dataframe as dd"
   ]
  },
  {
   "cell_type": "code",
   "execution_count": 5,
   "metadata": {},
   "outputs": [],
   "source": [
    "path_data = '../Data/'\n",
    "path_pic = '../Pictures/'\n"
   ]
  },
  {
   "cell_type": "markdown",
   "metadata": {},
   "source": [
    "# Preprocessed files:\n",
    "\n",
    "* ...**sub files**, I selected a *smaller area* of the United States every node is part of this area. And because the navigability feature has no meaning in not fully connected networks, we work with the edgelist, nodelist and neighborlist of the **giant component**(GC) of the network.<br><br>\n",
    "\n",
    "* ...**latlon file** contains every node's ID, with the latitude and longitude coordinates of the node with the transformed **x-y coordinates from lat-lon** (point column) So the euclidean distance works. $d = \\sqrt{(\\vec{x}-\\vec{y})^2}$(https://epsg.io/26917)<br><br>\n",
    "* ...**elist** big networks usually stored as edgelists, each row is an **edge of the network**, edge between a source and a target node. Our network is undirected so the direction or the order of source target nodes doesn't matter.<br><br>\n",
    "\n",
    "* ...**neigh** : Created the **neighborlist of the network**, every node has neighbors (at least 1), those are stored in a **list**, the length of this list is the **degree**, and I added the **local clustering coefficient** of each node to the neighborlist.<br><br>\n"
   ]
  },
  {
   "cell_type": "code",
   "execution_count": 6,
   "metadata": {},
   "outputs": [],
   "source": [
    "# I like long variable names. Sorry.\n",
    "df_neigh_list_sub_GC_nodes = pd.read_excel(path_data+'neighbor_list_small_network_GC.xlsx') \n",
    "df_neigh_list_sub_GC_nodes['neighbors'] = df_neigh_list_sub_GC_nodes.neighbors.apply(lambda x: x[1:-1].split(','))\n",
    "df_neigh_list_sub_GC_nodes['neighbors'] = df_neigh_list_sub_GC_nodes.neighbors.apply(lambda x: [int(xx) for xx in x])\n",
    "\n",
    "df_latlon_sub_GC_nodes = pd.read_excel(path_data+'latlon_points_small_network_GC.xlsx')\n",
    "df_latlon_sub_GC_nodes['point'] = df_latlon_sub_GC_nodes['point'].apply(lambda x: eval(x))\n",
    "\n",
    "df_elist_sub_GC = pd.read_excel(path_data+'edgelist_small_network_GC.xlsx')\n"
   ]
  },
  {
   "cell_type": "markdown",
   "metadata": {},
   "source": [
    "# A few networkscience features:\n",
    "* size of network's GC\n",
    "* degree distribution\n",
    "* complementary cumulative degree distribution \n",
    "* degree distribution's exponent with powerlaw (https://pypi.org/project/powerlaw/ and https://nbviewer.jupyter.org/gist/anonymous/bb4e1dfafd9e90d5bc3d with examples)\n",
    "* average clustering coefficient"
   ]
  },
  {
   "cell_type": "code",
   "execution_count": 7,
   "metadata": {},
   "outputs": [],
   "source": [
    "def nr_of_nodes_from_elist(df_elist):\n",
    "    return (df_elist['source'].append(df_elist['target'])).nunique()\n",
    "\n",
    "def nr_of_edges_from_elist(df_elist):\n",
    "    return len(df_elist)\n",
    "\n",
    "def nr_of_edges_from_elist_parallel(df_elist):\n",
    "    '''Every edge is parallel in df_elist'''\n",
    "    return int(len(df_elist)/2)\n",
    "\n",
    "\n",
    "def make_neigh_list(df_elist):\n",
    "    neighs_of_source = dict(df_elist.groupby(by='source')['target'].apply(list))\n",
    "    \n",
    "    df_neigh = pd.DataFrame({'source':list(neighs_of_source.keys()),'neighbors':list(neighs_of_source.values())})\n",
    "    df_neigh['degree'] = df_neigh['neighbors'].apply(len)\n",
    "    return df_neigh\n",
    "\n",
    "def degdist_from_network(G):\n",
    "    degree_sequence = sorted([d for n, d in G.degree()], reverse=True)  # degree sequence\n",
    "    degreeCount = col.Counter(degree_sequence)\n",
    "    return dict(degreeCount.items())\n",
    "\n",
    "def component_sizedist_from_network(G):\n",
    "    connected_components = [len(c) for c in sorted(nx.connected_components(G), key=len, reverse=True)]\n",
    "    conn_count = col.Counter(connected_components)\n",
    "    return dict(conn_count.items())\n",
    "\n",
    "def degdist_from_neigh_list(df_neigh):\n",
    "    degree_sequence = sorted(list(df_neigh['degree']))\n",
    "    degreeCount = col.Counter(degree_sequence)\n",
    "    degreeCount = {k:(v/len(df_neigh)) for k,v in degreeCount.items()}\n",
    "    return dict(degreeCount.items())\n",
    "\n",
    "def cum_degdist_complementer_from_neigh_list(df_neigh):\n",
    "    degdist = degdist_from_neigh_list(df_neigh)\n",
    "    degdist = col.OrderedDict(sorted(degdist.items()))\n",
    "    \n",
    "    k_vals = list(degdist.keys())\n",
    "    p_probs = list(degdist.values())\n",
    "    \n",
    "    cum_probs = []\n",
    "    sub_list = []\n",
    "    \n",
    "    for i in range(len(k_vals)):\n",
    "        sub_list.clear()\n",
    "        sub_list = [x for x in p_probs[:i+1]]\n",
    "        cum_probs.append(1-sum(sub_list))\n",
    "    return dict(zip(k_vals,cum_probs))\n",
    "\n",
    "def clustering_coeff_neigh_list(df_neigh,node_name):\n",
    "    \n",
    "    neighbors = df_neigh[df_neigh['source']==node_name]['neighbors'].iloc[0]\n",
    "    k = len(neighbors)\n",
    "    if k == 1:\n",
    "        return 0.0\n",
    "    \n",
    "    links = 0.0\n",
    "    \n",
    "    sub_neighs = [set(x) for x in list(df_neigh[df_neigh.source.isin(neighbors)]['neighbors'])]\n",
    "    neighbors = set(neighbors)\n",
    "    for i in range(len(sub_neighs)):\n",
    "        \n",
    "        links += len(sub_neighs[i].intersection(neighbors))\n",
    "    \n",
    "    return links/(k*(k-1))"
   ]
  },
  {
   "cell_type": "code",
   "execution_count": 8,
   "metadata": {},
   "outputs": [
    {
     "name": "stdout",
     "output_type": "stream",
     "text": [
      "Nr. of nodes:  39501\n",
      "Nr. of edges:  193299\n"
     ]
    }
   ],
   "source": [
    "print('Nr. of nodes: ',nr_of_nodes_from_elist(df_elist_sub_GC))\n",
    "print('Nr. of edges: ',nr_of_edges_from_elist(df_elist_sub_GC))\n"
   ]
  },
  {
   "cell_type": "code",
   "execution_count": 9,
   "metadata": {},
   "outputs": [
    {
     "data": {
      "image/png": "[encoded data removed]",
      "text/plain": [
       "<Figure size 432x288 with 1 Axes>"
      ]
     },
     "metadata": {
      "needs_background": "light"
     },
     "output_type": "display_data"
    }
   ],
   "source": [
    "deg_dist_sub = degdist_from_neigh_list(df_neigh_list_sub_GC_nodes)\n",
    "\n",
    "plt.plot(list(deg_dist_sub.keys()),list(deg_dist_sub.values()),'b.',label='Data')\n",
    "plt.xscale('log')\n",
    "plt.yscale('log')\n",
    "\n",
    "plt.title('Degree distribution',fontsize=15)\n",
    "plt.xlabel('k',fontsize=15)\n",
    "plt.ylabel('$p_k$',fontsize=15)\n",
    "plt.legend(fontsize=12)\n",
    "plt.grid()\n",
    "plt.savefig(path_pic+'degdist_small.png',dpi=200)"
   ]
  },
  {
   "cell_type": "code",
   "execution_count": 10,
   "metadata": {},
   "outputs": [
    {
     "data": {
      "image/png": "[encoded data removed]",
      "text/plain": [
       "<Figure size 432x288 with 1 Axes>"
      ]
     },
     "metadata": {
      "needs_background": "light"
     },
     "output_type": "display_data"
    }
   ],
   "source": [
    "cum_deg_dist_sub = cum_degdist_complementer_from_neigh_list(df_neigh_list_sub_GC_nodes)\n",
    "\n",
    "plt.plot(list(cum_deg_dist_sub.keys())[:-1],list(cum_deg_dist_sub.values())[:-1],'b.',label='Data')\n",
    "plt.xscale('log')\n",
    "plt.yscale('log')\n",
    "\n",
    "plt.title('Complementer cummulative degree distribution',fontsize=15)\n",
    "plt.xlabel('k',fontsize=15)\n",
    "plt.ylabel('$P(X < x)$',fontsize=15)\n",
    "plt.legend(fontsize=12)\n",
    "plt.grid()\n",
    "plt.savefig(path_pic+'cum_degdist_small.png',dpi=200)"
   ]
  },
  {
   "cell_type": "code",
   "execution_count": null,
   "metadata": {},
   "outputs": [],
   "source": [
    "deg_dist_sub_squence = list(df_neigh_list_sub_GC_nodes.degree)\n",
    "fit_deg = pw.Fit(deg_dist_sub_squence,discrete=True,xmin=10,xmax=999)\n"
   ]
  },
  {
   "cell_type": "code",
   "execution_count": 17,
   "metadata": {},
   "outputs": [
    {
     "data": {
      "text/plain": [
       "0.012427338101378771"
      ]
     },
     "execution_count": 17,
     "metadata": {},
     "output_type": "execute_result"
    }
   ],
   "source": [
    "fit_deg.sigma"
   ]
  },
  {
   "cell_type": "code",
   "execution_count": 21,
   "metadata": {
    "scrolled": true
   },
   "outputs": [
    {
     "name": "stdout",
     "output_type": "stream",
     "text": [
      "Exponent of degree distribution: 2.374 +/- 0.012\n"
     ]
    }
   ],
   "source": [
    "print('Exponent of degree distribution: %.3f +/-' %fit_deg.alpha,'%.3f' %fit_deg.sigma)"
   ]
  },
  {
   "cell_type": "code",
   "execution_count": 22,
   "metadata": {},
   "outputs": [
    {
     "name": "stdout",
     "output_type": "stream",
     "text": [
      "Avg. clustering coefficient: 0.172\n"
     ]
    }
   ],
   "source": [
    "clust_coef_avg = np.average(df_neigh_list_sub_GC_nodes.clus_coeff)\n",
    "print('Avg. clustering coefficient: %.3f' %clust_coef_avg)"
   ]
  },
  {
   "cell_type": "code",
   "execution_count": null,
   "metadata": {},
   "outputs": [],
   "source": []
  },
  {
   "cell_type": "markdown",
   "metadata": {},
   "source": [
    "# Distance distribution between every pairs\n",
    "\n",
    "* Let's estimate the distance between a handful of users\n",
    "* Let's calculate the distances between 5000 randomly choosen points."
   ]
  },
  {
   "cell_type": "code",
   "execution_count": 11,
   "metadata": {},
   "outputs": [
    {
     "name": "stdout",
     "output_type": "stream",
     "text": [
      "It' difficult to calculate the distance between every node. It would require 6.241 Gb memory\n"
     ]
    }
   ],
   "source": [
    "N = len(df_neigh_list_sub_GC_nodes)\n",
    "space = (((N*N-1)/2) * 8 ) * 1e-9\n",
    "print('It\\' difficult to calculate the distance between every node. It would require %.3f Gb memory' %space)"
   ]
  },
  {
   "cell_type": "code",
   "execution_count": 68,
   "metadata": {},
   "outputs": [
    {
     "name": "stdout",
     "output_type": "stream",
     "text": [
      "CPU times: user 568 ms, sys: 64 ms, total: 632 ms\n",
      "Wall time: 463 ms\n"
     ]
    }
   ],
   "source": [
    "%%time\n",
    "N_sample = 5000\n",
    "points_coords = np.array([np.array([x[0],x[1]]) for x in df_latlon_sub_GC_nodes.sample(N_sample).point])\n",
    "distances_betw_points = scipy.spatial.distance.cdist(points_coords,points_coords)\n",
    "\n",
    "distances_betw_points = distances_betw_points[distances_betw_points != 0.0]\n",
    "distances_betw_points = distances_betw_points.flatten() /1000\n"
   ]
  },
  {
   "cell_type": "code",
   "execution_count": 69,
   "metadata": {},
   "outputs": [
    {
     "data": {
      "text/plain": [
       "Text(0.5, 1.0, 'Distance between random users')"
      ]
     },
     "execution_count": 69,
     "metadata": {},
     "output_type": "execute_result"
    },
    {
     "data": {
      "image/png": "[encoded data removed]",
      "text/plain": [
       "<Figure size 432x288 with 1 Axes>"
      ]
     },
     "metadata": {
      "needs_background": "light"
     },
     "output_type": "display_data"
    }
   ],
   "source": [
    "sn.distplot(distances_betw_points)\n",
    "# plt.xscale('log')\n",
    "plt.xlabel('Distance [km]',fontsize = 15)\n",
    "plt.title('Distance between random users',fontsize = 15)\n",
    "# plt.savefig(path_pic+'distance_dist_of_5000_points.png',dpi = 200)"
   ]
  },
  {
   "cell_type": "markdown",
   "metadata": {},
   "source": [
    "# Conclusion:\n",
    "\n",
    "* The sample is too big to run it myself, and the randomly choosen set doesn't follow a powerlaw.\n",
    "* It's already a subset of the subset of the data. I don't expect similar results. The algorithms are similar to the original research."
   ]
  },
  {
   "cell_type": "markdown",
   "metadata": {},
   "source": [
    "# Greedy algorithm:"
   ]
  },
  {
   "cell_type": "code",
   "execution_count": 104,
   "metadata": {},
   "outputs": [],
   "source": [
    "def get_distance(t1,t2):\n",
    "    return math.sqrt((t1[0]-t2[0])**2 + (t1[1]-t2[1])**2)# it's in meters\n",
    "\n",
    "def get_distance_from_node_names(n1,n2,df_latlon):\n",
    "    t1 = df_latlon[df_latlon.user_id == n1].point.iloc[0]\n",
    "    t2 = df_latlon[df_latlon.user_id == n2].point.iloc[0]\n",
    "    return get_distance(t1,t2)\n",
    "\n",
    "def get_closest_neigh_to_target_node(neighbors,target_node,df_latlon):\n",
    "    target_coord = df_latlon[df_latlon.user_id == target_node].point.iloc[0]\n",
    "    \n",
    "    coordinates = [df_latlon[df_latlon.user_id == n].point.iloc[0] for n in neighbors]\n",
    "    distances = [get_distance(t,target_coord) for t in coordinates]\n",
    "    return neighbors[distances.index(min(distances))]\n",
    "\n",
    "def get_closest_neigh_to_target_node_no_reps(neighbors,target_node,df_latlon,path_nodes):\n",
    "    target_coord = df_latlon[df_latlon.user_id == target_node].point.iloc[0]\n",
    "    \n",
    "    coordinates = [df_latlon[df_latlon.user_id == n].point.iloc[0] for n in neighbors]\n",
    "    distances = [get_distance(t,target_coord) for t in coordinates]\n",
    "    distances = [x for x in distances if x not in path_nodes]\n",
    "    \n",
    "    return neighbors[distances.index(min(distances))]\n",
    "\n",
    "\n",
    "\n",
    "def get_greedy_path(start_node,target_node,df_neigh,df_latlon,max_steps = 30):\n",
    "    \n",
    "    if start_node == target_node:\n",
    "        return []\n",
    "    \n",
    "    nr_step = 0    \n",
    "    current_node = start_node\n",
    "    \n",
    "    path_of_nodes = []\n",
    "    path_of_nodes.append(start_node)\n",
    "    \n",
    "    while nr_step < max_steps and current_node != target_node:\n",
    "        nr_step +=1 \n",
    "        \n",
    "        neighbors_of_curr = df_neigh[df_neigh.source == current_node].neighbors.iloc[0]\n",
    "        neighbors_of_curr = list(set(neighbors_of_curr) - (set(path_of_nodes)))\n",
    "        \n",
    "        if neighbors_of_curr == []:\n",
    "            return path_of_nodes\n",
    "        \n",
    "        current_node = get_closest_neigh_to_target_node(neighbors_of_curr,target_node,df_latlon)\n",
    "        \n",
    "        path_of_nodes.append(current_node)\n",
    "    \n",
    "    return path_of_nodes\n",
    "\n",
    "def get_greedy_path_with_dist(start_node,target_node,df_neigh,df_latlon,max_steps = 30,dist_threshold=1000):\n",
    "    \n",
    "    if start_node == target_node:#don't deal with the same nodes\n",
    "        return []\n",
    "    \n",
    "    nr_step = 0    \n",
    "    current_node = start_node\n",
    "    \n",
    "    path_of_nodes = []\n",
    "    path_of_nodes.append(start_node)\n",
    "    \n",
    "    while nr_step < max_steps and current_node != target_node:\n",
    "        nr_step +=1 \n",
    "        \n",
    "        neighbors_of_curr = df_neigh[df_neigh.source == current_node].neighbors.iloc[0]#nearest neighbors\n",
    "        neighbors_of_curr = list(set(neighbors_of_curr) - (set(path_of_nodes)))# don't hop on the same nodes again, infinite loops and stuff\n",
    "        \n",
    "        if neighbors_of_curr == []:#if run out of nodes: stop\n",
    "            return path_of_nodes\n",
    "        \n",
    "        current_node = get_closest_neigh_to_target_node(neighbors_of_curr,target_node,df_latlon)\n",
    "        \n",
    "        path_of_nodes.append(current_node)\n",
    "        \n",
    "        #break loop, if we are close to the target\n",
    "        dist_start_curr = get_distance_from_node_names(start_node,current_node,df_latlon)\n",
    "        if dist_start_curr < dist_threshold: # less than x meters\n",
    "            nr_step = max_steps\n",
    "    \n",
    "    return path_of_nodes\n"
   ]
  },
  {
   "cell_type": "markdown",
   "metadata": {},
   "source": [
    "# Initialization:"
   ]
  },
  {
   "cell_type": "code",
   "execution_count": 121,
   "metadata": {},
   "outputs": [],
   "source": [
    "nr_pairs = 2000\n",
    "max_hop = 50\n",
    "selected_nodes = random.sample(list(df_neigh_list_sub_GC_nodes.source), 2*nr_pairs)\n",
    "starting_points = selected_nodes[:nr_pairs]\n",
    "target_points = selected_nodes[nr_pairs:]"
   ]
  },
  {
   "cell_type": "markdown",
   "metadata": {},
   "source": [
    "# 1 km threshold"
   ]
  },
  {
   "cell_type": "code",
   "execution_count": 127,
   "metadata": {
    "scrolled": true
   },
   "outputs": [
    {
     "name": "stdout",
     "output_type": "stream",
     "text": [
      "Takes about 16 minutes.\n"
     ]
    }
   ],
   "source": [
    "%%time\n",
    "print('Takes about 16 minutes.')\n",
    "# with 1 km distance threshold\n",
    "threshold_dist = 1000 #meters\n",
    "\n",
    "paths_betw_points_with_dist = []\n",
    "for i in range(nr_pairs):\n",
    "    if i%100 == 0:\n",
    "        print(i)\n",
    "    paths_betw_points_with_dist.append(get_greedy_path_with_dist(starting_points[i],\n",
    "                                                                 target_points[i],\n",
    "                                                                 df_neigh_list_sub_GC_nodes,\n",
    "                                                                 df_latlon_sub_GC_nodes,\n",
    "                                                                 max_steps=max_hop,\n",
    "                                                                 dist_threshold=threshold_dist))"
   ]
  },
  {
   "cell_type": "code",
   "execution_count": 124,
   "metadata": {},
   "outputs": [],
   "source": [
    "df_greedy_results_dist = pd.DataFrame({'start':starting_points,'target':target_points,\n",
    "                                  'path':paths_betw_points_with_dist})\n",
    "df_greedy_results_dist['path_length'] = df_greedy_results_dist.path.apply(lambda x: len(x)) \n",
    "\n",
    "df_greedy_results_dist['distance_at_end'] = df_greedy_results_dist.apply(lambda x: get_distance_from_node_names(x.target,\n",
    "                                                                                               x.path[-1],\n",
    "                                                                                               df_latlon_sub_GC_nodes),axis=1)\n",
    "df_greedy_results_dist['distance_at_start'] = df_greedy_results_dist.apply(lambda x: get_distance_from_node_names(x.target,\n",
    "                                                                                               x.start,\n",
    "                                                                                               df_latlon_sub_GC_nodes),axis=1)\n",
    "\n",
    "df_greedy_results_dist['distance_at_end'] = df_greedy_results_dist['distance_at_end']/1000\n",
    "df_greedy_results_dist['distance_at_start'] = df_greedy_results_dist['distance_at_start']/1000\n"
   ]
  },
  {
   "cell_type": "code",
   "execution_count": 128,
   "metadata": {},
   "outputs": [],
   "source": [
    "# df_greedy_results_dist.to_excel(path_data+'greedy_results_distance_threshold_1000m_2000_pairs.xlsx',index=False)"
   ]
  },
  {
   "cell_type": "markdown",
   "metadata": {},
   "source": [
    "# Repeat the routings on the same algorithm with 0.1 and 10 km threshold:"
   ]
  },
  {
   "cell_type": "markdown",
   "metadata": {},
   "source": [
    "# 10 km"
   ]
  },
  {
   "cell_type": "code",
   "execution_count": 175,
   "metadata": {},
   "outputs": [
    {
     "name": "stdout",
     "output_type": "stream",
     "text": [
      "Takes about 16 minutes.\n",
      "0\n",
      "100\n",
      "200\n",
      "300\n",
      "400\n",
      "500\n",
      "600\n",
      "700\n",
      "800\n",
      "900\n",
      "1000\n",
      "1100\n",
      "1200\n",
      "1300\n",
      "1400\n",
      "1500\n",
      "1600\n",
      "1700\n",
      "1800\n",
      "1900\n",
      "CPU times: user 10min 27s, sys: 212 ms, total: 10min 27s\n",
      "Wall time: 10min 27s\n"
     ]
    }
   ],
   "source": [
    "%%time\n",
    "print('Takes about 10 minutes.')\n",
    "\n",
    "# with 10 km distance threshold\n",
    "nr_pairs = 2000\n",
    "max_hop = 50\n",
    "threshold_dist = 10000 #meters\n",
    "selected_nodes = random.sample(list(df_neigh_list_sub_GC_nodes.source), 2*nr_pairs)\n",
    "starting_points = selected_nodes[:nr_pairs]\n",
    "target_points = selected_nodes[nr_pairs:]\n",
    "\n",
    "\n",
    "paths_betw_points_with_dist_10000 = []\n",
    "for i in range(nr_pairs):\n",
    "    if i%100 == 0:\n",
    "        print(i)\n",
    "    paths_betw_points_with_dist_10000.append(get_greedy_path_with_dist(starting_points[i],\n",
    "                                                                       target_points[i],\n",
    "                                                                       df_neigh_list_sub_GC_nodes,\n",
    "                                                                       df_latlon_sub_GC_nodes,\n",
    "                                                                       max_steps=max_hop,\n",
    "                                                                       dist_threshold=threshold_dist))"
   ]
  },
  {
   "cell_type": "code",
   "execution_count": 176,
   "metadata": {},
   "outputs": [],
   "source": [
    "df_greedy_results_dist_10000 = pd.DataFrame({'start':starting_points,'target':target_points,\n",
    "                                  'path':paths_betw_points_with_dist_10000})\n",
    "df_greedy_results_dist_10000['path_length'] = df_greedy_results_dist_10000.path.apply(lambda x: len(x)) \n",
    "\n",
    "df_greedy_results_dist_10000['distance_at_end'] = df_greedy_results_dist_10000.apply(lambda x: get_distance_from_node_names(x.target,\n",
    "                                                                                               x.path[-1],\n",
    "                                                                                               df_latlon_sub_GC_nodes),axis=1)\n",
    "df_greedy_results_dist_10000['distance_at_start'] = df_greedy_results_dist_10000.apply(lambda x: get_distance_from_node_names(x.target,\n",
    "                                                                                               x.start,\n",
    "                                                                                               df_latlon_sub_GC_nodes),axis=1)\n",
    "\n",
    "df_greedy_results_dist_10000['distance_at_end'] = df_greedy_results_dist_10000['distance_at_end']/1000\n",
    "df_greedy_results_dist_10000['distance_at_start'] = df_greedy_results_dist_10000['distance_at_start']/1000\n"
   ]
  },
  {
   "cell_type": "code",
   "execution_count": 177,
   "metadata": {},
   "outputs": [],
   "source": [
    "# df_greedy_results_dist_10000.to_excel(path_data+'greedy_results_distance_threshold_10000m_2000_pairs.xlsx',index=False)"
   ]
  },
  {
   "cell_type": "markdown",
   "metadata": {},
   "source": [
    "# 0.1 km"
   ]
  },
  {
   "cell_type": "code",
   "execution_count": 178,
   "metadata": {},
   "outputs": [
    {
     "name": "stdout",
     "output_type": "stream",
     "text": [
      "Takes about 16 minutes.\n",
      "0\n",
      "100\n",
      "200\n",
      "300\n",
      "400\n",
      "500\n",
      "600\n",
      "700\n",
      "800\n",
      "900\n",
      "1000\n",
      "1100\n",
      "1200\n",
      "1300\n",
      "1400\n",
      "1500\n",
      "1600\n",
      "1700\n",
      "1800\n",
      "1900\n",
      "CPU times: user 15min 18s, sys: 43.9 ms, total: 15min 18s\n",
      "Wall time: 15min 18s\n"
     ]
    }
   ],
   "source": [
    "%%time\n",
    "print('Takes about 16 minutes.')\n",
    "\n",
    "# with 10 km distance threshold\n",
    "nr_pairs = 2000\n",
    "max_hop = 50\n",
    "threshold_dist = 100 #meters\n",
    "selected_nodes = random.sample(list(df_neigh_list_sub_GC_nodes.source), 2*nr_pairs)\n",
    "starting_points = selected_nodes[:nr_pairs]\n",
    "target_points = selected_nodes[nr_pairs:]\n",
    "\n",
    "\n",
    "paths_betw_points_with_dist_100 = []\n",
    "for i in range(nr_pairs):\n",
    "    if i%100 == 0:\n",
    "        print(i)\n",
    "    paths_betw_points_with_dist_100.append(get_greedy_path_with_dist(starting_points[i],\n",
    "                                                                       target_points[i],\n",
    "                                                                       df_neigh_list_sub_GC_nodes,\n",
    "                                                                       df_latlon_sub_GC_nodes,\n",
    "                                                                       max_steps=max_hop,\n",
    "                                                                       dist_threshold=threshold_dist))"
   ]
  },
  {
   "cell_type": "code",
   "execution_count": 179,
   "metadata": {},
   "outputs": [],
   "source": [
    "df_greedy_results_dist_100 = pd.DataFrame({'start':starting_points,'target':target_points,\n",
    "                                  'path':paths_betw_points_with_dist_100})\n",
    "df_greedy_results_dist_100['path_length'] = df_greedy_results_dist_100.path.apply(lambda x: len(x)) \n",
    "\n",
    "df_greedy_results_dist_100['distance_at_end'] = df_greedy_results_dist_100.apply(lambda x: get_distance_from_node_names(x.target,\n",
    "                                                                                               x.path[-1],\n",
    "                                                                                               df_latlon_sub_GC_nodes),axis=1)\n",
    "df_greedy_results_dist_100['distance_at_start'] = df_greedy_results_dist_100.apply(lambda x: get_distance_from_node_names(x.target,\n",
    "                                                                                               x.start,\n",
    "                                                                                               df_latlon_sub_GC_nodes),axis=1)\n",
    "\n",
    "df_greedy_results_dist_100['distance_at_end'] = df_greedy_results_dist_100['distance_at_end']/1000\n",
    "df_greedy_results_dist_100['distance_at_start'] = df_greedy_results_dist_100['distance_at_start']/1000\n"
   ]
  },
  {
   "cell_type": "code",
   "execution_count": 180,
   "metadata": {},
   "outputs": [],
   "source": [
    "# df_greedy_results_dist_100.to_excel(path_data+'greedy_results_distance_threshold_100m_2000_pairs.xlsx',index=False)"
   ]
  },
  {
   "cell_type": "code",
   "execution_count": null,
   "metadata": {},
   "outputs": [],
   "source": []
  },
  {
   "cell_type": "markdown",
   "metadata": {},
   "source": [
    "# Results:\n",
    "* The ratio of finished path\n",
    "* Visualize one or two path on the map. \n",
    "* Distribution of required hop numbers\n",
    "* Distribution of the distance between the targetnode and the starting node\n",
    "* Distribution of the distance between the targetnode and the last path node\n"
   ]
  },
  {
   "cell_type": "code",
   "execution_count": 24,
   "metadata": {},
   "outputs": [],
   "source": [
    "df_greedy_results_dist = pd.read_excel(path_data+'greedy_results_distance_threshold_1000m_2000_pairs.xlsx')\n",
    "df_greedy_results_dist['path'] = df_greedy_results_dist.path.apply(lambda x: x[1:-1].split(','))\n",
    "df_greedy_results_dist['path'] = df_greedy_results_dist.path.apply(lambda x: [int(xx) for xx in x])\n",
    "\n",
    "\n",
    "df_greedy_results_dist_100 = pd.read_excel(path_data+'greedy_results_distance_threshold_100m_2000_pairs.xlsx')\n",
    "df_greedy_results_dist_100['path'] = df_greedy_results_dist_100.path.apply(lambda x: x[1:-1].split(','))\n",
    "df_greedy_results_dist_100['path'] = df_greedy_results_dist_100.path.apply(lambda x: [int(xx) for xx in x])\n",
    "\n",
    "df_greedy_results_dist_10000 = pd.read_excel(path_data+'greedy_results_distance_threshold_10000m_2000_pairs.xlsx')\n",
    "df_greedy_results_dist_10000['path'] = df_greedy_results_dist_10000.path.apply(lambda x: x[1:-1].split(','))\n",
    "df_greedy_results_dist_10000['path'] = df_greedy_results_dist_10000.path.apply(lambda x: [int(xx) for xx in x])"
   ]
  },
  {
   "cell_type": "code",
   "execution_count": 25,
   "metadata": {},
   "outputs": [],
   "source": [
    "df_greedy_results_dist_finished = df_greedy_results_dist[df_greedy_results_dist.path_length < 51]\n",
    "df_greedy_results_dist_finished_10K = df_greedy_results_dist_10000[df_greedy_results_dist_10000.path_length < 51]\n",
    "df_greedy_results_dist_finished_100 = df_greedy_results_dist_100[df_greedy_results_dist_100.path_length < 51]\n"
   ]
  },
  {
   "cell_type": "code",
   "execution_count": 26,
   "metadata": {},
   "outputs": [],
   "source": [
    "def print_success(df_all,df_finished):\n",
    "    print('The success ratio: ',len(df_finished)/len(df_all))\n",
    "    print(len(df_finished),' successful routing out of ',len(df_all))"
   ]
  },
  {
   "cell_type": "code",
   "execution_count": 27,
   "metadata": {},
   "outputs": [
    {
     "name": "stdout",
     "output_type": "stream",
     "text": [
      "with 1 km threshold:\n",
      "The success ratio:  0.8605\n",
      "1721  successful routing out of  2000\n",
      "with 10 km threshold:\n",
      "The success ratio:  0.9135\n",
      "1827  successful routing out of  2000\n",
      "with 0.1 km threshold:\n",
      "The success ratio:  0.8535\n",
      "1707  successful routing out of  2000\n"
     ]
    }
   ],
   "source": [
    "print('with 1 km threshold:')\n",
    "print_success(df_greedy_results_dist,df_greedy_results_dist_finished)\n",
    "print('with 10 km threshold:')\n",
    "print_success(df_greedy_results_dist_10000,df_greedy_results_dist_finished_10K)\n",
    "print('with 0.1 km threshold:')\n",
    "print_success(df_greedy_results_dist_100,df_greedy_results_dist_finished_100)\n"
   ]
  },
  {
   "cell_type": "code",
   "execution_count": 28,
   "metadata": {},
   "outputs": [
    {
     "data": {
      "image/png": "[encoded data removed]",
      "text/plain": [
       "<Figure size 432x288 with 1 Axes>"
      ]
     },
     "metadata": {
      "needs_background": "light"
     },
     "output_type": "display_data"
    }
   ],
   "source": [
    "req_hop_nrs_1km = col.Counter(df_greedy_results_dist_finished.path_length)\n",
    "plt.bar(list(req_hop_nrs_1km.keys()),height = list(req_hop_nrs_1km.values()),label='Distance < 1 km')\n",
    "plt.xlabel('Hop number',fontsize = 15)\n",
    "plt.ylabel('Counter',fontsize = 15)\n",
    "plt.title('Path lengths',fontsize = 15)\n",
    "plt.legend(fontsize = 12)\n",
    "plt.savefig(path_pic+'success_plot_2000_pairs_dist_thresh_1000m.png',dpi = 200)"
   ]
  },
  {
   "cell_type": "code",
   "execution_count": 29,
   "metadata": {},
   "outputs": [
    {
     "data": {
      "image/png": "[encoded data removed]",
      "text/plain": [
       "<Figure size 432x288 with 1 Axes>"
      ]
     },
     "metadata": {
      "needs_background": "light"
     },
     "output_type": "display_data"
    }
   ],
   "source": [
    "req_hop_nrs_100m = col.Counter(df_greedy_results_dist_finished_100.path_length)\n",
    "plt.bar(list(req_hop_nrs_100m.keys()),height = list(req_hop_nrs_100m.values()),label='Distance < 0.1 km')\n",
    "plt.xlabel('Hop number',fontsize = 15)\n",
    "plt.ylabel('Counter',fontsize = 15)\n",
    "plt.title('Path lengths',fontsize = 15)\n",
    "plt.legend(fontsize = 12)\n",
    "plt.savefig(path_pic+'success_plot_2000_pairs_dist_thresh_100m.png',dpi = 200)"
   ]
  },
  {
   "cell_type": "code",
   "execution_count": 30,
   "metadata": {},
   "outputs": [
    {
     "data": {
      "image/png": "[encoded data removed]",
      "text/plain": [
       "<Figure size 432x288 with 1 Axes>"
      ]
     },
     "metadata": {
      "needs_background": "light"
     },
     "output_type": "display_data"
    }
   ],
   "source": [
    "req_hop_nrs_10Km = col.Counter(df_greedy_results_dist_finished_10K.path_length)\n",
    "plt.bar(list(req_hop_nrs_10Km.keys()),height = list(req_hop_nrs_10Km.values()),label='Distance < 10 km')\n",
    "plt.xlabel('Hop number',fontsize = 15)\n",
    "plt.ylabel('Counter',fontsize = 15)\n",
    "plt.title('Path lengths',fontsize = 15)\n",
    "plt.legend(fontsize = 12)\n",
    "plt.savefig(path_pic+'success_plot_2000_pairs_thresh_10000m.png',dpi = 200)"
   ]
  },
  {
   "cell_type": "code",
   "execution_count": 31,
   "metadata": {},
   "outputs": [
    {
     "data": {
      "image/png": "[encoded data removed]",
      "text/plain": [
       "<Figure size 864x576 with 1 Axes>"
      ]
     },
     "metadata": {
      "needs_background": "light"
     },
     "output_type": "display_data"
    }
   ],
   "source": [
    "req_hop_nrs_100m = col.OrderedDict(sorted(col.Counter(df_greedy_results_dist_finished_100.path_length).items()))\n",
    "req_hop_nrs_1km = col.OrderedDict(sorted(col.Counter(df_greedy_results_dist_finished.path_length).items()))\n",
    "req_hop_nrs_10Km = col.OrderedDict(sorted(col.Counter(df_greedy_results_dist_finished_10K.path_length).items()))\n",
    "\n",
    "req_hop_nrs_100m = {k:v/len(df_greedy_results_dist_finished_100) for k,v in req_hop_nrs_100m.items()}\n",
    "req_hop_nrs_1km = {k:v/len(df_greedy_results_dist_finished) for k,v in req_hop_nrs_1km.items()}\n",
    "req_hop_nrs_10Km = {k:v/len(df_greedy_results_dist_finished_10K) for k,v in req_hop_nrs_10Km.items()}\n",
    "\n",
    "\n",
    "plt.figure(figsize=(12,8))\n",
    "plt.bar(list(req_hop_nrs_100m.keys()),height = list(req_hop_nrs_100m.values()),color = 'red',alpha=0.3,label='Distance < 0.1 km')\n",
    "plt.bar(list(req_hop_nrs_1km.keys()),height = list(req_hop_nrs_1km.values()),color = 'blue',alpha=0.3,label='Distance < 1 km')\n",
    "plt.bar(list(req_hop_nrs_10Km.keys()),height = list(req_hop_nrs_10Km.values()),color = 'green',alpha=0.3,label='Distance < 10 km')\n",
    "\n",
    "\n",
    "# plt.plot(list(req_hop_nrs_100m.keys()),list(req_hop_nrs_100m.values()),'_',ms=10,color = 'red')\n",
    "# plt.plot(list(req_hop_nrs_1km.keys()),list(req_hop_nrs_1km.values()),'_',ms=10,color = 'blue')\n",
    "# plt.plot(list(req_hop_nrs_10Km.keys()),list(req_hop_nrs_10Km.values()),'_',ms=10,color = 'green')\n",
    "\n",
    "plt.plot(list(req_hop_nrs_100m.keys()),list(req_hop_nrs_100m.values()),'-',ms=10,color = 'red')\n",
    "plt.plot(list(req_hop_nrs_1km.keys()),list(req_hop_nrs_1km.values()),'-',ms=10,color = 'blue')\n",
    "plt.plot(list(req_hop_nrs_10Km.keys()),list(req_hop_nrs_10Km.values()),'-',ms=10,color = 'green')\n",
    "\n",
    "plt.xlabel('Hop number',fontsize = 20)\n",
    "plt.ylabel('Relative frequency',fontsize = 20)\n",
    "plt.title('Path lengths',fontsize = 20)\n",
    "plt.legend(fontsize = 20)\n",
    "plt.savefig(path_pic+'hop_nr_dist_all_min_threshold_plot_2000_pairs.png',dpi = 200)"
   ]
  },
  {
   "cell_type": "code",
   "execution_count": 32,
   "metadata": {},
   "outputs": [
    {
     "data": {
      "text/plain": [
       "Text(0.5, 1.0, 'Distance between the target node and the end of path')"
      ]
     },
     "execution_count": 32,
     "metadata": {},
     "output_type": "execute_result"
    },
    {
     "data": {
      "image/png": "[encoded data removed]",
      "text/plain": [
       "<Figure size 432x288 with 1 Axes>"
      ]
     },
     "metadata": {
      "needs_background": "light"
     },
     "output_type": "display_data"
    }
   ],
   "source": [
    "distances_end = list(df_greedy_results_dist.distance_at_end)\n",
    "# sn.distplot(distances_end,bins=20,norm_hist=False)\n",
    "plt.hist(distances_end,bins=35)\n",
    "plt.xlabel('Distance [km]',fontsize = 15)\n",
    "plt.ylabel('Counter',fontsize=15)\n",
    "plt.title('Distance between the target node and the end of path',fontsize = 15)\n",
    "# plt.savefig(path_pic+'distance_at_end_plot_2000_pairs.png',dpi = 200)"
   ]
  },
  {
   "cell_type": "code",
   "execution_count": 174,
   "metadata": {},
   "outputs": [
    {
     "data": {
      "image/png": "[encoded data removed]",
      "text/plain": [
       "<Figure size 432x288 with 1 Axes>"
      ]
     },
     "metadata": {
      "needs_background": "light"
     },
     "output_type": "display_data"
    }
   ],
   "source": [
    "distances_start = list(df_greedy_results_dist.distance_at_start)\n",
    "# sn.distplot(distances_start,bins=20,norm_hist=False)\n",
    "plt.hist(distances_start,bins=35)\n",
    "plt.ylabel('Counter',fontsize=15)\n",
    "plt.xlabel('Distance [km]',fontsize = 15)\n",
    "plt.title('Distance between the target node and the beginning',fontsize = 15)\n",
    "# plt.savefig(path_pic+'distance_at_start_plot_2000_pairs.png',dpi = 200)"
   ]
  },
  {
   "cell_type": "markdown",
   "metadata": {},
   "source": [
    "# Results and difficulties:\n",
    "* The algorithm can find a path between the starting and target nodes in general. Or at lest reduce the distance between two users.\n",
    "* But it has its own **limits**:\n",
    "\n",
    "\n",
    "* Doesn't reach the target if the path length would be more than the **max hop number**\n",
    "* **Infinity loops**, in these cases the algorithm breaks and returns with the last closest node\n",
    "* Hop in a **dead end**.  If the closest neighbor to the target has only degree, there it has no more edges, so we can't get closer to the target, and we can't return the last node. "
   ]
  },
  {
   "cell_type": "code",
   "execution_count": null,
   "metadata": {},
   "outputs": [],
   "source": []
  },
  {
   "cell_type": "code",
   "execution_count": null,
   "metadata": {},
   "outputs": [],
   "source": []
  },
  {
   "cell_type": "code",
   "execution_count": null,
   "metadata": {},
   "outputs": [],
   "source": []
  },
  {
   "cell_type": "markdown",
   "metadata": {},
   "source": [
    "# Without distance threshold:"
   ]
  },
  {
   "cell_type": "code",
   "execution_count": 109,
   "metadata": {},
   "outputs": [],
   "source": [
    "# %%time \n",
    "# #without distance threshold\n",
    "# paths_betw_points = []\n",
    "# for i in range(nr_pairs):\n",
    "#     if i%50 == 0:\n",
    "#         print(i)\n",
    "#     paths_betw_points.append(get_greedy_path(starting_points[i],\n",
    "#                                              target_points[i],\n",
    "#                                              df_neigh_list_sub_GC_nodes,\n",
    "#                                              df_latlon_sub_GC_nodes,\n",
    "#                                              max_steps=max_hop))"
   ]
  },
  {
   "cell_type": "code",
   "execution_count": 110,
   "metadata": {},
   "outputs": [],
   "source": [
    "# df_greedy_results = pd.DataFrame({'start':starting_points,'target':target_points,\n",
    "#                                   'path':paths_betw_points})\n",
    "# df_greedy_results['path_length'] = df_greedy_results.path.apply(lambda x: len(x)) \n",
    "\n",
    "# df_greedy_results['distance_at_end'] = df_greedy_results.apply(lambda x: get_distance_from_node_names(x.target,\n",
    "#                                                                                                x.path[-1],\n",
    "#                                                                                                df_latlon_sub_GC_nodes),axis=1)\n",
    "# df_greedy_results['distance_at_start'] = df_greedy_results.apply(lambda x: get_distance_from_node_names(x.target,\n",
    "#                                                                                                x.start,\n",
    "#                                                                                                df_latlon_sub_GC_nodes),axis=1)\n",
    "\n",
    "# df_greedy_results['distance_at_end'] = df_greedy_results['distance_at_end']/1000\n",
    "# df_greedy_results['distance_at_start'] = df_greedy_results['distance_at_start']/1000\n"
   ]
  }
 ],
 "metadata": {
  "kernelspec": {
   "display_name": "Python 3",
   "language": "python",
   "name": "python3"
  },
  "language_info": {
   "codemirror_mode": {
    "name": "ipython",
    "version": 3
   },
   "file_extension": ".py",
   "mimetype": "text/x-python",
   "name": "python",
   "nbconvert_exporter": "python",
   "pygments_lexer": "ipython3",
   "version": "3.7.8"
  }
 },
 "nbformat": 4,
 "nbformat_minor": 4
}
