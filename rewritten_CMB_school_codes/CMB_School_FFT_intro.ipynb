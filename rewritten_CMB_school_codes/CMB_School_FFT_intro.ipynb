{
 "cells": [
  {
   "cell_type": "markdown",
   "metadata": {},
   "source": [
    "# Introduction to Fourier Theory and iPython Notebooks\n",
    "\n",
    "Renee Hlozek and Jeff McMahon"
   ]
  },
  {
   "cell_type": "markdown",
   "metadata": {},
   "source": [
    "We will take a look at what Fourier transforms do in 1D and 2D.  In its simplest form, a 1D Fourier transform takes a time-varying function, measures possible cycles it contains, and returns the amplitude, offset and rotation for all cycles that were found.\n",
    "\n",
    "An iPython Notebook consists of a standard and efficient Python back end with a web-based interface.  The interface includs both text boxes and code boxes.  The text boxes support latex math and the output of the code (both text and plots) are all stored in the document.  All cells in a given notebook share the same namespace.  This arrangement allows for increadibly well documnted code that is easy to read and support.\n",
    "\n",
    "To get started with this intro, we must first import a number of python libraries."
   ]
  },
  {
   "cell_type": "code",
   "execution_count": null,
   "metadata": {},
   "outputs": [],
   "source": [
    "import os\n",
    "import cmath\n",
    "import numpy as np\n",
    "\n",
    "import seaborn as sns\n",
    "import matplotlib as mpl\n",
    "import matplotlib.cm as cmap\n",
    "import matplotlib.pyplot as plt\n",
    "from mpl_toolkits.axes_grid1 import make_axes_locatable"
   ]
  },
  {
   "cell_type": "markdown",
   "metadata": {},
   "source": [
    "### Just some matplotlib and seaborn parameter tuning"
   ]
  },
  {
   "cell_type": "code",
   "execution_count": null,
   "metadata": {},
   "outputs": [],
   "source": [
    "axistitlesize = 20\n",
    "axisticksize = 17\n",
    "axislabelsize = 26\n",
    "axislegendsize = 23\n",
    "axistextsize = 20\n",
    "axiscbarfontsize = 15\n",
    "\n",
    "# Set axtick dimensions\n",
    "major_size = 6\n",
    "major_width = 1.2\n",
    "minor_size = 3\n",
    "minor_width = 1\n",
    "mpl.rcParams['xtick.major.size'] = major_size\n",
    "mpl.rcParams['xtick.major.width'] = major_width\n",
    "mpl.rcParams['xtick.minor.size'] = minor_size\n",
    "mpl.rcParams['xtick.minor.width'] = minor_width\n",
    "mpl.rcParams['ytick.major.size'] = major_size\n",
    "mpl.rcParams['ytick.major.width'] = major_width\n",
    "mpl.rcParams['ytick.minor.size'] = minor_size\n",
    "mpl.rcParams['ytick.minor.width'] = minor_width\n",
    "\n",
    "mpl.rcParams.update({'figure.autolayout': False})\n",
    "\n",
    "# Seaborn style settings\n",
    "sns.set_style({'axes.axisbelow': True,\n",
    "               'axes.edgecolor': '.8',\n",
    "               'axes.facecolor': 'white',\n",
    "               'axes.grid': True,\n",
    "               'axes.labelcolor': '.15',\n",
    "               'axes.spines.bottom': True,\n",
    "               'axes.spines.left': True,\n",
    "               'axes.spines.right': True,\n",
    "               'axes.spines.top': True,\n",
    "               'figure.facecolor': 'white',\n",
    "               'font.family': ['sans-serif'],\n",
    "               'font.sans-serif': ['Arial',\n",
    "                'DejaVu Sans',\n",
    "                'Liberation Sans',\n",
    "                'Bitstream Vera Sans',\n",
    "                'sans-serif'],\n",
    "               'grid.color': '.8',\n",
    "               'grid.linestyle': '--',\n",
    "               'image.cmap': 'rocket',\n",
    "               'lines.solid_capstyle': 'round',\n",
    "               'patch.edgecolor': 'w',\n",
    "               'patch.force_edgecolor': True,\n",
    "               'text.color': '.15',\n",
    "               'xtick.bottom': True,\n",
    "               'xtick.color': '.15',\n",
    "               'xtick.direction': 'in',\n",
    "               'xtick.top': True,\n",
    "               'ytick.color': '.15',\n",
    "               'ytick.direction': 'in',\n",
    "               'ytick.left': True,\n",
    "               'ytick.right': True})\n",
    "\n",
    "# Colorpalettes, colormaps, etc.\n",
    "sns.set_palette(palette='rocket')"
   ]
  },
  {
   "cell_type": "markdown",
   "metadata": {},
   "source": [
    "## Fourier transform"
   ]
  },
  {
   "cell_type": "markdown",
   "metadata": {},
   "source": [
    "### Implement Fourier transform in standard Python"
   ]
  },
  {
   "cell_type": "markdown",
   "metadata": {},
   "source": [
    "We start by writing our own <a href=\"https://en.wikipedia.org/wiki/Discrete_Fourier_transform\">discrete Fourier transform</a>\n",
    "\n",
    "$$\n",
    "X_k = \\sum_{n\\ =\\ 0}^{N-1} x_n e^{-2\\pi i k n\\ /\\ N}\n",
    "$$\n",
    "\n",
    "\n",
    "With every Fourier trasform routine, make sure to check the normalisation and sign conventions."
   ]
  },
  {
   "cell_type": "code",
   "execution_count": null,
   "metadata": {},
   "outputs": [],
   "source": [
    "def fourier(x):\n",
    "    N = len(x)\n",
    "    fourier = np.zeros(N, dtype=complex)\n",
    "    for k in range(N):\n",
    "        fourier_n = 0\n",
    "        for n in range(N):\n",
    "            fourier_n += x[n] * cmath.exp(-1j * 2* np.pi * k * n / N)\n",
    "        fourier[k] = fourier_n\n",
    "    return fourier"
   ]
  },
  {
   "cell_type": "markdown",
   "metadata": {},
   "source": [
    "The inverse Fourier trasnform is defined as:\n",
    "\n",
    "$$\n",
    "x_n = \\frac 1 N \\sum_{k\\ =\\ 0}^{N-1} X_k e^{2\\pi i k n\\ /\\ N}\n",
    "$$\n"
   ]
  },
  {
   "cell_type": "code",
   "execution_count": null,
   "metadata": {},
   "outputs": [],
   "source": [
    "def inv_fourier(X):\n",
    "    N = len(X)\n",
    "    inv_fourier = np.zeros(N, dtype=complex)\n",
    "    for n in range(N):\n",
    "        inv_fourier_k = 0\n",
    "        for k in range(N):\n",
    "            inv_fourier_k += X[k] * cmath.exp(1j * 2 * np.pi * k * n / N)\n",
    "        inv_fourier[n] = inv_fourier_k / N\n",
    "    return inv_fourier"
   ]
  },
  {
   "cell_type": "markdown",
   "metadata": {},
   "source": [
    "### Create sine wave signal\n",
    "\n",
    "We want to test our code by inserting a sine wave signal and then checking that:\n",
    "\n",
    "    (1) our Fourier transform matches the fft transform from within numpy\n",
    "    (2) that if we inverse transform the Fourier transform we get the original wave back!\n",
    "\n",
    "First we create an input sine wave signal."
   ]
  },
  {
   "cell_type": "code",
   "execution_count": null,
   "metadata": {},
   "outputs": [],
   "source": [
    "# Set parameters of the sine wave signal \n",
    "N = 1024 # degrees (Number of samples)\n",
    "a = 50 #float(np.random.randint(1, 100))  ## random integer (amplitude) between 0 and 100\n",
    "f = 50 #float(np.random.randint(1, 50))   ## random integer (frequency) between 0 and 50\n",
    "p = 12 #float(np.random.randint(0, 360))  ## random integer (phase) between 0 and 360\n",
    "\n",
    "print(\"Input Sine Wave Paramaters:\")\n",
    "print(\"frequency = \" + str(f))   ## not that strings can be added in python, very convenient\n",
    "print(\"amplitude = \" + str(a))\n",
    "print(\"phase ang = \" + str(p))\n",
    "\n",
    "# Make a pure sine wave array\n",
    "t = np.arange(0, N) / N   # A time variable from 0 to 1\n",
    "fn = a * np.sin((2* np.pi * f * t) +     # \n",
    "                (p / 360 * 2 * np.pi))   # Phase"
   ]
  },
  {
   "cell_type": "code",
   "execution_count": null,
   "metadata": {},
   "outputs": [],
   "source": [
    "fig, axes = plt.subplots(figsize=(15, 9))\n",
    "\n",
    "axes.plot(t, fn.real,\n",
    "          color='tab:blue')\n",
    "axes.set_xlabel('Time [arb]', fontsize=axislabelsize, fontweight='bold')\n",
    "axes.set_ylabel('Amplitude [arb]', fontsize=axislabelsize, fontweight='bold')\n",
    "axes.tick_params(axis='both', which='major', labelsize=axisticksize)\n",
    "\n",
    "plt.show()"
   ]
  },
  {
   "cell_type": "markdown",
   "metadata": {},
   "source": [
    "### Test created Fourier transform functions\n",
    "\n",
    "Next we calculate the Fourier trasnform using our fourier transform function and examine the results.  \n",
    "\n",
    "NOTE:  Given the normalization convention we have adopted we use the inverse FFT to go from time to frequency to ensure that we get a meanigful amplitude out of our results.   "
   ]
  },
  {
   "cell_type": "code",
   "execution_count": null,
   "metadata": {},
   "outputs": [],
   "source": [
    "fourier_trans = inv_fourier(fn)"
   ]
  },
  {
   "cell_type": "code",
   "execution_count": null,
   "metadata": {},
   "outputs": [],
   "source": [
    "fig, axes = plt.subplots(figsize=(15, 9))\n",
    "\n",
    "axes.plot((fourier_trans.real), label='Real part',\n",
    "          color='blue')\n",
    "axes.plot((fourier_trans.imag), label='Imag. part',\n",
    "          color='tab:red', ls=':')\n",
    "\n",
    "axes.set_title('FFT results vs FFT index', fontsize=axistitlesize, fontweight='bold')\n",
    "axes.set_xlabel('FFT index', fontsize=axislabelsize, fontweight='bold')\n",
    "axes.set_ylabel('Amplitude [arb]', fontsize=axislabelsize, fontweight='bold')\n",
    "axes.tick_params(axis='both', which='major', labelsize=axisticksize)\n",
    "\n",
    "axes.legend(loc='best', fontsize=axislegendsize)\n",
    "\n",
    "plt.show()"
   ]
  },
  {
   "cell_type": "markdown",
   "metadata": {},
   "source": [
    "Notes: \n",
    "\n",
    "    (1) The output of the FFT includes both positive and negative freuqnecy components (right and left going waves) as the algorythem can not distinguish these two cases.  \n",
    "\n",
    "    (2) The amplitude of the waves is given by the quadrature sum of the real and imaginary parts (e.g., the magnitude of the complex FFT).\n",
    "\n",
    "    (3) Zero frequency occurs left of the array, not in the center.   Thus you have to be very careful interpreting the frequency content.   For reference, the arrangement is right going waves on the left counting up to the max frequnecy in the array, then left going waves counting down to the first non-zero frequency on the right."
   ]
  },
  {
   "cell_type": "markdown",
   "metadata": {},
   "source": [
    "## Title\n",
    "\n",
    "Next we create an a frequency array in the same indexing scheme of the FFT.  We do this by identifiying the highest frequnecy that can be encoded within our array (See the Nyqyist-Shannon sampling theorem).  This is called the Nyquist frequency and is calculated as\n",
    "\n",
    "$$\n",
    "f_{Nyquist} = \\frac{1}{2} f_{sample},\n",
    "$$\n",
    "where $f_{sample} = 1/T_{sample}$ is the sampling frequency."
   ]
  },
  {
   "cell_type": "markdown",
   "metadata": {},
   "source": [
    "### Make an array to represent the frequency"
   ]
  },
  {
   "cell_type": "code",
   "execution_count": null,
   "metadata": {},
   "outputs": [],
   "source": [
    "# Step size for the `t` grid\n",
    "delta_t = (t[1] - t[0])\n",
    "freq_nyquist = 0.5 * (1 / delta_t)\n",
    "print('Nyquist frequency: ', freq_nyquist)\n",
    "\n",
    "freq = np.roll(np.linspace(-1, 1, N) * freq_nyquist, int(N/2))"
   ]
  },
  {
   "cell_type": "markdown",
   "metadata": {},
   "source": [
    "### Plot the frequency array"
   ]
  },
  {
   "cell_type": "code",
   "execution_count": null,
   "metadata": {},
   "outputs": [],
   "source": [
    "fig, axes = plt.subplots(figsize=(15, 9))\n",
    "\n",
    "axes.plot(freq,\n",
    "          color='tab:blue', lw=3)\n",
    "\n",
    "axes.set_title('FFT frequency', fontsize=axistitlesize, fontweight='bold')\n",
    "axes.set_xlabel('Index (identical to FFT index)', fontsize=axislabelsize, fontweight='bold')\n",
    "axes.set_ylabel('Frequency [arb]', fontsize=axislabelsize, fontweight='bold')\n",
    "axes.tick_params(axis='both', which='major', labelsize=axisticksize)\n",
    "\n",
    "plt.show()"
   ]
  },
  {
   "cell_type": "markdown",
   "metadata": {},
   "source": [
    "As expected the zero frequency is on the left and the maximum frequency is in the middle.  The sign of the frequency encodes right vs left going waves.\n",
    "\n",
    "Now that we have the frequency array we can plot the FFT vs frequency and easily interpret the results."
   ]
  },
  {
   "cell_type": "markdown",
   "metadata": {},
   "source": [
    "### Make a plot of the real and imaginary parts of the FFT"
   ]
  },
  {
   "cell_type": "code",
   "execution_count": null,
   "metadata": {},
   "outputs": [],
   "source": [
    "fig, axes = plt.subplots(figsize=(15, 9))\n",
    "\n",
    "axes.plot(freq, (fourier_trans.real), label='Real part',\n",
    "          color='blue')\n",
    "axes.plot(freq, (fourier_trans.imag), label='Imag. part',\n",
    "          color='tab:red', ls=':')\n",
    "\n",
    "axes.set_xlim(-100, 100)\n",
    "axes.set_ylim(-50, 50)\n",
    "\n",
    "axes.set_title('FFT results vs frequency', fontsize=axistitlesize, fontweight='bold')\n",
    "axes.set_xlabel('Frequency [arb]', fontsize=axislabelsize, fontweight='bold')\n",
    "axes.set_ylabel('Amplitude [arb]', fontsize=axislabelsize, fontweight='bold')\n",
    "axes.tick_params(axis='both', which='major', labelsize=axisticksize)\n",
    "\n",
    "axes.legend(loc='best', fontsize=axislegendsize)\n",
    "\n",
    "plt.show()"
   ]
  },
  {
   "cell_type": "markdown",
   "metadata": {},
   "source": [
    "<font color='red'>EXCERCISE: </font> Convince yourself that the inverse FFT is giving the correct amplitude and frequency results.\n"
   ]
  },
  {
   "cell_type": "markdown",
   "metadata": {},
   "source": [
    "Next we verify that the FFT and iFFT are in fact inverse functions:"
   ]
  },
  {
   "cell_type": "code",
   "execution_count": null,
   "metadata": {},
   "outputs": [],
   "source": [
    "inv_fourier_trans = fourier(fourier_trans)"
   ]
  },
  {
   "cell_type": "code",
   "execution_count": null,
   "metadata": {},
   "outputs": [],
   "source": [
    "fig, axes = plt.subplots(figsize=(15, 9))\n",
    "\n",
    "axes.plot(fn.real, label='Original signal',\n",
    "          color='blue', alpha=0.7)\n",
    "axes.plot(inv_fourier_trans.real, label='Inv. Fourier',\n",
    "          color='tab:red',  lw=3, ls=':')\n",
    "\n",
    "axes.set_xlabel('Time [arb]', fontsize=axislabelsize, fontweight='bold')\n",
    "axes.set_ylabel('Amplitude [arb]', fontsize=axislabelsize, fontweight='bold')\n",
    "axes.tick_params(axis='both', which='major', labelsize=axisticksize)\n",
    "\n",
    "axes.legend(loc='upper right', fontsize=axislegendsize)\n",
    "\n",
    "fig.suptitle('Fig. 5. $\\\\operatorname{iFFT} \\\\left( \\\\operatorname{FFT} \\\\left(x_{n} \\\\right) \\\\right)$ vs original signal\\n' +\n",
    "             'Maximum difference between the results: {0:.5e}.\\n'.format(np.max(np.abs(inv_fourier_trans - fn))) +\n",
    "             '(This should be zero within rounding error.)',\n",
    "             fontsize=axistitlesize, y=0.04)\n",
    "plt.show()"
   ]
  },
  {
   "cell_type": "markdown",
   "metadata": {},
   "source": [
    "In the final 1-d excercise we check that the Numpy implemntation of the FFT is identical to our implemntation"
   ]
  },
  {
   "cell_type": "code",
   "execution_count": null,
   "metadata": {},
   "outputs": [],
   "source": [
    "# FFT using numpy code\n",
    "ftpl = np.fft.ifft(fn)"
   ]
  },
  {
   "cell_type": "code",
   "execution_count": null,
   "metadata": {},
   "outputs": [],
   "source": [
    "## make a plot comparing these functions\n",
    "fig, axes = plt.subplots(figsize=(15, 9))\n",
    "\n",
    "axes.plot(freq, np.abs(ftpl), label='Numpy FFT',\n",
    "          color='blue', alpha=0.7)\n",
    "axes.plot(freq, np.abs(fourier_trans), label='Custom FFT',\n",
    "          color='tab:red', lw=3, ls=':')\n",
    "\n",
    "axes.set_xlabel('Frequency [arb]', fontsize=axislabelsize, fontweight='bold')\n",
    "axes.set_ylabel('Amplitude [arb]', fontsize=axislabelsize, fontweight='bold')\n",
    "axes.tick_params(axis='both', which='major', labelsize=axisticksize)\n",
    "\n",
    "fig.suptitle('Fig. 5. Difference between Numpy\\'s built-in FFT and \\n' +\n",
    "             'Maximum difference between the results: {0:.5e}.\\n'.format(np.max(np.abs(fourier_trans - ftpl))) +\n",
    "             '(This should be zero within rounding error.)',\n",
    "             fontsize=axistitlesize, y=0.04)\n",
    "\n",
    "plt.show()"
   ]
  },
  {
   "cell_type": "markdown",
   "metadata": {},
   "source": [
    "Unsurprisingly the two algorythms agree within numerical rounding errors.\n",
    "\n",
    "<font color='red'>EXCERCISE: </font> Write code to generate a few functions where we know the Fourier transform well, eg. a Gaussian, a delta function etc. Use the code above and plot the FTs of these functions. Use the numpy code to check!"
   ]
  },
  {
   "cell_type": "code",
   "execution_count": null,
   "metadata": {},
   "outputs": [],
   "source": [
    "# Your code here"
   ]
  },
  {
   "cell_type": "markdown",
   "metadata": {},
   "source": [
    "## Convolutions\n",
    "\n",
    "The <a href=\"https://en.wikipedia.org/wiki/Convolution\">convolution</a> of two discretely sampled (with $N$ samples) functions $f_i$ and $g_i$ is defined as\n",
    "\n",
    "$$\n",
    "(f \\ast g)_{k} = \\sum_{i\\ =\\ 0}^{N-1} f_{k} g_{i-k}\n",
    "$$.\n",
    "\n",
    "In other words, to calcuate the convolution: (1) muplitply two functions and sum them to get a number and (2) repeat the procedure for all possible offsets.\n",
    "\n",
    "In the following example we compute the convolution of a gaussina with a two delta functions."
   ]
  },
  {
   "cell_type": "code",
   "execution_count": null,
   "metadata": {},
   "outputs": [],
   "source": [
    "from scipy.stats import chi2"
   ]
  },
  {
   "cell_type": "code",
   "execution_count": null,
   "metadata": {},
   "outputs": [],
   "source": [
    "def convolution(f, g):\n",
    "    g = g[::-1]\n",
    "    N = f.size\n",
    "    conv = np.zeros(N)\n",
    "    \n",
    "    for i in range(N):\n",
    "        conv[i] = np.sum(f * np.roll(g, i))\n",
    "    return(conv)"
   ]
  },
  {
   "cell_type": "code",
   "execution_count": null,
   "metadata": {},
   "outputs": [],
   "source": [
    "f = np.zeros(N)\n",
    "f[int(N/6)] = 1\n",
    "f[int(N*5/6)] = 1\n",
    "\n",
    "g = chi2.pdf(t.real, 55)\n",
    "g = g/np.max(g)\n",
    "\n",
    "gauss = True\n",
    "if gauss:\n",
    "    g = np.exp(-5 * ((t - np.mean(t)) / 0.1)**2)\n",
    "\n",
    "# Convolution of function `f` and `g`\n",
    "conv = convolution(f, g)"
   ]
  },
  {
   "cell_type": "code",
   "execution_count": null,
   "metadata": {},
   "outputs": [],
   "source": [
    "fig, axes = plt.subplots(figsize=(15, 9))\n",
    "\n",
    "axes.plot(t, f, label='$f$',\n",
    "          color='tab:blue')\n",
    "axes.plot(t, g, label='$g$',\n",
    "          color='tab:green')\n",
    "axes.plot(t, conv, label='$f \\\\ast g$',\n",
    "          color='tab:red', lw=3, ls='--')\n",
    "\n",
    "axes.set_xlim(np.min(t), np.max(t))\n",
    "axes.set_ylim(0, 1.2)\n",
    "\n",
    "axes.set_xlabel('Frequency [arb]', fontsize=axislabelsize, fontweight='bold')\n",
    "axes.set_ylabel('Amplitude [arb]', fontsize=axislabelsize, fontweight='bold')\n",
    "axes.tick_params(axis='both', which='major', labelsize=axisticksize)\n",
    "\n",
    "fig.suptitle('Fig. 6. The functions $f$ (blue), $g$ (green), and the convolution of these (red)',\n",
    "             fontsize=axistitlesize, y=0.04)\n",
    "\n",
    "axes.legend(loc='upper right', ncol=2, fontsize=axislegendsize)\n",
    "\n",
    "plt.show()"
   ]
  },
  {
   "cell_type": "markdown",
   "metadata": {},
   "source": [
    "If you selected \"gaussian\" to be true, note that since the green Gaussian curve is centered between the functions: the convolution peaks at points when the offsets center the gaussian on the blue delta functions.  For our applicaitons we often want to center the results such that the convolution peaks directly on the delta functions.  To do this we must center the convolving kernal (again Gaussian or $\\chi^2$ depending on what you chose above) at zero frequency which following the convention in the FFT is the left edge of the array.  We do this in the following example."
   ]
  },
  {
   "cell_type": "code",
   "execution_count": null,
   "metadata": {},
   "outputs": [],
   "source": [
    "conv_prev = convolution(f, g)\n",
    "# Roll the function `g` by the Nyquist frequency to shift it\n",
    "conv = convolution(f, np.roll(g, int(N/2)))"
   ]
  },
  {
   "cell_type": "code",
   "execution_count": null,
   "metadata": {},
   "outputs": [],
   "source": [
    "fig, axes = plt.subplots(figsize=(15, 9))\n",
    "\n",
    "axes.plot(t, f, label='$f$',\n",
    "          color='tab:blue')\n",
    "axes.plot(t, g, label='$g$',\n",
    "          color='tab:green')\n",
    "axes.plot(t, conv_prev, label='$f \\\\ast g$',\n",
    "          color='tab:red', lw=3, ls='--')\n",
    "axes.plot(t, conv, label='Shifted $f \\\\ast g$',\n",
    "          color='magenta', lw=3, ls='--')\n",
    "\n",
    "axes.set_xlim(np.min(t), np.max(t))\n",
    "axes.set_ylim(0, 1.2)\n",
    "\n",
    "axes.set_xlabel('Frequency [arb]', fontsize=axislabelsize, fontweight='bold')\n",
    "axes.set_ylabel('Amplitude [arb]', fontsize=axislabelsize, fontweight='bold')\n",
    "axes.tick_params(axis='both', which='major', labelsize=axisticksize)\n",
    "\n",
    "fig.suptitle('Fig. 7. The functions $f$ (blue), $g$ (green), and the original (magenta)\\n and shifted convolution of these (red)',\n",
    "             fontsize=axistitlesize, y=0.04)\n",
    "\n",
    "axes.legend(loc='upper right', ncol=2, fontsize=axislegendsize)\n",
    "\n",
    "plt.show()"
   ]
  },
  {
   "cell_type": "markdown",
   "metadata": {},
   "source": [
    "Given the uniquity of the need to center convolutions this way numpy has an \"fftshift\" function built in to do this, rather than us using the roll function. The fftshift computes the Nyquist frequency if the lenght of the vector is even, and shifts by that amount, so that the zero-frequency component is at the center of the spectrum.\n",
    "\n",
    "Speed is a big issue in convolutions.  Conveniently there is a way to massively accelerate this algorythem using the FFT with the convolution theorem:\n",
    "\n",
    "$$\n",
    "\\left( f  * g \\right) = \\operatorname{iFFT} \\left( \\operatorname{FFT}(f) * \\operatorname{FFT}(g) \\right)\n",
    "$$\n",
    "\n",
    "In other words the convoluiton is the inverse fourier transform of the product of the fourier transforms of the two functions."
   ]
  },
  {
   "cell_type": "code",
   "execution_count": null,
   "metadata": {},
   "outputs": [],
   "source": [
    "def fft_convolve(f, g):\n",
    "    \n",
    "    FFTf = fourier(f)\n",
    "    FFTg = fourier(g)\n",
    "    conv = inv_fourier(FFTf*FFTg)\n",
    "    \n",
    "    return conv"
   ]
  },
  {
   "cell_type": "code",
   "execution_count": null,
   "metadata": {},
   "outputs": [],
   "source": [
    "conv = fft_convolve(f, np.roll(g, int(N/2)))\n",
    "npconv = fft_convolve(f, np.fft.fftshift(g))"
   ]
  },
  {
   "cell_type": "code",
   "execution_count": null,
   "metadata": {},
   "outputs": [],
   "source": [
    "fig, axes = plt.subplots(figsize=(15, 9))\n",
    "\n",
    "axes.plot(t, f, label='$f$',\n",
    "          color='tab:blue')\n",
    "axes.plot(t, g, label='$g$',\n",
    "          color='tab:green')\n",
    "axes.plot(t, conv.real, label='$f \\\\ast g$ with roll',\n",
    "          color='black', lw=3, ls=':', alpha=1, zorder=3)\n",
    "axes.plot(t, npconv.real, label='$f \\\\ast g$ with fftshift',\n",
    "          color='tab:red', lw=3, ls='--', alpha=1)\n",
    "\n",
    "axes.set_xlim(np.min(t), np.max(t))\n",
    "axes.set_ylim(0, 1.2)\n",
    "\n",
    "axes.set_xlabel('Frequency [arb]', fontsize=axislabelsize, fontweight='bold')\n",
    "axes.set_ylabel('Amplitude [arb]', fontsize=axislabelsize, fontweight='bold')\n",
    "axes.tick_params(axis='both', which='major', labelsize=axisticksize)\n",
    "\n",
    "fig.suptitle('Fig. 7. The functions $f$ (blue), $g$ (green), and their convolution with roll (black) and fftshift (red)',\n",
    "             fontsize=axistitlesize, y=0.01)\n",
    "\n",
    "axes.legend(loc='upper right', ncol=2, fontsize=axislegendsize)\n",
    "\n",
    "plt.show()"
   ]
  },
  {
   "cell_type": "markdown",
   "metadata": {},
   "source": [
    "As expected the results are the same for this method as for the direct method."
   ]
  },
  {
   "cell_type": "markdown",
   "metadata": {},
   "source": [
    "## Centering and FFTs\n",
    "\n",
    "Centering of the input to the FFT is realted to the phase in the output.  In the following example (which is a cautionary tale) we see how offsetting the input can result in a strong phase modultion (eg rotation beteen real and imaginary) in the ouput."
   ]
  },
  {
   "cell_type": "code",
   "execution_count": null,
   "metadata": {},
   "outputs": [],
   "source": [
    "g = np.exp(-5 * ((t - np.mean(t))/0.1)**2)"
   ]
  },
  {
   "cell_type": "code",
   "execution_count": null,
   "metadata": {},
   "outputs": [],
   "source": [
    "fig, axes = plt.subplots(figsize=(15, 9))\n",
    "\n",
    "# Default centering\n",
    "axes.plot(t, np.fft.fftshift(np.fft.fft(g).real), label='Real, default',\n",
    "          color='tab:blue', lw=3)\n",
    "axes.plot(t, np.fft.fftshift(np.fft.fft(g).imag), label='Imag., default',\n",
    "          color='tab:blue', ls='--')\n",
    "# Centering with a shift of the input\n",
    "axes.plot(t, np.fft.fftshift(np.fft.fft(np.fft.fftshift(g)).real), label='Real, shift',\n",
    "          color='tab:red', lw=3)\n",
    "axes.plot(t, np.fft.fftshift(np.fft.fft(np.fft.fftshift(g)).imag), label='Imag., shift',\n",
    "          color='tab:red', ls='--')\n",
    "\n",
    "axes.set_xlim(0.45, 0.55)\n",
    "axes.set_ylim(-100, 100)\n",
    "\n",
    "axes.set_xlabel('Time [arb]', fontsize=axislabelsize, fontweight='bold')\n",
    "axes.set_ylabel('Amplitude [arb]', fontsize=axislabelsize, fontweight='bold')\n",
    "axes.tick_params(axis='both', which='major', labelsize=axisticksize)\n",
    "\n",
    "axes.legend(loc='best', fontsize=axislegendsize)\n",
    "fig.suptitle('Fig. 8. FFT results for default centering (blue) and shifted(red).\\nReal part is continuous, imaginary part is dashed',\n",
    "             fontsize=axistitlesize, y=0.01)\n",
    "\n",
    "plt.show()"
   ]
  },
  {
   "cell_type": "markdown",
   "metadata": {},
   "source": [
    "It is clear that both centerings give the same info, but the phase has been rotated to make the result purely real by shifting the input before the FFT.  If you see oscillaitons in your FFT results, this is almost always what is happening."
   ]
  },
  {
   "cell_type": "markdown",
   "metadata": {},
   "source": [
    "# Two dimensional FFTs\n",
    "\n",
    "FFT2 implements the fourier transform in two dimensions. We will use the fft2 functionality of Numpy extensively in this course so here we build a few examples.   First we will generate a 2D gaussian and visualize its 2d fft."
   ]
  },
  {
   "cell_type": "code",
   "execution_count": null,
   "metadata": {},
   "outputs": [],
   "source": [
    "## First make a coordinate system\n",
    "# Number of points along an axis\n",
    "N = 256\n",
    "# Make a 2d array of x and y coordinates\n",
    "x, y = np.meshgrid(np.linspace(-1, 1, N), np.linspace(-1, 1, N))\n",
    "# Calculate the radial coordinate of each pixel\n",
    "r = np.sqrt(x**2 + y**2)\n",
    "\n",
    "# Now make a 2D Gaussian\n",
    "gaussian_2d = np.exp(-0.5 * (r/0.05)**2)"
   ]
  },
  {
   "cell_type": "code",
   "execution_count": null,
   "metadata": {},
   "outputs": [],
   "source": [
    "fig, axes = plt.subplots(figsize=(12, 12))\n",
    "axes.set_aspect('equal')\n",
    "axes.grid(False)\n",
    "\n",
    "im = axes.imshow(gaussian_2d, interpolation='bilinear', origin='lower', cmap=cmap.RdBu_r)\n",
    "\n",
    "axes.set_xlabel('x', fontsize=axislabelsize, fontweight='bold')\n",
    "axes.set_ylabel('y', fontsize=axislabelsize, fontweight='bold')\n",
    "axes.tick_params(axis='both', which='major', labelsize=axisticksize)\n",
    "\n",
    "# Create an axis on the right side of `axes`. The width of `cax` will be 5%\n",
    "# of `axes` and the padding between `cax` and axes will be fixed at 0.1 inch\n",
    "divider = make_axes_locatable(axes)\n",
    "cax = divider.append_axes('right', size='5%', pad=0.1)\n",
    "cbar = plt.colorbar(mappable=im, cax=cax)\n",
    "cbar.ax.tick_params(labelsize=axiscbarfontsize, colors='black')\n",
    "\n",
    "plt.show()"
   ]
  },
  {
   "cell_type": "code",
   "execution_count": null,
   "metadata": {},
   "outputs": [],
   "source": [
    "# Calculate the 2D FFT of our Gaussian\n",
    "fft_ga_2d = np.fft.fft2(gaussian_2d)"
   ]
  },
  {
   "cell_type": "code",
   "execution_count": null,
   "metadata": {},
   "outputs": [],
   "source": [
    "nrows = 1\n",
    "ncols = 2\n",
    "fig, axes = plt.subplots(nrows, ncols, figsize=(ncols*12, nrows*12))\n",
    "\n",
    "plotted = [fft_ga_2d.real, fft_ga_2d.imag]\n",
    "titles = ['Real part of FFT2', 'Imaginary part of FFT2']\n",
    "\n",
    "for i in range(ncols):\n",
    "    ax = axes[i]\n",
    "    ax.set_aspect('equal')\n",
    "    ax.grid(False)\n",
    "\n",
    "    im = ax.imshow(plotted[i], vmin=-20, vmax=20,\n",
    "                   interpolation='bilinear', origin='lower', cmap=cmap.RdBu_r)\n",
    "    \n",
    "    ax.set_title(titles[i], fontsize=axistitlesize, fontweight='bold')\n",
    "    ax.set_xlabel('x', fontsize=axislabelsize, fontweight='bold')\n",
    "    ax.set_ylabel('y', fontsize=axislabelsize, fontweight='bold')\n",
    "    ax.tick_params(axis='both', which='major', labelsize=axisticksize)\n",
    "    \n",
    "    # Create an axis on the right side of `axes`. The width of `cax` will be 5%\n",
    "    # of `axes` and the padding between `cax` and axes will be fixed at 0.1 inch\n",
    "    divider = make_axes_locatable(ax)\n",
    "    cax = divider.append_axes('right', size='5%', pad=0.1)\n",
    "    cbar = plt.colorbar(mappable=im, cax=cax)\n",
    "    cbar.ax.tick_params(labelsize=axiscbarfontsize, colors='black')\n",
    "\n",
    "plt.show()"
   ]
  },
  {
   "cell_type": "markdown",
   "metadata": {},
   "source": [
    "From this example we see that\n",
    "\n",
    "    (1) the FFT of a gaussian is a gaussian,\n",
    "    (2) the FFT is a complex quantity,\n",
    "    (2) the smaller the gaussian the bigger the FFT of it is (eg the uncertainty principle), and\n",
    "    (3) the result is centered at zero frequency just as we would expect from the 1d example.\n",
    "    \n",
    "    \n",
    "Depending on the application we must often carefully consider the centering of the input and output arrays.  Note above that the results oscillate on the pixel scale betwen positive and negative.  This is a results of the centering choices of the input array.  We must fix this with shfits just as we did in the 1D example.\n",
    "\n",
    "Here we illustrate this with the following examples.  First we shift the input array using fftshift:"
   ]
  },
  {
   "cell_type": "code",
   "execution_count": null,
   "metadata": {},
   "outputs": [],
   "source": [
    "fftsh_ga_2d = np.fft.fft2(np.fft.fftshift(gaussian_2d))"
   ]
  },
  {
   "cell_type": "code",
   "execution_count": null,
   "metadata": {},
   "outputs": [],
   "source": [
    "nrows = 1\n",
    "ncols = 3\n",
    "fig, axes = plt.subplots(nrows, ncols, figsize=(ncols*12, nrows*12))\n",
    "\n",
    "plotted = [np.fft.fftshift(gaussian_2d), fftsh_ga_2d.real, fftsh_ga_2d.imag]\n",
    "titles = ['FFT of shifted 2D gaussian', 'Real part of FFT2', 'Imaginary part of FFT2']\n",
    "\n",
    "for i in range(ncols):\n",
    "    ax = axes[i]\n",
    "    ax.set_aspect('equal')\n",
    "    ax.grid(False)\n",
    "\n",
    "    if i != 0:\n",
    "        vmin = -20\n",
    "        vmax = 20\n",
    "    else:\n",
    "        vmin = None\n",
    "        vmax = None\n",
    "    im = ax.imshow(plotted[i], vmin=vmin, vmax=vmax,\n",
    "                   interpolation='bilinear', origin='lower', cmap=cmap.RdBu_r)\n",
    "    \n",
    "    ax.set_title(titles[i], fontsize=axistitlesize, fontweight='bold')\n",
    "    ax.set_xlabel('x', fontsize=axislabelsize, fontweight='bold')\n",
    "    ax.set_ylabel('y', fontsize=axislabelsize, fontweight='bold')\n",
    "    ax.tick_params(axis='both', which='major', labelsize=axisticksize)\n",
    "    \n",
    "    # Create an axis on the right side of `axes`. The width of `cax` will be 5%\n",
    "    # of `axes` and the padding between `cax` and axes will be fixed at 0.1 inch\n",
    "    divider = make_axes_locatable(ax)\n",
    "    cax = divider.append_axes('right', size='5%', pad=0.1)\n",
    "    cbar = plt.colorbar(mappable=im, cax=cax)\n",
    "    cbar.ax.tick_params(labelsize=axiscbarfontsize, colors='black')\n",
    "\n",
    "plt.show()"
   ]
  },
  {
   "cell_type": "markdown",
   "metadata": {},
   "source": [
    "Note the FFT shift of the input array did not change the centering of the output array, but it did get rid of the oscillations.  We next also shift the output:"
   ]
  },
  {
   "cell_type": "code",
   "execution_count": null,
   "metadata": {},
   "outputs": [],
   "source": [
    "nrows = 1\n",
    "ncols = 3\n",
    "fig, axes = plt.subplots(nrows, ncols, figsize=(ncols*12, nrows*12))\n",
    "\n",
    "plotted = [np.fft.fftshift(gaussian_2d), np.fft.fftshift(fftsh_ga_2d.real), np.fft.fftshift(fftsh_ga_2d.imag)]\n",
    "titles = ['FFT of shifted 2D gaussian', 'Shifted real part of FFT2', 'Shifted imaginary part of FFT2']\n",
    "\n",
    "for i in range(ncols):\n",
    "    ax = axes[i]\n",
    "    ax.set_aspect('equal')\n",
    "    ax.grid(False)\n",
    "\n",
    "    if i != 0:\n",
    "        vmin = -20\n",
    "        vmax = 20\n",
    "    else:\n",
    "        vmin = None\n",
    "        vmax = None\n",
    "    im = ax.imshow(plotted[i], vmin=vmin, vmax=vmax,\n",
    "                   interpolation='bilinear', origin='lower', cmap=cmap.RdBu_r)\n",
    "    \n",
    "    ax.set_title(titles[i], fontsize=axistitlesize, fontweight='bold')\n",
    "    ax.set_xlabel('x', fontsize=axislabelsize, fontweight='bold')\n",
    "    ax.set_ylabel('y', fontsize=axislabelsize, fontweight='bold')\n",
    "    ax.tick_params(axis='both', which='major', labelsize=axisticksize)\n",
    "    \n",
    "    # Create an axis on the right side of `axes`. The width of `cax` will be 5%\n",
    "    # of `axes` and the padding between `cax` and axes will be fixed at 0.1 inch\n",
    "    divider = make_axes_locatable(ax)\n",
    "    cax = divider.append_axes('right', size='5%', pad=0.1)\n",
    "    cbar = plt.colorbar(mappable=im, cax=cax)\n",
    "    cbar.ax.tick_params(labelsize=axiscbarfontsize, colors='black')\n",
    "\n",
    "plt.show()"
   ]
  },
  {
   "cell_type": "markdown",
   "metadata": {},
   "source": [
    "Depending on the appliation we will shift the input and output arrays to make sense of the results."
   ]
  },
  {
   "cell_type": "markdown",
   "metadata": {},
   "source": [
    "## 2D convolution\n",
    "\n",
    "In the final example we present a 2d convolution, something that we use a lot in CMB analysis."
   ]
  },
  {
   "cell_type": "code",
   "execution_count": null,
   "metadata": {},
   "outputs": [],
   "source": [
    "map_2d = np.zeros([N, N])\n",
    "map_2d[int(N/3), int(N/3)] = 1\n",
    "map_2d[int(N*2/3), int(N*2/3)] = 0.5\n",
    "map_2d[int(N/3), int(N*2/3)] = -0.5\n",
    "map_2d[int(N*2/3), int(N/3)] = -1\n",
    "\n",
    "conv_2d = np.fft.ifft2(np.fft.fft2(np.fft.fftshift(gaussian_2d)) * np.fft.fft2(map_2d))"
   ]
  },
  {
   "cell_type": "code",
   "execution_count": null,
   "metadata": {},
   "outputs": [],
   "source": [
    "nrows = 1\n",
    "ncols = 2\n",
    "fig, axes = plt.subplots(nrows, ncols, figsize=(ncols*12, nrows*12))\n",
    "\n",
    "plotted = [map_2d, conv_2d.real]\n",
    "titles = ['Arbitrary 2D map with point sources', '2D convolution of custom map']\n",
    "\n",
    "for i in range(ncols):\n",
    "    ax = axes[i]\n",
    "    ax.set_aspect('equal')\n",
    "    ax.grid(False)\n",
    "\n",
    "    im = ax.imshow(plotted[i], vmin=-1, vmax=1,\n",
    "                   interpolation='bilinear', origin='lower', cmap=cmap.RdBu_r)\n",
    "    \n",
    "    ax.set_title(titles[i], fontsize=axistitlesize, fontweight='bold')\n",
    "    ax.set_xlabel('x', fontsize=axislabelsize, fontweight='bold')\n",
    "    ax.set_ylabel('y', fontsize=axislabelsize, fontweight='bold')\n",
    "    ax.tick_params(axis='both', which='major', labelsize=axisticksize)\n",
    "    \n",
    "    # Create an axis on the right side of `axes`. The width of `cax` will be 5%\n",
    "    # of `axes` and the padding between `cax` and axes will be fixed at 0.1 inch\n",
    "    divider = make_axes_locatable(ax)\n",
    "    cax = divider.append_axes('right', size='5%', pad=0.1)\n",
    "    cbar = plt.colorbar(mappable=im, cax=cax)\n",
    "    cbar.ax.tick_params(labelsize=axiscbarfontsize, colors='black')\n",
    "\n",
    "plt.show()"
   ]
  },
  {
   "cell_type": "markdown",
   "metadata": {},
   "source": [
    "For this applicaiton centering the kernel on zero frequency centers the peaks of the convolution on the peaks of the input map.  We will use this approach to generate realizations of point sources."
   ]
  },
  {
   "cell_type": "code",
   "execution_count": null,
   "metadata": {},
   "outputs": [],
   "source": []
  }
 ],
 "metadata": {
  "anaconda-cloud": {},
  "kernelspec": {
   "display_name": "Python 3 (ipykernel)",
   "language": "python",
   "name": "python3"
  },
  "language_info": {
   "codemirror_mode": {
    "name": "ipython",
    "version": 3
   },
   "file_extension": ".py",
   "mimetype": "text/x-python",
   "name": "python",
   "nbconvert_exporter": "python",
   "pygments_lexer": "ipython3",
   "version": "3.9.10"
  }
 },
 "nbformat": 4,
 "nbformat_minor": 4
}
