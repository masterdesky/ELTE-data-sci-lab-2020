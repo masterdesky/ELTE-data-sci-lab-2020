{
 "cells": [
  {
   "cell_type": "markdown",
   "metadata": {},
   "source": [
    "# Cosmological Analysis\n",
    "\n",
    "###  Renée Hložek and Jeff McMahon"
   ]
  },
  {
   "cell_type": "markdown",
   "metadata": {},
   "source": [
    "We are going to do a very rough example of an MCMC, using the <a href=\" https://en.wikipedia.org/wiki/Metropolis%E2%80%93Hastings_algorithm\"> Metroplis Hastings algorithm. </a>\n"
   ]
  },
  {
   "cell_type": "markdown",
   "metadata": {},
   "source": [
    "We will start by pulling CAMB python so that we can get it running. Get pycamb from https://pypi.python.org/pypi/camb/0.1.1."
   ]
  },
  {
   "cell_type": "code",
   "execution_count": null,
   "metadata": {},
   "outputs": [],
   "source": [
    "import os\n",
    "import sys\n",
    "import platform\n",
    "import numpy as np\n",
    "\n",
    "import seaborn as sns\n",
    "import matplotlib as mpl\n",
    "import matplotlib.cm as cm\n",
    "import matplotlib.pyplot as plt\n",
    "from mpl_toolkits.axes_grid1 import make_axes_locatable"
   ]
  },
  {
   "cell_type": "code",
   "execution_count": null,
   "metadata": {},
   "outputs": [],
   "source": [
    "import camb\n",
    "from camb import model, initialpower"
   ]
  },
  {
   "cell_type": "code",
   "execution_count": null,
   "metadata": {},
   "outputs": [],
   "source": [
    "data = './data/'\n",
    "out = './output/'"
   ]
  },
  {
   "cell_type": "markdown",
   "metadata": {},
   "source": [
    "### Just some matplotlib and seaborn parameter tuning"
   ]
  },
  {
   "cell_type": "code",
   "execution_count": null,
   "metadata": {},
   "outputs": [],
   "source": [
    "axistitlesize = 20\n",
    "axisticksize = 15\n",
    "axislabelsize = 23\n",
    "axislegendsize = 13\n",
    "axistextsize = 20\n",
    "axiscbarfontsize = 15\n",
    "\n",
    "# Set axtick dimensions\n",
    "major_size = 6\n",
    "major_width = 1.2\n",
    "minor_size = 3\n",
    "minor_width = 1\n",
    "mpl.rcParams['xtick.major.size'] = major_size\n",
    "mpl.rcParams['xtick.major.width'] = major_width\n",
    "mpl.rcParams['xtick.minor.size'] = minor_size\n",
    "mpl.rcParams['xtick.minor.width'] = minor_width\n",
    "mpl.rcParams['ytick.major.size'] = major_size\n",
    "mpl.rcParams['ytick.major.width'] = major_width\n",
    "mpl.rcParams['ytick.minor.size'] = minor_size\n",
    "mpl.rcParams['ytick.minor.width'] = minor_width\n",
    "\n",
    "mpl.rcParams.update({'figure.autolayout': False})\n",
    "\n",
    "# Seaborn style settings\n",
    "sns.set_style({'axes.axisbelow': True,\n",
    "               'axes.edgecolor': '.8',\n",
    "               'axes.facecolor': 'white',\n",
    "               'axes.grid': True,\n",
    "               'axes.labelcolor': '.15',\n",
    "               'axes.spines.bottom': True,\n",
    "               'axes.spines.left': True,\n",
    "               'axes.spines.right': True,\n",
    "               'axes.spines.top': True,\n",
    "               'figure.facecolor': 'white',\n",
    "               'font.family': ['sans-serif'],\n",
    "               'font.sans-serif': ['Arial',\n",
    "                'DejaVu Sans',\n",
    "                'Liberation Sans',\n",
    "                'Bitstream Vera Sans',\n",
    "                'sans-serif'],\n",
    "               'grid.color': '.8',\n",
    "               'grid.linestyle': '--',\n",
    "               'image.cmap': 'rocket',\n",
    "               'lines.solid_capstyle': 'round',\n",
    "               'patch.edgecolor': 'w',\n",
    "               'patch.force_edgecolor': True,\n",
    "               'text.color': '.15',\n",
    "               'xtick.bottom': True,\n",
    "               'xtick.color': '.15',\n",
    "               'xtick.direction': 'in',\n",
    "               'xtick.top': True,\n",
    "               'ytick.color': '.15',\n",
    "               'ytick.direction': 'in',\n",
    "               'ytick.left': True,\n",
    "               'ytick.right': True})\n",
    "\n",
    "# Colorpalettes, colormaps, etc.\n",
    "sns.set_palette(palette='rocket')"
   ]
  },
  {
   "cell_type": "markdown",
   "metadata": {},
   "source": [
    "## I. Set initial parameters for CAMB and calculate cosmology"
   ]
  },
  {
   "cell_type": "code",
   "execution_count": null,
   "metadata": {},
   "outputs": [],
   "source": [
    "# We will start by pulling initialising the CAMB params structure that we will use later\n",
    "\n",
    "# Set up a new set of parameters for CAMB\n",
    "pars = camb.CAMBparams()\n",
    "# The base cosmology model is set with these params, the others are all set to their default values\n",
    "pars.set_cosmology(H0=67.5, ombh2=0.022, omch2=0.122, mnu=0.06, omk=0, tau=0.06)\n",
    "# The initial power spectrum is set here, separately from the rest of cosmology\n",
    "pars.InitPower.set_params(ns=0.965, r=0)\n",
    "\n",
    "# Set how far in multipole we want the power spectra, and turn on defaults for the params\n",
    "pars.set_for_lmax(4400, lens_potential_accuracy=0);\n",
    "\n",
    "# Calculate results for these parameters \n",
    "# This is like \"running\" CAMB from the command line, and is the same as how it is done in CosmoMC\n",
    "results = camb.get_results(pars)\n",
    "\n",
    "# Get dictionary of CAMB power spectra\n",
    "powers = results.get_cmb_power_spectra(pars)"
   ]
  },
  {
   "cell_type": "code",
   "execution_count": null,
   "metadata": {},
   "outputs": [],
   "source": [
    "# Let's see what the power spectra are:\n",
    "for name in powers: print(name)"
   ]
  },
  {
   "cell_type": "code",
   "execution_count": null,
   "metadata": {},
   "outputs": [],
   "source": [
    "# Now we want to plot the total lensed and unlensed CMB power spectra\n",
    "CMBOutscale = 7.43e12\n",
    "totCL = powers['total']\n",
    "unlensedCL = powers['unlensed_scalar']\n",
    "# Note L = 0,1 entries will be zero by default.\n",
    "# The different Cls are always in the order TT, EE, BB, TE (with BB=0 for unlensed scalar results).\n",
    "ls = np.arange(totCL.shape[0])"
   ]
  },
  {
   "cell_type": "code",
   "execution_count": null,
   "metadata": {},
   "outputs": [],
   "source": [
    "nrows = 2\n",
    "ncols = 2\n",
    "fig, axes = plt.subplots(nrows, ncols, figsize = (ncols*11, nrows*8))\n",
    "fig.subplots_adjust(hspace=0.35)\n",
    "\n",
    "# I. ClTT\n",
    "ax = axes[0][0]\n",
    "ax.plot(ls, CMBOutscale*totCL[:,0], color='k', label='lensed')\n",
    "ax.plot(ls, CMBOutscale*unlensedCL[:,0], color='r', label='unlensed')\n",
    "ax.legend(loc=\"upper right\", fontsize=axislegendsize)\n",
    "ax.set_title('$D_{\\ell}^{TT}$', fontsize=axistitlesize)\n",
    "\n",
    "# II. ClEE\n",
    "ax = axes[0][1]\n",
    "ax.plot(ls, CMBOutscale*totCL[:,1], color='k', label='lensed')\n",
    "ax.plot(ls, CMBOutscale*unlensedCL[:,1], color='m', label='unlensed')\n",
    "ax.legend(loc=\"upper right\", fontsize=axislegendsize)\n",
    "ax.set_title('$D_{\\ell}^{EE}$', fontsize=axistitlesize)\n",
    "\n",
    "# III. ClBB\n",
    "ax = axes[1][0]\n",
    "ax.plot(ls, CMBOutscale*totCL[:,2], color='k', label='lensed')\n",
    "ax.plot(ls, CMBOutscale*unlensedCL[:,2], color='m', label='unlensed ($=0$)')\n",
    "ax.legend(loc=\"upper right\", fontsize=axislegendsize)\n",
    "ax.set_title('$D_{\\ell}^{BB}$', fontsize=axistitlesize)\n",
    "\n",
    "# IV. ClTE\n",
    "ax = axes[1][1]\n",
    "ax.plot(ls,CMBOutscale*totCL[:,3], color='k', label='lensed')\n",
    "ax.plot(ls,CMBOutscale*unlensedCL[:,3], color='c', label='unlensed')\n",
    "ax.legend(loc=\"upper right\", fontsize=axislegendsize)\n",
    "ax.set_title('$D_{\\ell}^{TE}$', fontsize=axistitlesize);\n",
    "\n",
    "for ax in axes.reshape(-1):\n",
    "    ax.set_xlim(2,4400)\n",
    "    ax.set_xlabel('Multipoles ($\\ell$)', fontsize=axislabelsize, fontweight='bold')\n",
    "    ax.tick_params(axis='both', which='major', labelsize=axisticksize,\n",
    "                   labelrotation=42)"
   ]
  },
  {
   "cell_type": "markdown",
   "metadata": {},
   "source": [
    "### Compute the $C_{\\ell}^{BB}$s over a range of parameters"
   ]
  },
  {
   "cell_type": "code",
   "execution_count": null,
   "metadata": {},
   "outputs": [],
   "source": [
    "# You can calculate spectra for different primordial power spectra without recalculating everything\n",
    "# for example, let's plot the BB mode the CMB spectra as a function of r\n",
    "pars.WantTensors = True\n",
    "results = camb.get_transfer_functions(pars)\n",
    "\n",
    "rs = np.linspace(0,0.2,6)\n",
    "\n",
    "lmax = 2000\n",
    "ell = np.arange(lmax+1)"
   ]
  },
  {
   "cell_type": "code",
   "execution_count": null,
   "metadata": {},
   "outputs": [],
   "source": [
    "fig, axes = plt.subplots(figsize=(12,8))\n",
    "for r in rs:\n",
    "    inflation_params = initialpower.InitialPowerLaw()\n",
    "    inflation_params.set_params(ns=0.96, r=r)\n",
    "    results.power_spectra_from_transfer(inflation_params)\n",
    "    cl = results.get_total_cls(lmax)\n",
    "    axes.loglog(ell, cl[:,2], label='r = {0:.2f}'.format(r),\n",
    "                lw=5, alpha=0.7)\n",
    "axes.set_xlim(2,lmax)\n",
    "\n",
    "axes.set_xlabel('Multipoles ($\\ell$)', fontsize=axislabelsize, fontweight='bold')\n",
    "axes.set_ylabel('$C_{l}^{BB}$ spectra', fontsize=axislabelsize, fontweight='bold')\n",
    "axes.tick_params(axis='both', which='major', labelsize=axisticksize,\n",
    "                 labelrotation=42)\n",
    "\n",
    "axes.legend( loc='lower right', fontsize=axislegendsize);\n",
    "\n",
    "plt.show()"
   ]
  },
  {
   "cell_type": "markdown",
   "metadata": {},
   "source": [
    "## Fake likelihood for CMB S4 TT data\n",
    "\n",
    "<font color=\"red\">NOTE</font>: This is super simplified, in general we have a much more complicated likelihood, and any other spectra will be correlated."
   ]
  },
  {
   "cell_type": "code",
   "execution_count": null,
   "metadata": {},
   "outputs": [],
   "source": [
    "bin_data = np.genfromtxt(data + 'binned_errors.dat')"
   ]
  },
  {
   "cell_type": "code",
   "execution_count": null,
   "metadata": {},
   "outputs": [],
   "source": [
    "# Fake likelihood based on realistic high-ell noise for CMB S4 data \n",
    "def s4_tt_likelihood(model):\n",
    "    model_TT = np.zeros(len(bin_data[0]))\n",
    "    indeces = np.array(bin_data[0] - 0.5, dtype='int')\n",
    "    for i, idx in enumerate(indeces):\n",
    "        model_TT[i] = model[idx]\n",
    "    \n",
    "    loglike = (bin_data[1] - model_TT)**2/(2 * bin_data[2]**2)\n",
    "    loglike =- np.sum(loglike, axis=0)\n",
    "    return loglike"
   ]
  },
  {
   "cell_type": "code",
   "execution_count": null,
   "metadata": {},
   "outputs": [],
   "source": [
    "# Let's call the module for the spectrum we have above.\n",
    "model = totCL\n",
    "ClTT = totCL[:,0]*CMBOutscale\n",
    "loglike = s4_tt_likelihood(ClTT)\n",
    "print(loglike)"
   ]
  },
  {
   "cell_type": "markdown",
   "metadata": {},
   "source": [
    "## Computing log-likelihood\n",
    "\n",
    "We are now going to call CAMB with a param vector in the same way as above, and compute the log-likelihood for this."
   ]
  },
  {
   "cell_type": "code",
   "execution_count": null,
   "metadata": {},
   "outputs": [],
   "source": [
    "# Specify the parameters for CAMB\n",
    "params = np.array([\n",
    "    67.5,    # Hubble constant (H_{0}) [(km/s)/Mpc]\n",
    "    0.022,   # Physical baryon density parameter (\\Omega_{b} h^{2}) [dim.less]\n",
    "    0.122,   # Physical dark matter density parameter (\\Omega_{c} h^{2}) [dim.less]\n",
    "    0,       # Curvature parameter (\\Omega_{k}) [dim.less]\n",
    "    0.06,    # Reionization optical depth (\\tau) [dim.less]\n",
    "    0.965    # Scalar spectral index (n_{s}) [dim.less]\n",
    "])"
   ]
  },
  {
   "cell_type": "code",
   "execution_count": null,
   "metadata": {},
   "outputs": [],
   "source": [
    "pars = camb.CAMBparams()\n",
    "pars.set_cosmology(H0=params[0], ombh2=params[1], omch2=params[2], omk=params[3], mnu=0.06, tau=params[4])\n",
    "pars.InitPower.set_params(ns=params[5], r=0)\n",
    "pars.set_for_lmax(4400, lens_potential_accuracy=0);\n",
    "\n",
    "#calculate results for these parameters\n",
    "results = camb.get_results(pars)\n",
    "\n",
    "#get dictionary of CAMB power spectra\n",
    "powers =results.get_cmb_power_spectra(pars)\n",
    "totCL=powers['total']\n",
    "model = totCL\n",
    "cltt = totCL[:,0]*CMBOutscale\n",
    "loglike = s4_tt_likelihood(cltt)\n",
    "print(loglike)"
   ]
  },
  {
   "cell_type": "markdown",
   "metadata": {},
   "source": [
    "## MCMC\n",
    "We are now ready to do the MCMC. We'll define the simplest/ugliest version of the Metropolis Hastings algorithm:"
   ]
  },
  {
   "cell_type": "code",
   "execution_count": null,
   "metadata": {},
   "outputs": [],
   "source": [
    "import pandas as pd"
   ]
  },
  {
   "cell_type": "code",
   "execution_count": null,
   "metadata": {},
   "outputs": [],
   "source": [
    "def mcmc_mh(ratln):\n",
    "    accept=False\n",
    "    r1 = np.random.rand()\n",
    "    # If the step is definitely better, we want to accept it.\n",
    "    # If it isn't necessarily better, we want to throw a random number and step if we exceed it\n",
    "    if np.exp(ratln) > r1:\n",
    "        accept=True\n",
    "    return accept"
   ]
  },
  {
   "cell_type": "code",
   "execution_count": null,
   "metadata": {},
   "outputs": [],
   "source": [
    "# Using this code above, we can take a Gaussian step specified by the step vector below\n",
    "stepvec = np.array([0.1,0.0001, 0.0001, 0, 0.005, 0.001])\n",
    "lmax = 4400\n",
    "steps = 1000                                  # Number of steps for the MCMC\n",
    "loglike = np.zeros(steps)                     # Log-likelihood values\n",
    "stepskeep = np.zeros((steps, len(params)))    # Kept steps\n",
    "\n",
    "for i in range(steps):\n",
    "    # First step of the MCMC\n",
    "    if i==0:\n",
    "        # Initialize the first step with the input parameter vector\n",
    "        step = params\n",
    "        pars = camb.CAMBparams()\n",
    "        \n",
    "        # Put the initial parameter vector into the CAMB structure\n",
    "        pars.set_cosmology(H0=step[0], ombh2=step[1], omch2=step[2], omk=step[3], mnu=0.06, tau=step[4])\n",
    "        pars.InitPower.set_params(ns=step[5], r=0)\n",
    "        pars.set_for_lmax(lmax, lens_potential_accuracy=0)\n",
    "        \n",
    "        # Compute the power spectrum\n",
    "        powers = results.get_cmb_power_spectra(pars)\n",
    "        totCL = powers['total']\n",
    "        ClTT = totCL[:,0]*CMBOutscale\n",
    "        \n",
    "        # Compute the likelihood\n",
    "        LL = s4_tt_likelihood(ClTT)\n",
    "        \n",
    "        # Always accept the first, initializing step\n",
    "        accept = True\n",
    "        \n",
    "    # Other steps\n",
    "    else:\n",
    "        # Add a Gaussian step to the parameter vector\n",
    "        step = stepskeep[i-1] + np.random.randn(len(params)) * stepvec\n",
    "        pars = camb.CAMBparams()\n",
    "        \n",
    "        # Put the updated parameter vector into the CAMB structure\n",
    "        pars.set_cosmology(H0=step[0], ombh2=step[1], omch2=step[2], omk=step[3], mnu=0.06, tau=step[4])\n",
    "        pars.InitPower.set_params(ns=step[5], r=0)\n",
    "        pars.set_for_lmax(lmax, lens_potential_accuracy=0)\n",
    "        \n",
    "        # Compute the power spectrum\n",
    "        powers = results.get_cmb_power_spectra(pars)\n",
    "        totCL = powers['total']\n",
    "        ClTT = totCL[:,0]*CMBOutscale\n",
    "        \n",
    "        # Compute the likelihood\n",
    "        LL = s4_tt_likelihood(ClTT)\n",
    "        rat = LL - loglike[i-1]\n",
    "        \n",
    "        # Test acceptance of MCMC\n",
    "        accept = mcmc_mh(rat)\n",
    "        \n",
    "    if accept:   \n",
    "        stepskeep[i] = step\n",
    "        loglike[i] = LL\n",
    "    else:\n",
    "        stepskeep[i] = stepskeep[i-1]\n",
    "        loglike[i] = loglike[i-1]\n",
    "        \n",
    "# Create a DataFrame of the created dataset and save to a csv\n",
    "df = pd.DataFrame(data=np.c_[stepskeep, loglike],\n",
    "                  columns=[\n",
    "                      'H0',\n",
    "                      'ombh2',\n",
    "                      'omch2',\n",
    "                      'omk',\n",
    "                      'tau',\n",
    "                      'ns',\n",
    "                      'loglike'\n",
    "                  ])\n",
    "df.to_csv(data + 'chain.csv', index=False)"
   ]
  },
  {
   "cell_type": "code",
   "execution_count": null,
   "metadata": {},
   "outputs": [],
   "source": [
    "# Read in the chain and LL\n",
    "df = pd.read_csv(data + 'chain.csv')"
   ]
  },
  {
   "cell_type": "code",
   "execution_count": null,
   "metadata": {},
   "outputs": [],
   "source": [
    "def is_left(j):\n",
    "    return True if j==0 else False"
   ]
  },
  {
   "cell_type": "code",
   "execution_count": null,
   "metadata": {},
   "outputs": [],
   "source": [
    "def is_bottom(i):\n",
    "    return True if i==(nrows-1) else False"
   ]
  },
  {
   "cell_type": "code",
   "execution_count": null,
   "metadata": {},
   "outputs": [],
   "source": [
    "# Last column is the log-likelihood\n",
    "columns = df.columns\n",
    "nrows = len(columns) - 1# - 1\n",
    "ncols = len(columns) - 1# - 1\n",
    "fig, axes = plt.subplots(nrows, ncols, figsize=(ncols*8, nrows*8),\n",
    "                         facecolor='black', subplot_kw={'facecolor' : 'black'})\n",
    "fig.subplots_adjust(hspace=0.1, wspace=0.1)\n",
    "\n",
    "labels = [\n",
    "    '$\\mathbf{H_{0}}$',\n",
    "    '$\\mathbf{\\Omega_{b} h^{2}}$',\n",
    "    '$\\mathbf{\\Omega_{c} h^{2}}$',\n",
    "    '$\\mathbf{\\Omega_{k}}$',\n",
    "    '$\\mathbf{\\\\tau}$',\n",
    "    '$\\mathbf{n_{s}}$'\n",
    "]\n",
    "for i in range(nrows):\n",
    "    for j in range(ncols):\n",
    "        ax = axes[i][j]\n",
    "        if i >= j:\n",
    "            ax.scatter(df[columns[j]], df[columns[i]],\n",
    "                       c=df[columns[-1]])\n",
    "            if is_bottom(i): ax.set_xlabel(labels[j], fontsize=axislabelsize, color='white')\n",
    "            if is_left(j): ax.set_ylabel(labels[i], fontsize=axislabelsize, color='white')\n",
    "            if not is_bottom(i): ax.set_xticklabels([])\n",
    "            if not is_left(j): ax.set_yticklabels([])\n",
    "            ax.tick_params(axis='both', which='major', labelsize=axisticksize,\n",
    "                           labelrotation=42, colors='white')\n",
    "        else: ax.axis('off')\n",
    "\n",
    "plt.show()"
   ]
  },
  {
   "cell_type": "code",
   "execution_count": null,
   "metadata": {},
   "outputs": [],
   "source": [
    "print('Most probable parameters for the LCDM are:')\n",
    "df.iloc[-1]"
   ]
  },
  {
   "cell_type": "markdown",
   "metadata": {},
   "source": [
    "### Create another parameter space"
   ]
  },
  {
   "cell_type": "code",
   "execution_count": null,
   "metadata": {},
   "outputs": [],
   "source": [
    "# Specify the parameters for CAMB\n",
    "params = np.array([\n",
    "    67.32,   # Hubble constant (H_{0}) [(km/s)/Mpc]\n",
    "    0.022,   # Physical baryon density parameter (\\Omega_{b} h^{2}) [dim.less]\n",
    "    0.120,   # Physical dark matter density parameter (\\Omega_{c} h^{2}) [dim.less]\n",
    "    0,       # Curvature parameter (\\Omega_{k}) [dim.less]\n",
    "    0.054,   # Reionization optical depth (\\tau) [dim.less]\n",
    "    0.966    # Scalar spectral index (n_{s}) [dim.less]\n",
    "])"
   ]
  },
  {
   "cell_type": "code",
   "execution_count": null,
   "metadata": {},
   "outputs": [],
   "source": [
    "# Vary Omega_b h^2 and n_s\n",
    "N = 20\n",
    "omegabs = np.linspace(0.01, 0.03, N)\n",
    "omegacs = np.linspace(0.08, 0.24, N)\n",
    "X, Y = np.meshgrid(omegabs, omegacs)\n",
    "\n",
    "LLs = np.zeros_like(X)"
   ]
  },
  {
   "cell_type": "code",
   "execution_count": null,
   "metadata": {},
   "outputs": [],
   "source": [
    "for i in range(N):\n",
    "    for j in range(N):\n",
    "        # Initialize the first step with the input parameter vector\n",
    "        pars = camb.CAMBparams()\n",
    "        x = X[i][j]\n",
    "        y = Y[i][j]\n",
    "        # Put the initial parameter vector into the CAMB structure\n",
    "        pars.set_cosmology(H0=params[0], ombh2=x, omch2=y, omk=params[3], mnu=0.06, tau=params[4])\n",
    "        pars.InitPower.set_params(ns=params[5], r=0)\n",
    "        pars.set_for_lmax(lmax, lens_potential_accuracy=0)\n",
    "\n",
    "        # Compute the power spectrum\n",
    "        powers = results.get_cmb_power_spectra(pars)\n",
    "        totCL = powers['total']\n",
    "        ClTT = totCL[:,0]*CMBOutscale\n",
    "\n",
    "        # Compute the likelihood\n",
    "        LLs[i][j] = s4_tt_likelihood(ClTT)"
   ]
  },
  {
   "cell_type": "code",
   "execution_count": null,
   "metadata": {},
   "outputs": [],
   "source": [
    "plt.contour(X, Y, LLs)"
   ]
  },
  {
   "cell_type": "code",
   "execution_count": null,
   "metadata": {},
   "outputs": [],
   "source": [
    "print('Most probable parameters for the LCDM are:')\n",
    "df.iloc[-1]"
   ]
  },
  {
   "cell_type": "code",
   "execution_count": null,
   "metadata": {},
   "outputs": [],
   "source": [
    "d = np.genfromtxt(data + 'CMB_fiducial_totalCls.dat')\n",
    "ell = d[:,0]\n",
    "DlTT = d[:,1]\n",
    "# Convert Dl to Cl\n",
    "ClTT = DlTT * 2 * np.pi / (ell * (ell + 1))"
   ]
  },
  {
   "cell_type": "code",
   "execution_count": null,
   "metadata": {},
   "outputs": [],
   "source": [
    "pars = camb.CAMBparams()\n",
    "# Put the updated parameter vector into the CAMB structure\n",
    "pars.set_initial_power_table(k=ell, pk=ClTT)"
   ]
  },
  {
   "cell_type": "code",
   "execution_count": null,
   "metadata": {},
   "outputs": [],
   "source": []
  }
 ],
 "metadata": {
  "anaconda-cloud": {},
  "kernelspec": {
   "display_name": "Python 3 (ipykernel)",
   "language": "python",
   "name": "python3"
  },
  "language_info": {
   "codemirror_mode": {
    "name": "ipython",
    "version": 3
   },
   "file_extension": ".py",
   "mimetype": "text/x-python",
   "name": "python",
   "nbconvert_exporter": "python",
   "pygments_lexer": "ipython3",
   "version": "3.9.10"
  }
 },
 "nbformat": 4,
 "nbformat_minor": 4
}
