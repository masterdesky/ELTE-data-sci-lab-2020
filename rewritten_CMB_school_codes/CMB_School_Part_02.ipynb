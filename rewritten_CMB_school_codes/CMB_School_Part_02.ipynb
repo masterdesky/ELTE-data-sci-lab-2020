{
 "cells": [
  {
   "cell_type": "markdown",
   "metadata": {},
   "source": [
    "# 2. Adding foregrounds to the simulated CMB\n",
    "### Original from Jeff McMahon and Renée Hložek "
   ]
  },
  {
   "cell_type": "markdown",
   "metadata": {},
   "source": [
    "The previous notebook simulated a purely CMB realisation of the sky. We now want to add in foregrounds to the CMB map. We will start by reading in the parameters we defined in the previous notebook."
   ]
  },
  {
   "cell_type": "markdown",
   "metadata": {},
   "source": [
    "## Code preliminaries"
   ]
  },
  {
   "cell_type": "code",
   "execution_count": null,
   "metadata": {},
   "outputs": [],
   "source": [
    "import os\n",
    "import sys\n",
    "import numpy as np\n",
    "\n",
    "import seaborn as sns\n",
    "import matplotlib as mpl\n",
    "import matplotlib.cm as cm\n",
    "import matplotlib.mlab as mlab\n",
    "import matplotlib.pyplot as plt\n",
    "from matplotlib.colors import LogNorm\n",
    "from mpl_toolkits.axes_grid1 import make_axes_locatable"
   ]
  },
  {
   "cell_type": "code",
   "execution_count": null,
   "metadata": {},
   "outputs": [],
   "source": [
    "from constants import *\n",
    "from cmb_modules import *"
   ]
  },
  {
   "cell_type": "code",
   "execution_count": null,
   "metadata": {},
   "outputs": [],
   "source": [
    "data = './data/'\n",
    "out = './output/'"
   ]
  },
  {
   "cell_type": "markdown",
   "metadata": {},
   "source": [
    "### Just some matplotlib and seaborn parameter tuning"
   ]
  },
  {
   "cell_type": "code",
   "execution_count": null,
   "metadata": {},
   "outputs": [],
   "source": [
    "# Set axtick dimensions\n",
    "major_size = 6\n",
    "major_width = 1.2\n",
    "minor_size = 3\n",
    "minor_width = 1\n",
    "mpl.rcParams['xtick.major.size'] = major_size\n",
    "mpl.rcParams['xtick.major.width'] = major_width\n",
    "mpl.rcParams['xtick.minor.size'] = minor_size\n",
    "mpl.rcParams['xtick.minor.width'] = minor_width\n",
    "mpl.rcParams['ytick.major.size'] = major_size\n",
    "mpl.rcParams['ytick.major.width'] = major_width\n",
    "mpl.rcParams['ytick.minor.size'] = minor_size\n",
    "mpl.rcParams['ytick.minor.width'] = minor_width\n",
    "\n",
    "mpl.rcParams.update({'figure.autolayout': False})\n",
    "\n",
    "# Seaborn style settings\n",
    "sns.set_style({'axes.axisbelow': True,\n",
    "               'axes.edgecolor': '.8',\n",
    "               'axes.facecolor': 'white',\n",
    "               'axes.grid': True,\n",
    "               'axes.labelcolor': '.15',\n",
    "               'axes.spines.bottom': True,\n",
    "               'axes.spines.left': True,\n",
    "               'axes.spines.right': True,\n",
    "               'axes.spines.top': True,\n",
    "               'figure.facecolor': 'white',\n",
    "               'font.family': ['sans-serif'],\n",
    "               'font.sans-serif': ['Arial',\n",
    "                'DejaVu Sans',\n",
    "                'Liberation Sans',\n",
    "                'Bitstream Vera Sans',\n",
    "                'sans-serif'],\n",
    "               'grid.color': '.8',\n",
    "               'grid.linestyle': '--',\n",
    "               'image.cmap': 'rocket',\n",
    "               'lines.solid_capstyle': 'round',\n",
    "               'patch.edgecolor': 'w',\n",
    "               'patch.force_edgecolor': True,\n",
    "               'text.color': '.15',\n",
    "               'xtick.bottom': True,\n",
    "               'xtick.color': '.15',\n",
    "               'xtick.direction': 'in',\n",
    "               'xtick.top': True,\n",
    "               'ytick.color': '.15',\n",
    "               'ytick.direction': 'in',\n",
    "               'ytick.left': True,\n",
    "               'ytick.right': True})\n",
    "\n",
    "# Colorpalettes, colormaps, etc.\n",
    "sns.set_palette(palette='rocket')"
   ]
  },
  {
   "cell_type": "markdown",
   "metadata": {},
   "source": [
    "## Section 1.3: Point Source Map\n",
    "\n",
    "Point sources in CMB maps arise from a number of astrophysical objects including Active Galactic Nuclei (AGN), Dust Star Forming Galaxies (DSFGs), and a bright tail of lensed DSFGs.  All of theses objects are interesting in their own right. For the purposes of our mock skies we approximate these populations as a combination of a faint distribution of sources with a poisson distribution of brightness and small number of very bright sources with and exponentially falling source count. This approximates the distribution of faint and bright sources seen in real CMB maps. The source parameters were chosen by eye to look about the same as real maps at 150 GHz. Detailed source counts have been published and can be consulted to add more reality into these simulations. Publications also detail the frequency scalings of these sources.  In general DSFGs grow brighter at higher frequencies while AGNs have a spectrum that falls with increasing frequencies. These behaviors must be included in multifrequency analyses and simulations."
   ]
  },
  {
   "cell_type": "code",
   "execution_count": null,
   "metadata": {},
   "outputs": [],
   "source": [
    "# Paramaters to set up the Poisson point source distribution\n",
    "number_of_sources  = 5000\n",
    "amplitude_of_sources = 200\n",
    "number_of_sources_EX = 50\n",
    "amplitude_of_sources_EX = 1000"
   ]
  },
  {
   "cell_type": "code",
   "execution_count": null,
   "metadata": {},
   "outputs": [],
   "source": [
    "def poisson_source_component(N_x, N_y, pix_size,\n",
    "                             number_of_sources, amplitude_of_sources):\n",
    "    \"\"\"\n",
    "    Makes a realization of the naive foreground point source map with Poisson\n",
    "    distribution.\n",
    "    \n",
    "    Parameters:\n",
    "    -----------\n",
    "    N_x : int\n",
    "        Number of pixels in the linear dimension along the X-axis.\n",
    "    N_y : int\n",
    "        Number of pixels in the linear dimension along the Y-axis.\n",
    "    pix_size : float\n",
    "        Size of a pixel in arcminutes.\n",
    "    number_of_sources : int\n",
    "        Number of Poisson distributed point sources on the source map.\n",
    "    amplitude_of_sources : float\n",
    "        Amplitude of point sources, which serves as the `lambda` parameter\n",
    "        for the Poisson-distribution used to choose random points from.\n",
    "\n",
    "    Returns:\n",
    "    --------\n",
    "    PSMap : numpy.ndarray of shape (N_x, N_y)\n",
    "        The Poisson distributed point sources marked on the map in the form of a 2D matrix.\n",
    "    \"\"\"\n",
    "    PSmap = np.zeros([N_x, N_y])\n",
    "    # We throw random numbers repeatedly with amplitudes given by a Poisson distribution around the mean amplitude\n",
    "    for i in range(number_of_sources):\n",
    "        pix_x = int(N_x*np.random.rand())\n",
    "        pix_y = int(N_y*np.random.rand()) \n",
    "        PSmap[pix_x, pix_y] += np.random.poisson(lam=amplitude_of_sources)\n",
    "\n",
    "    return PSmap"
   ]
  },
  {
   "cell_type": "code",
   "execution_count": null,
   "metadata": {},
   "outputs": [],
   "source": [
    "def exponential_source_component(N_x, N_y, pix_size,\n",
    "                                 number_of_sources_EX, amplitude_of_sources_EX):\n",
    "    \"\"\"\n",
    "    Makes a realization of the naive foreground point source map with exponential\n",
    "    distribution.\n",
    "    \n",
    "    Parameters:\n",
    "    -----------\n",
    "    N_x : int\n",
    "        Number of pixels in the linear dimension along the X-axis.\n",
    "    N_y : int\n",
    "        Number of pixels in the linear dimension along the Y-axis.\n",
    "    pix_size : float\n",
    "        Size of a pixel in arcminutes.\n",
    "    number_of_sources_EX : int\n",
    "        Number of exponentially distributed point sources on the source map.\n",
    "    amplitude_of_sources_EX : float\n",
    "        Amplitude of point sources, which serves as the scale parameter\n",
    "        for the exponential distribution\n",
    "\n",
    "    Returns:\n",
    "    --------\n",
    "    PSMap : numpy.ndarray of shape (N_x, N_y)\n",
    "        The exponentially distributed point sources marked on the map in the form of a 2D matrix.\n",
    "    \"\"\"\n",
    "    PSmap = np.zeros([N_x, N_y])\n",
    "    # We throw random numbers repeatedly with amplitudes given by an exponential\n",
    "    # distribution around the mean amplitude\n",
    "    for i in range(number_of_sources_EX):\n",
    "        pix_x = int(N_x*np.random.rand()) \n",
    "        pix_y = int(N_y*np.random.rand()) \n",
    "        PSmap[pix_x,pix_y] += np.random.exponential(scale=amplitude_of_sources_EX)\n",
    "\n",
    "    return PSmap"
   ]
  },
  {
   "cell_type": "code",
   "execution_count": null,
   "metadata": {},
   "outputs": [],
   "source": [
    "# Make a point source map by generating Poisson distributed background and\n",
    "# adding the exponentially distributed sources over that\n",
    "PSmap_p = poisson_source_component(N_x, N_y, pix_size, number_of_sources, amplitude_of_sources)\n",
    "PSmap_e = exponential_source_component(N_x, N_y, pix_size, number_of_sources_EX, amplitude_of_sources_EX)\n",
    "PSmap = PSmap_p + PSmap_e\n",
    "\n",
    "hist, bins = np.histogram(PSmap, bins=50, range=[0.001, PSmap.max()])\n",
    "width = 1.0 * np.diff(bins).min()\n",
    "centers = (bins[1:] + bins[:-1]) / 2"
   ]
  },
  {
   "cell_type": "code",
   "execution_count": null,
   "metadata": {},
   "outputs": [],
   "source": [
    "fig, axes = plt.subplots(figsize=(12, 12),\n",
    "                         facecolor='black', subplot_kw={'facecolor' : 'black'})\n",
    "\n",
    "axes.set_yscale('log')\n",
    "axes.bar(centers, hist, width=width,\n",
    "         color=cm.magma(0.93), ec='black', lw=0.5)\n",
    "\n",
    "axes.set_xlabel('Source amplitude [$\\mu$K]', fontsize=axislabelsize, fontweight='bold', color='white')\n",
    "axes.set_ylabel('Number or pixels', fontsize=axislabelsize, fontweight='bold', color='white')\n",
    "axes.tick_params(axis='both', which='major', labelsize=axisticksize, colors='white')\n",
    "\n",
    "plt.show()"
   ]
  },
  {
   "cell_type": "code",
   "execution_count": null,
   "metadata": {},
   "outputs": [],
   "source": [
    "plot_CMB_map(PSmap, X_width, Y_width,\n",
    "             cmap=None, c_min=-100, c_max=100,\n",
    "             save=True, no_axis=False, no_grid=True)"
   ]
  },
  {
   "cell_type": "markdown",
   "metadata": {},
   "source": [
    "The top plot shows a histogram of brightness of the pixels in our source map. The lower plot shows a map of the point source map we have simulated."
   ]
  },
  {
   "cell_type": "code",
   "execution_count": null,
   "metadata": {},
   "outputs": [],
   "source": [
    "# Poisson\n",
    "hist_p, bins_p = np.histogram(PSmap_p, bins=50, range=[0.001, PSmap.max()])\n",
    "width_p = 1.0 * np.diff(bins_p).min()\n",
    "centers_p = (bins_p[1:] + bins_p[:-1]) / 2\n",
    "# Exponential\n",
    "hist_e, bins_e = np.histogram(PSmap_e, bins=50, range=[0.001, PSmap.max()])\n",
    "width_e = 1.0 * np.diff(bins_e).min()\n",
    "centers_e = (bins_e[1:] + bins_e[:-1]) / 2"
   ]
  },
  {
   "cell_type": "code",
   "execution_count": null,
   "metadata": {},
   "outputs": [],
   "source": [
    "nrows = 1\n",
    "ncols = 2\n",
    "fig, axes = plt.subplots(nrows, ncols, figsize=(ncols*12, nrows*12),\n",
    "                         facecolor='black', subplot_kw={'facecolor' : 'black'})\n",
    "\n",
    "axes[0].set_yscale('log')\n",
    "axes[0].bar(centers_p, hist_p, width=width_p,\n",
    "            color=cm.magma(0.93), ec='black', lw=0.5)\n",
    "axes[1].bar(centers_e, hist_e, width=width_e,\n",
    "            color=cm.magma(0.93), ec='black', lw=0.5)\n",
    "\n",
    "titles = ['Poisson', 'exponential']\n",
    "for i in range(ncols):\n",
    "    axes[i].set_title('Histogram of {0} sources'.format(titles[i]),\n",
    "                      fontsize=axistitlesize, fontweight='bold', color='white')\n",
    "    axes[i].set_xlabel('Source amplitude [$\\mu$K]', fontsize=axislabelsize, fontweight='bold', color='white')\n",
    "    axes[i].set_ylabel('Number or pixels', fontsize=axislabelsize, fontweight='bold', color='white')\n",
    "    axes[i].tick_params(axis='both', which='major', labelsize=axisticksize, colors='white')\n",
    "\n",
    "plt.show()"
   ]
  },
  {
   "cell_type": "markdown",
   "metadata": {},
   "source": [
    "We can clearly see, that however Possion sources are more abundant, they only contribute to a very narrow slice of source amplitudes in the inverval $\\left[ 0, 500 \\right]$. In contrast the exponential sources cover a much wider range in the amplitude domain."
   ]
  },
  {
   "cell_type": "markdown",
   "metadata": {},
   "source": [
    "## Section 1.4: Sunyaev–Zeldovich map\n",
    "\n",
    "Clusters of galaxies imprint a subtle distortion into CMB maps that is most apparent on arcminute scales. While clusters of galaxies are named after the galaxies bound within them, the galaxies represent only a small fraction of the matter contained within a cluster. Roughly 80% of the baryons are not contained within galaxies, but rather exist as a cloud of gas bound within the gravitational potential well created by a dark matter halo that caries the vast majority of the mass of the cluster.  Within this well, the dilute gas becomes ionized and heated to temperatures of millions of Kelvin. Occasionally a CMB photon interacts with one of the hot electrons in this ionized gas. This interaction (inverse Compton scattering) gives the CMB photon a boost in energy. Detailed calculations show that this effect (the Sunyaev–Zeldovich or SZ effect) leads to decrement of power at frequencies below the 'null' at 220 GHz and extra power at higher frequencies. This result is redshift independent. Thus the SZ effect provides a clean way to detect clusters of galaxies and the signal which traces the electron density within the cluster. The SZ signal is a reasonably good tracer of cluster mass.\n",
    "\n",
    "For these simulations we treat each cluster as having a brightness \"beta profile\", and fix each cluster to have an identical angular size. We draw the distribution of central temperatures from the exponential distribution to simplify the code and reduce the dependance on external libraries. For more accurate simulations, a range of clusters sizes should be used, a distribution of cluster shapes (with more accurate profiles) should be considered, and the number of clusters as a function of mass and redshift should be chosen to match measurements of the cluster mass function."
   ]
  },
  {
   "cell_type": "code",
   "execution_count": null,
   "metadata": {},
   "outputs": [],
   "source": [
    "# Paramaters to set up the SZ point sources\n",
    "number_of_SZ_clusters = 500\n",
    "mean_amplitude_of_SZ_clusters = 50\n",
    "SZ_beta = 0.86\n",
    "SZ_theta_core = 1.0"
   ]
  },
  {
   "cell_type": "code",
   "execution_count": null,
   "metadata": {},
   "outputs": [],
   "source": [
    "def beta_function(N_x, N_y,\n",
    "                  X_width, Y_width, pix_size,\n",
    "                  SZ_beta, SZ_theta_core):\n",
    "    \"\"\"\n",
    "    Makes a 2D beta function map to mock the intensity spread of Sunyaev–Zeldovich\n",
    "    sources. \n",
    "    \n",
    "    Parameters:\n",
    "    -----------\n",
    "    N_x : int\n",
    "        Number of pixels in the linear dimension along the X-axis.\n",
    "    N_y : int\n",
    "        Number of pixels in the linear dimension along the Y-axis.\n",
    "    X_width : float\n",
    "        Size of the map along the X-axis in degrees.\n",
    "    Y_width : float\n",
    "        Size of the map along the Y-axis in degrees.\n",
    "    pix_size : float\n",
    "        Size of a pixel in arcminutes.\n",
    "    SZ_beta : float\n",
    "        desc\n",
    "    SZ_theta_core : float\n",
    "        desc\n",
    "\n",
    "    Returns:\n",
    "    --------\n",
    "    beta : numpy.ndarray of shape (N_x, N_y)\n",
    "    \"\"\"\n",
    "    # Calculate distances to the center of the image on the map\n",
    "    R = make_coordinates(N_x, N_y,\n",
    "                         X_width, Y_width,\n",
    "                         absolute=True)\n",
    "    \n",
    "    beta = (1 + (R/SZ_theta_core)**2)**((1 - 3*SZ_beta)/2)\n",
    "\n",
    "    return(beta)"
   ]
  },
  {
   "cell_type": "code",
   "execution_count": null,
   "metadata": {},
   "outputs": [],
   "source": [
    "def SZ_source_component(N_x, N_y,\n",
    "                        X_width, Y_width, pix_size,\n",
    "                        number_of_SZ_clusters, mean_amplitude_of_SZ_clusters,\n",
    "                        SZ_beta, SZ_theta_core):\n",
    "    \"\"\"\n",
    "    Makes a realization of a naive Sunyaev–Zeldovich effect map.\n",
    "\n",
    "    Parameters:\n",
    "    -----------\n",
    "    N_x : int\n",
    "        Number of pixels in the linear dimension along the X-axis.\n",
    "    N_y : int\n",
    "        Number of pixels in the linear dimension along the Y-axis.\n",
    "    X_width : float\n",
    "        Size of the map along the X-axis in degrees.\n",
    "    Y_width : float\n",
    "        Size of the map along the Y-axis in degrees.\n",
    "    pix_size : float\n",
    "        Size of a pixel in arcminutes.\n",
    "    number_of_SZ_clusters : int\n",
    "        Number of the Sunyaev–Zeldovich sources on the map.\n",
    "    mean_amplitude_of_SZ_clusters : float\n",
    "        Mean amplitude/size of the Sunyaev–Zeldovich sources on the map.\n",
    "    SZ_beta : float\n",
    "        desc\n",
    "    SZ_theta_core : float\n",
    "        desc\n",
    "\n",
    "    Returns:\n",
    "    --------\n",
    "    SZmap : numpy.ndarray of shape (N_x, N_y)\n",
    "        The intensity map of the generated SZ sources with beta\n",
    "        profiles.\n",
    "    SZcat : numpy.ndarray of shape (3, number_of_SZ_clusters)\n",
    "        Catalogue of SZ sources, containing (X, Y, amplitude) in each entry\n",
    "    \"\"\"\n",
    "\n",
    "    # Placeholder for the SZ map\n",
    "    SZmap = np.zeros([N_x,N_y])\n",
    "    # Catalogue of SZ sources, X, Y, amplitude\n",
    "    SZcat = np.zeros([3, number_of_SZ_clusters])\n",
    "    # Make a distribution of point sources with varying amplitude\n",
    "    for i in range(number_of_SZ_clusters):\n",
    "        pix_x = int(N_x*np.random.rand())\n",
    "        pix_y = int(N_y*np.random.rand())\n",
    "        pix_amplitude = np.random.exponential(mean_amplitude_of_SZ_clusters)*(-1)\n",
    "        SZcat[0,i] = pix_x\n",
    "        SZcat[1,i] = pix_y\n",
    "        SZcat[2,i] = pix_amplitude\n",
    "        SZmap[pix_x,pix_y] += pix_amplitude\n",
    "\n",
    "    # Make a beta function\n",
    "    beta = beta_function(N_x, N_y, X_width, Y_width, pix_size, SZ_beta, SZ_theta_core)\n",
    "\n",
    "    # Convolve the beta function with the point source amplitude to get the SZ map\n",
    "    FT_beta = np.fft.fft2(np.fft.fftshift(beta))\n",
    "    FT_SZmap = np.fft.fft2(np.fft.fftshift(SZmap))\n",
    "    SZmap = np.fft.fftshift(np.real(np.fft.ifft2(FT_beta.T*FT_SZmap)))\n",
    "\n",
    "    return SZmap, SZcat, beta"
   ]
  },
  {
   "cell_type": "code",
   "execution_count": null,
   "metadata": {},
   "outputs": [],
   "source": [
    "SZmap, SZcat, beta = SZ_source_component(N_x, N_y,\n",
    "                                         X_width, Y_width, pix_size,\n",
    "                                         number_of_SZ_clusters, mean_amplitude_of_SZ_clusters, SZ_beta, SZ_theta_core)"
   ]
  },
  {
   "cell_type": "code",
   "execution_count": null,
   "metadata": {},
   "outputs": [],
   "source": [
    "hist, bins = np.histogram(SZmap, bins=50, range=[SZmap.min(),-10])\n",
    "width = 1.0 * np.diff(bins).min()\n",
    "centers = (bins[1:] + bins[:-1]) / 2"
   ]
  },
  {
   "cell_type": "code",
   "execution_count": null,
   "metadata": {},
   "outputs": [],
   "source": [
    "fig, axes = plt.subplots(figsize=(12,12),\n",
    "                         facecolor='black', subplot_kw={'facecolor' : 'black'})\n",
    "axes.set_yscale('log')\n",
    "axes.bar(centers, hist, width=width,\n",
    "         color=cm.magma(0.93), ec='black', lw=0.5)\n",
    "axes.set_xlabel('Source amplitude [$\\mu$K]', fontsize=axislabelsize, fontweight='bold', color='white')\n",
    "axes.set_ylabel('Number of pixels', fontsize=axislabelsize, fontweight='bold', color='white')\n",
    "axes.tick_params(axis='both', which='major', labelsize=axisticksize, colors='white')\n",
    "plt.show()"
   ]
  },
  {
   "cell_type": "code",
   "execution_count": null,
   "metadata": {},
   "outputs": [],
   "source": [
    "plot_CMB_map(SZmap, X_width, Y_width, c_min=-400, c_max=400,\n",
    "             save=True, save_filename='SZ_sources.png')"
   ]
  },
  {
   "cell_type": "markdown",
   "metadata": {},
   "source": [
    "The top plot shows the a histogram of the SZ-decrements from our simulated SZ cluster map. The bottom plot shows our simulated SZ map. This map is at 150 GHz."
   ]
  },
  {
   "cell_type": "markdown",
   "metadata": {},
   "source": [
    "### Some notes on reality\n",
    "\n",
    "In reality the cluster radii vary from cluster to cluster.  For reference the radius depends on redshift and mass. The number of clusters as a function of mass and redshift is called the cluster 'mass function' which is a sensitive cosmological proble.\n",
    "\n",
    "To enhance the realism of our sims, we could divide the simulated cluster sample into an extremely large radius sample (1 cluster with a 30 arcminute radius, comparable to the Comma cluster; the largest cluster on the sky), a large radius bin (10%) clusters with 5 arcminute radius), a medium bin (30%) with 2 arcminute radius, and a small bin (60% with 0.5 arcminute radius).  "
   ]
  },
  {
   "cell_type": "markdown",
   "metadata": {},
   "source": [
    "## 1.5 Full Sky Map\n",
    "\n",
    "The sky map is a combination of the CMB anisotropy, a point source map, and an SZ map.  In an appendix we add the impact of CMB lensing."
   ]
  },
  {
   "cell_type": "code",
   "execution_count": null,
   "metadata": {},
   "outputs": [],
   "source": [
    "# Read in the input CMB spectra\n",
    "data = np.genfromtxt(data + 'CAMB_fiducial_cosmo_scalCls.dat',)\n",
    "ell = data[:,0]\n",
    "DlTT = data[:,1]\n",
    "ell_err = data[:,2]\n",
    "DlTT_err = data[:,3]"
   ]
  },
  {
   "cell_type": "code",
   "execution_count": null,
   "metadata": {},
   "outputs": [],
   "source": [
    "# Create a pure CMB map\n",
    "CMB_I, ell2d, ClTT2d, FT_2d = make_CMB_I_map(ell, DlTT, N_x=N_x, N_y=N_y,\n",
    "                                             X_width=X_width, Y_width=Y_width, pix_size=pix_size,\n",
    "                                             random_seed=42)\n",
    "\n",
    "# Add them all together to get the sky map at a single freuqency\n",
    "total_map = CMB_I + PSmap + SZmap"
   ]
  },
  {
   "cell_type": "code",
   "execution_count": null,
   "metadata": {},
   "outputs": [],
   "source": [
    "plot_CMB_map(total_map, X_width, Y_width, c_min=c_min, c_max=c_max,\n",
    "             save=False, no_axis=False, no_grid=True)"
   ]
  },
  {
   "cell_type": "markdown",
   "metadata": {},
   "source": [
    "This plot shows our simulated map that includes CMB, point source, and SZ cluster signals.  Note that the sources seem brighter than what we saw in the real observed maps.   This is not a mistake, as will be seen after we fold in the beam (point spread function) of the instrument."
   ]
  }
 ],
 "metadata": {
  "anaconda-cloud": {},
  "kernelspec": {
   "display_name": "Python 3 (ipykernel)",
   "language": "python",
   "name": "python3"
  },
  "language_info": {
   "codemirror_mode": {
    "name": "ipython",
    "version": 3
   },
   "file_extension": ".py",
   "mimetype": "text/x-python",
   "name": "python",
   "nbconvert_exporter": "python",
   "pygments_lexer": "ipython3",
   "version": "3.9.10"
  }
 },
 "nbformat": 4,
 "nbformat_minor": 4
}
