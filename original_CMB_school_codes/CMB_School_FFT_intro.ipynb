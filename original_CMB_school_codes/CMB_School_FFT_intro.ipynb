{
 "cells": [
  {
   "cell_type": "markdown",
   "metadata": {},
   "source": [
    "# Introduction to Fourier Theory and iPython Notebooks\n",
    "\n",
    "Renee Hlozek and Jeff McMahon"
   ]
  },
  {
   "cell_type": "markdown",
   "metadata": {},
   "source": [
    "We will take a look at what Fourier transforms do in 1D and 2D.  In its simplest form, a 1D Fourier transform takes a time-varying function, measures possible cycles it contains, and returns the amplitude, offset and rotation for all cycles that were found.\n",
    "\n",
    "An iPython Notebook consists of a standard and efficient Python back end with a web-based interface.  The interface includs both text boxes and code boxes.  The text boxes support latex math and the output of the code (both text and plots) are all stored in the document.  All cells in a given notebook share the same namespace.  This arrangement allows for increadibly well documnted code that is easy to read and support.\n",
    "\n",
    "To get started with this intro, we must first import a number of python libraries."
   ]
  },
  {
   "cell_type": "code",
   "execution_count": null,
   "metadata": {},
   "outputs": [],
   "source": [
    "import matplotlib   # plotting libraries  \n",
    "import matplotlib.pyplot as plt   # plotting libraries  \n",
    "import cmath as cm  # complex math\n",
    "import pylab as pl  # plotting and numerical routines\n",
    "import numpy as np  # numerical routines \n",
    "import matplotlib.cm as cmap  ## color map for 2d plotting\n",
    "\n",
    "pi2 = cm.pi * 2.0   # a useful constatn: 2 * pi\n",
    "# the next line is an \"magic word\" that puts the plots into the notebook rather than external\n",
    "%matplotlib inline  "
   ]
  },
  {
   "cell_type": "markdown",
   "metadata": {},
   "source": [
    "We start by writing our own <a href=\"https://en.wikipedia.org/wiki/Discrete_Fourier_transform\">discrete Fourier transform</a>\n",
    "\n",
    "$$X_k = \\sum_{n=0}^{N-1} x_n e^{-2\\pi i k n / N}$$\n",
    "\n",
    "\n",
    "With every Fourier trasform routine, make sure to check the normalisation and sign conventions."
   ]
  },
  {
   "cell_type": "code",
   "execution_count": null,
   "metadata": {},
   "outputs": [],
   "source": [
    "def fourier(x):\n",
    "    N = len(x)\n",
    "    fourier = np.zeros(N,dtype=complex)\n",
    "    for k in range(N):\n",
    "        fouriern=0\n",
    "        for n in range(N):\n",
    "            fouriern += x[n]*cm.exp(-1j*pi2*k*n/N)\n",
    "        fourier[k]=fouriern\n",
    "    return fourier"
   ]
  },
  {
   "cell_type": "markdown",
   "metadata": {},
   "source": [
    "The inverse Fourier trasnform is defined as:\n",
    "\n",
    "$$X_n = \\frac 1 N \\sum_{n=0}^{N-1} x_k e^{2\\pi i k n / N}$$\n"
   ]
  },
  {
   "cell_type": "code",
   "execution_count": null,
   "metadata": {},
   "outputs": [],
   "source": [
    "def inv_fourier(X):\n",
    "    N = len(X)\n",
    "    inv_fourier = np.zeros(N, dtype=complex)\n",
    "    for n in range(N):\n",
    "        inv_fourierk=0\n",
    "        for k in range(N):\n",
    "            inv_fourierk += X[k]*cm.exp(1j*pi2*n*k/N)\n",
    "        inv_fourier[n] = inv_fourierk/N\n",
    "    return inv_fourier"
   ]
  },
  {
   "cell_type": "markdown",
   "metadata": {},
   "source": [
    " We want to test our code by inserting a sine wave signal and then checking that:\n",
    "\n",
    "    (1) our Fourier transform matches the fft transform from within numpy\n",
    "    (2) that if we inverse transform the Fourier transform we get the original wave back!\n",
    "\n",
    "First we create an input sine wave signal:"
   ]
  },
  {
   "cell_type": "code",
   "execution_count": null,
   "metadata": {},
   "outputs": [],
   "source": [
    "N = 1024 # degrees (Number of samples)\n",
    "a = 50 #float(np.random.randint(1, 100))  ## random integer (amplitude) between 0 and 100\n",
    "f = 50. #float(np.random.randint(1, 50))  ## random integer (frequency) between 0 and 50\n",
    "p = 12 #float(np.random.randint(0, 360))  ## random integer (phase) between 0 and 360\n",
    "\n",
    "## print out the sine wave paramaters \n",
    "print(\"Input Sine Wave Paramaters:\")\n",
    "print(\"frequency = \" + str(f))   ## not that strings can be added in python, very convenient\n",
    "print(\"amplitude = \" + str(a))\n",
    "print(\"phase ang = \" + str(p))\n",
    "\n",
    "## make a pure sine wave array\n",
    "t = np.arange(0,N, dtype=complex)/N   ## a time variable from 0 to 1\n",
    "fn = a * np.sin(pi2* f * t + p / 360. * pi2)   ## the pure sine wave \n",
    "pl.figure(figsize=(10, 6))  ## this resizes the figure to make it fit the screen\n",
    "pl.plot(t,fn.real)\n",
    "pl.xlabel(\"time [arb]\")\n",
    "pl.ylabel(\"amplitude [arb]\")\n",
    "pl.show()"
   ]
  },
  {
   "cell_type": "markdown",
   "metadata": {},
   "source": [
    "Next we calculate the Fourier trasnfomrm using our fourier transform funciton and examine the results.  \n",
    "\n",
    "NOTE:  Given the normalization convention we have adopted we use the inverse FFT to go from time to frequency to ensure that we get a meanigful amplitude out of our results.   "
   ]
  },
  {
   "cell_type": "code",
   "execution_count": null,
   "metadata": {},
   "outputs": [],
   "source": [
    "fouriertrans = inv_fourier(fn)  ## inverse FFT using our code\n",
    "\n",
    "pl.figure(figsize=(10, 6))  ## this resizes the figure to make it fit the screen\n",
    "pl.xlabel(\"FFT index\")\n",
    "pl.ylabel(\"amplitude [arb]\")\n",
    "pl.title(\"FFT results vs FFT index\")\n",
    "pl.plot((fouriertrans.real),'b',)\n",
    "pl.plot((fouriertrans.imag),'r:')"
   ]
  },
  {
   "cell_type": "markdown",
   "metadata": {},
   "source": [
    "Notes: \n",
    "\n",
    "    (1) The output of the FFT includes both positive and negative freuqnecy components (right and left going waves) as the algorythem can not distinguish these two cases.  \n",
    "    \n",
    "    (2) The amplitude of the waves is given by the quadrature sum of the real and imaginary parts (e.g., the magnitude of the complex FFT).\n",
    "\n",
    "    (3) Zero frequency occurs left of the array, not in the center.   Thus you have to be very careful interpreting the frequency content.   For reference, the arrangement is right going waves on the left counting up to the max frequnecy in the array, then left going waves counting down to the first non-zero frequency on the right.\n",
    "    \n",
    "\n",
    "Next we create an a frequency array in the same indexing scheme of the FFT.  We do this by identifiying the highest frequnecy that can be encoded within our array (See the Nyqyist-Shannon sampling theorem).  This is called the Nyquist frequency and is calculated as $f_{Nyquist} = 1/T_{sample}/2$, where $T_{sample}$ is the time between samples."
   ]
  },
  {
   "cell_type": "code",
   "execution_count": null,
   "metadata": {},
   "outputs": [],
   "source": [
    "## make an array to represent the frequency\n",
    "delta_t = (t[1]-t[0]).real  ## the step size for the t grid\n",
    "freq_nyquist = 1/delta_t/2.\n",
    "print(\"Nyquist frequency: \", freq_nyquist)\n",
    "\n",
    "\n",
    "freq = np.roll(np.linspace(-1,1,N)*freq_nyquist,int(N/2))\n",
    "\n",
    "## plot the freuency array\n",
    "pl.figure(figsize=(10, 6))  ## this resizes the figure to make it fit the screen\n",
    "pl.xlabel(\"index\")\n",
    "pl.ylabel(\"frequency[arb]\")\n",
    "pl.title(\"FFT frequency\")\n",
    "pl.plot(freq,'b', label='freq')\n",
    "pl.plot()\n",
    "pl.show()"
   ]
  },
  {
   "cell_type": "markdown",
   "metadata": {},
   "source": [
    "As expected the zero frequency is on the left and the maximum frequency is in the middle.  The sign of the frequency encodes right vs left going waves.\n",
    "\n",
    "Now that we have the frequency array we can plot the FFT vs frequency and easily interpret the results."
   ]
  },
  {
   "cell_type": "code",
   "execution_count": null,
   "metadata": {},
   "outputs": [],
   "source": [
    "## make a plot of the real and imaginary parts of the FFT\n",
    "pl.figure(figsize=(10, 6))  ## this resizes the figure to make it fit the screen\n",
    "pl.xlabel(\"frequency[arb]\")\n",
    "pl.ylabel(\"amplitude [arb]\")\n",
    "pl.title(\"FFT results vs frequency\")\n",
    "pl.plot(freq,(fouriertrans.real),'b',label='real')\n",
    "pl.plot(freq,(fouriertrans.imag),'r:', label='imag')\n",
    "leg = plt.legend(loc='best')\n",
    "pl.axis([-100,100,-50,50])\n",
    "pl.show()"
   ]
  },
  {
   "cell_type": "markdown",
   "metadata": {},
   "source": [
    "<font color='red'>EXCERCISE: </font> Connvince yourself that the inverse FFT is giving the correct amplitude and frequency results.\n"
   ]
  },
  {
   "cell_type": "markdown",
   "metadata": {},
   "source": [
    "Next we verify that the FFT and iFFT are in fact inverse functions:"
   ]
  },
  {
   "cell_type": "code",
   "execution_count": null,
   "metadata": {},
   "outputs": [],
   "source": [
    "invfouriertrans = fourier(fouriertrans)\n",
    "pl.clf()\n",
    "pl.figure(figsize=(10, 6))\n",
    "pl.plot(invfouriertrans, 'r--', label='inv fourier')\n",
    "pl.plot(fn.real, 'b:', label='real')\n",
    "plt.legend(loc='best')\n",
    "pl.show()\n",
    "print(\"maximum difference between the results:\", np.max(np.abs(invfouriertrans - fn)),\"<- this should be zero within rounding error.\")"
   ]
  },
  {
   "cell_type": "markdown",
   "metadata": {},
   "source": [
    "In the final 1-d excercise we check that the Numpy implemntation of the FFT is identical to our implemntation"
   ]
  },
  {
   "cell_type": "code",
   "execution_count": null,
   "metadata": {},
   "outputs": [],
   "source": [
    "ftpl = np.fft.ifft(fn)       ## FFT using numpy code\n",
    "\n",
    "## make a plot comparing these functions\n",
    "pl.figure(figsize=(10, 6))  ## this resizes the figure to make it fit the screen\n",
    "pl.xlabel(\"frequency[arb]\")\n",
    "pl.ylabel(\"amplitude [arb]\")\n",
    "pl.plot(freq,np.abs(ftpl))\n",
    "pl.plot(freq,np.abs(fouriertrans),'r:')\n",
    "pl.show()\n",
    "## calculate the maximum difference\n",
    "print(\"maximum difference between the results:\", np.max(np.abs(fouriertrans - ftpl)),\"<- this should be zero within rounding error.\")"
   ]
  },
  {
   "cell_type": "markdown",
   "metadata": {},
   "source": [
    "Unsurprisingly the two algorythems agree within numerical rounding errors.\n",
    "\n",
    "<font color='red'>EXCERCISE: </font> Write code to generate a few functions where we know the Fourier transform well, eg. a Gaussian, a delta function etc. Use the code above and plot the FTs of these functions. Use the numpy code to check!"
   ]
  },
  {
   "cell_type": "code",
   "execution_count": null,
   "metadata": {},
   "outputs": [],
   "source": [
    "# Your code here"
   ]
  },
  {
   "cell_type": "markdown",
   "metadata": {},
   "source": [
    "# Convolutions\n",
    "\n",
    "The <a href=\"https://en.wikipedia.org/wiki/Convolution\">convolution</a> of two discretely sampled (with $N$ samples) functions $f_i$ and $g_i$ is defined as $$(f * g)_k = \\sum_{i=0}^{N-1} f_k g_{i-k}$$.\n",
    "\n",
    "In other words, to calcuate the convolution: (1) muplitply two functions and sum them to get a number and (2) repeat the procedure for all possible offsets.\n",
    "\n",
    "In the following example we compute the convolution of a gaussina with a two delta functions."
   ]
  },
  {
   "cell_type": "code",
   "execution_count": null,
   "metadata": {},
   "outputs": [],
   "source": [
    "from scipy.stats import chi2\n",
    "import numpy as np\n",
    "f = np.zeros(N)\n",
    "f[int(N/6)] = 1.\n",
    "f[int(N*5/6)] = 1.\n",
    "\n",
    "\n",
    "gauss=True\n",
    "\n",
    "if chi2:\n",
    "    \n",
    "    g = chi2.pdf(np.real(t), 55)\n",
    "    g = g/np.max(g)\n",
    "if gauss:\n",
    "    g = np.exp(-5 * ((t-np.mean(t))/.1)**2.)\n",
    "\n",
    "def convolution(f,g):\n",
    "    g=g[::-1]\n",
    "    N = np.size(f)\n",
    "    conv = np.zeros(N)\n",
    "    \n",
    "    i = 0\n",
    "    while (i <N):\n",
    "        conv[i] = np.sum(f *np.roll(g,i))\n",
    "        i+=1\n",
    "    return(conv)\n",
    "\n",
    "conv = convolution(f,g)\n",
    "\n",
    "\n",
    "pl.plot(t,f, label='f')\n",
    "pl.plot(t,g, label='g')\n",
    "pl.plot(t,conv,\"r\", label='convolution')\n",
    "plt.legend(loc='best')\n",
    "pl.axis([np.min(t),np.max(t),0,1.2])\n",
    "\n",
    "pl.xlabel(\"frequency[arb]\")\n",
    "pl.ylabel(\"amplitude [arb]\")\n",
    "#pl.title(\"f (blue), g(green), and the convolution of these (red)\")\n",
    "pl.show()"
   ]
  },
  {
   "cell_type": "markdown",
   "metadata": {},
   "source": [
    "If you selected \"gaussian\" to be true, note that since the green Gaussian curve is centered between the functions: the convolution peaks at points when the offsets center the gaussian on the blue delta functions.  For our applicaitons we often want to center the results such that the convolution peaks directly on the delta functions.  To do this we must center the convolving kernal (again Gaussian or $\\chi^2$ depending on what you chose above) at zero frequency which following the convention in the FFT is the left edge of the array.  We do this in the following example."
   ]
  },
  {
   "cell_type": "code",
   "execution_count": null,
   "metadata": {},
   "outputs": [],
   "source": [
    "conv_prev = convolution(f,g)\n",
    "# Roll the function g by the Nyquist frequency to shift it\n",
    "conv = convolution(f,np.roll(g,int(N/2)))\n",
    "\n",
    "\n",
    "pl.plot(t,f, label='f')\n",
    "pl.plot(t,g, label='g')\n",
    "pl.plot(t,conv_prev,\"r\", label='convolution')\n",
    "pl.plot(t,conv,\"m\", label='convolution shifted')\n",
    "plt.legend(loc='best')\n",
    "pl.axis([np.min(t),np.max(t),0,1.2])\n",
    "\n",
    "pl.xlabel(\"frequency[arb]\")\n",
    "pl.ylabel(\"amplitude [arb]\")\n",
    "pl.title(\"f (blue), g(green), and the convoliution of these (red)\")\n",
    "pl.show()"
   ]
  },
  {
   "cell_type": "markdown",
   "metadata": {},
   "source": [
    "Given the uniquity of the need to center convolutions this way numpy has an \"fftshift\" function built in to do this, rather than us using the roll function. The fftshift computes the Nyquist frequency if the lenght of the vector is even, and shifts by that amount, so that the zero-frequency component is at the center of the spectrum.\n",
    "\n",
    "Speed is a big issue in convolutions.  Conveniently there is a way to massively accelerate this algorythem using the FFT with the convolution theorem:\n",
    "$$(f * g) = iFFT(FFT(f) * FFT(g)). $$\n",
    "In other words the convoluiton is the inverse fourier transform of the product of the fourier transforms of the two functions."
   ]
  },
  {
   "cell_type": "code",
   "execution_count": null,
   "metadata": {},
   "outputs": [],
   "source": []
  },
  {
   "cell_type": "code",
   "execution_count": null,
   "metadata": {},
   "outputs": [],
   "source": [
    "def fft_convolve(f,g):\n",
    "    \n",
    "    FFTf = fourier(f)\n",
    "    FFTg = fourier(g)\n",
    "    conv = inv_fourier(FFTf*FFTg)\n",
    "    return conv\n",
    "\n",
    "conv = fft_convolve(f,np.roll(g,int(N/2)))\n",
    "npconv = fft_convolve(f,np.fft.fftshift(g))\n",
    "\n",
    "pl.plot(t,f, label='f')\n",
    "pl.plot(t,g, label='g')\n",
    "pl.plot(t,conv,':r', label=\"convolution with roll\")\n",
    "pl.plot(t,npconv,'--m', label=\"convolution with fftshift\")\n",
    "plt.legend(loc='best')\n",
    "pl.axis([np.min(t),np.max(t),0,1.2])\n",
    "\n",
    "pl.xlabel(\"frequency[arb]\")\n",
    "pl.ylabel(\"amplitude [arb]\")\n",
    "pl.show()"
   ]
  },
  {
   "cell_type": "markdown",
   "metadata": {},
   "source": [
    "as expected the results are the same for this method as for the direct method"
   ]
  },
  {
   "cell_type": "markdown",
   "metadata": {},
   "source": [
    "## Centering and FFTs\n",
    "\n",
    "Centering of the input to the FFT is realted to the phase in the output.  In the following example (which is a cautionary tale) we see how offsetting the input can result in a strong phase modultion (eg rotation beteen real and imaginary) in the ouput."
   ]
  },
  {
   "cell_type": "code",
   "execution_count": null,
   "metadata": {},
   "outputs": [],
   "source": [
    "g = np.exp(-5 * ((t-np.mean(t))/.1)**2.)\n",
    "\n",
    "## default centering\n",
    "pl.plot(t,np.fft.fftshift(np.real(np.fft.fft(g))),\"b\", label='real, default')\n",
    "pl.plot(t,np.fft.fftshift(np.imag(np.fft.fft(g))),\"b--\", label='imag, default')\n",
    "## with a shift of the input\n",
    "pl.plot(t,np.fft.fftshift(np.real(np.fft.fft(np.fft.fftshift(g)))),\"r\",label='real, shift')\n",
    "pl.plot(t,np.fft.fftshift(np.imag(np.fft.fft(np.fft.fftshift(g)))),\"r--\", label='imag, shift')\n",
    "## labels etc\n",
    "pl.xlabel(\"time [arb]\")\n",
    "pl.ylabel(\"amplitude of the real part\")\n",
    "plt.legend(loc='best')\n",
    "#pl.title(\"FFT results for default centering (blue) and shifted(red). Real part is continuous, imaginary part is dashed\")\n",
    "pl.axis([0.45,.55,-100,100])"
   ]
  },
  {
   "cell_type": "markdown",
   "metadata": {},
   "source": [
    "It is clear that both centerings give the same info, but the phase has been rotated to make the result purely real by shifting the input before the FFT.  If you see oscillaitons in your FFT results, this is almost always what is happening."
   ]
  },
  {
   "cell_type": "markdown",
   "metadata": {},
   "source": [
    "# Two dimensional FFTs\n",
    "\n",
    "FFT2 implements the fourier transform in two dimensions. We will use the fft2 functionality of Numpy extensively in this course so here we build a few examples.   First we will generate a 2D gaussian and visualize its 2d fft."
   ]
  },
  {
   "cell_type": "code",
   "execution_count": null,
   "metadata": {},
   "outputs": [],
   "source": [
    "## first make a coordinate system\n",
    "N = 256\n",
    "x,y = np.meshgrid(np.linspace(-1,1,N),np.linspace(-1,1,N)) ## make a 2d array of x and y coordinates\n",
    "r = np.sqrt(x**2 + y**2)  ## calculate the radial coordinate of each pixel\n",
    "\n",
    "## now make a 2d gaussian\n",
    "gaussian_2d = np.exp(-.5 *(r/.05)**2)\n",
    "\n",
    "## now plot the gaussian\n",
    "pl.imshow(gaussian_2d, interpolation='bilinear', origin='lower',cmap=cmap.RdBu_r)"
   ]
  },
  {
   "cell_type": "code",
   "execution_count": null,
   "metadata": {},
   "outputs": [],
   "source": [
    "fft_ga_2d = np.fft.fft2(gaussian_2d)  ## calcualte the 2d FFT of our gaussian\n",
    "im = pl.imshow(np.real(fft_ga_2d), interpolation='bilinear', origin='lower',cmap=cmap.RdBu_r)\n",
    "im.set_clim(-20,20)\n",
    "plt.colorbar()\n",
    "pl.title('Real part of FFT2')\n",
    "pl.show()\n",
    "im = pl.imshow(np.imag(fft_ga_2d), interpolation='bilinear', origin='lower',cmap=cmap.RdBu_r)\n",
    "im.set_clim(-20,20)\n",
    "plt.colorbar()\n",
    "pl.title('Imaginary part of FFT2')\n",
    "pl.show()"
   ]
  },
  {
   "cell_type": "markdown",
   "metadata": {},
   "source": [
    "From this example we see that\n",
    "\n",
    "    (1) the FFT of a gaussian is a gaussian,\n",
    "    (2) the FFT is a complex quantity,\n",
    "    (2) the smaller the gaussian the bigger the FFT of it is (eg the uncertainty principle), and\n",
    "    (3) the result is centered at zero frequency just as we would expect from the 1d example.\n",
    "    \n",
    "    \n",
    "Depending on the application we must often carefully consider the centering of the input and output arrays.  Note above that the results oscillate on the pixel scale betwen positive and negative.  This is a results of the centering choices of the input array.  We must fix this with shfits just as we did in the 1D example.\n",
    "\n",
    "Here we illustrate this with the following examples.  First we shift the input array using fftshift:"
   ]
  },
  {
   "cell_type": "code",
   "execution_count": null,
   "metadata": {},
   "outputs": [],
   "source": [
    "pl.imshow(np.fft.fftshift(gaussian_2d), interpolation='bilinear', origin='lower',cmap=cmap.RdBu_r)\n",
    "plt.colorbar()\n",
    "pl.show()\n",
    "fft_ga_2d = np.fft.fft2(np.fft.fftshift(gaussian_2d))  ## calcualte the 2d FFT of our gaussian\n",
    "im = pl.imshow(np.real(fft_ga_2d), interpolation='bilinear', origin='lower',cmap=cmap.RdBu_r)\n",
    "im.set_clim(-20,20)\n",
    "plt.colorbar()\n",
    "pl.show()\n",
    "im = pl.imshow(np.imag(fft_ga_2d), interpolation='bilinear', origin='lower',cmap=cmap.RdBu_r)\n",
    "im.set_clim(-20,20)\n",
    "plt.colorbar()\n",
    "pl.show()\n"
   ]
  },
  {
   "cell_type": "markdown",
   "metadata": {},
   "source": [
    "Note the FFT shift of the input array did not change the centering of the output array, but it did get rid of the oscillations.  We next also shift the output:"
   ]
  },
  {
   "cell_type": "code",
   "execution_count": null,
   "metadata": {},
   "outputs": [],
   "source": [
    "pl.imshow(np.fft.fftshift(gaussian_2d), interpolation='bilinear', origin='lower',cmap=cmap.RdBu_r)\n",
    "pl.show()\n",
    "fft_ga_2d = np.fft.fft2(np.fft.fftshift(gaussian_2d))  ## calcualte the 2d FFT of our gaussian\n",
    "im = pl.imshow(np.fft.fftshift(np.real(fft_ga_2d)), interpolation='bilinear', origin='lower',cmap=cmap.RdBu_r)\n",
    "im.set_clim(-20,20)\n",
    "plt.colorbar()\n",
    "plt.title('Real part of shifted FFT')\n",
    "pl.show()\n",
    "im = pl.imshow(np.fft.fftshift(np.imag(fft_ga_2d)), interpolation='bilinear', origin='lower',cmap=cmap.RdBu_r)\n",
    "im.set_clim(-20,20)\n",
    "plt.colorbar()\n",
    "plt.title('Imag part of shifted FFT')\n",
    "pl.show()\n",
    "\n"
   ]
  },
  {
   "cell_type": "markdown",
   "metadata": {},
   "source": [
    "Depending on the appliation we will shift the input and output arrays to make sense of the results."
   ]
  },
  {
   "cell_type": "markdown",
   "metadata": {},
   "source": [
    "## 2D convolution\n",
    "\n",
    "In the final example we present a 2d convolution, something that we use a lot in CMB analysis."
   ]
  },
  {
   "cell_type": "code",
   "execution_count": null,
   "metadata": {},
   "outputs": [],
   "source": [
    "input = np.zeros([N,N])\n",
    "input[int(N/3),int(N/3)] = 1\n",
    "input[int(N*2/3),int(N*2/3)] = .5\n",
    "input[int(N/3),int(N*2/3)] = -.5\n",
    "input[int(N*2/3),int(N/3)] = -1\n",
    "\n",
    "im = pl.imshow(input, interpolation='bilinear', origin='lower',cmap=cmap.RdBu_r)\n",
    "im.set_clim(-1.,1.)\n",
    "plt.colorbar()\n",
    "pl.show()\n",
    "\n",
    "convolution = np.fft.ifft2(np.fft.fft2(np.fft.fftshift(gaussian_2d)) * np.fft.fft2(input))\n",
    "\n",
    "im = pl.imshow(np.real(convolution), interpolation='bilinear', origin='lower',cmap=cmap.RdBu_r)\n",
    "im.set_clim(-1.,1.)\n",
    "plt.colorbar()\n",
    "pl.show()"
   ]
  },
  {
   "cell_type": "markdown",
   "metadata": {},
   "source": [
    "For this applicaiton centering the kernel on zero frequency centers the peaks of the convolution on the peaks of the input map.  We will use this approach to generate realizations of point sources."
   ]
  },
  {
   "cell_type": "code",
   "execution_count": null,
   "metadata": {},
   "outputs": [],
   "source": []
  }
 ],
 "metadata": {
  "anaconda-cloud": {},
  "kernelspec": {
   "display_name": "Python 3 (ipykernel)",
   "language": "python",
   "name": "python3"
  },
  "language_info": {
   "codemirror_mode": {
    "name": "ipython",
    "version": 3
   },
   "file_extension": ".py",
   "mimetype": "text/x-python",
   "name": "python",
   "nbconvert_exporter": "python",
   "pygments_lexer": "ipython3",
   "version": "3.9.10"
  }
 },
 "nbformat": 4,
 "nbformat_minor": 4
}
